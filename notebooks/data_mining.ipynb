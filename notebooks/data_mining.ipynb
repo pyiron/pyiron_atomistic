{
 "cells": [
  {
   "cell_type": "markdown",
   "metadata": {},
   "source": "# Data mining using pyiron tables"
  },
  {
   "cell_type": "markdown",
   "metadata": {},
   "source": "In this example, the data mining capabilities of pyiron using the `PyironTables` class is demonstrated by computing and contrasting the ground state properties of fcc-Al using various force fields."
  },
  {
   "cell_type": "code",
   "execution_count": 1,
   "metadata": {
    "trusted": true
   },
   "outputs": [
    {
     "data": {
      "application/vnd.jupyter.widget-view+json": {
       "model_id": "421b0d147ff84b3985d5439a2aeaf31a",
       "version_major": 2,
       "version_minor": 0
      },
      "text/plain": ""
     },
     "metadata": {},
     "output_type": "display_data"
    }
   ],
   "source": [
    "from pyiron_atomistics import Project\n",
    "import numpy as np"
   ]
  },
  {
   "cell_type": "code",
   "execution_count": 2,
   "metadata": {
    "trusted": true
   },
   "outputs": [],
   "source": [
    "pr = Project(\"potential_scan\")"
   ]
  },
  {
   "cell_type": "markdown",
   "metadata": {},
   "source": "## Creating a dummy job to get list of potentials\n\nIn order to get the list of available LAMMPS potentials, a dummy job with an Al bulk structure is created"
  },
  {
   "cell_type": "code",
   "execution_count": 3,
   "metadata": {
    "trusted": true
   },
   "outputs": [],
   "source": [
    "dummy_job = pr.create.job.Lammps(\"dummy_job\")\n",
    "dummy_job.structure = pr.create.structure.ase.bulk(\"Al\")\n",
    "# Chosing only select potentials to run (you can play with these valuess)\n",
    "num_potentials = 5\n",
    "potential_list = dummy_job.list_potentials()[:num_potentials]"
   ]
  },
  {
   "cell_type": "markdown",
   "metadata": {},
   "source": "## Creating a Murnaghan job for each potential in their respective subprojects\n\nA separate Murnaghan job (to compute equilibrium lattice constant and the bulk modulus) is created and run for every potential"
  },
  {
   "cell_type": "code",
   "execution_count": 4,
   "metadata": {
    "trusted": true
   },
   "outputs": [
    {
     "name": "stdout",
     "output_type": "stream",
     "text": "The job murn_Al was saved and received the ID: 1\nThe job murn_Al_0_9 was saved and received the ID: 2\nThe job murn_Al_0_92 was saved and received the ID: 3\nThe job murn_Al_0_94 was saved and received the ID: 4\nThe job murn_Al_0_96 was saved and received the ID: 5\nThe job murn_Al_0_98 was saved and received the ID: 6\nThe job murn_Al_1_0 was saved and received the ID: 7\nThe job murn_Al_1_02 was saved and received the ID: 8\nThe job murn_Al_1_04 was saved and received the ID: 9\nThe job murn_Al_1_06 was saved and received the ID: 10\nThe job murn_Al_1_08 was saved and received the ID: 11\nThe job murn_Al_1_1 was saved and received the ID: 12\nThe job murn_Al was saved and received the ID: 13\nThe job murn_Al_0_9 was saved and received the ID: 14\nThe job murn_Al_0_92 was saved and received the ID: 15\nThe job murn_Al_0_94 was saved and received the ID: 16\nThe job murn_Al_0_96 was saved and received the ID: 17\nThe job murn_Al_0_98 was saved and received the ID: 18\nThe job murn_Al_1_0 was saved and received the ID: 19\nThe job murn_Al_1_02 was saved and received the ID: 20\nThe job murn_Al_1_04 was saved and received the ID: 21\nThe job murn_Al_1_06 was saved and received the ID: 22\nThe job murn_Al_1_08 was saved and received the ID: 23\nThe job murn_Al_1_1 was saved and received the ID: 24\n"
    },
    {
     "name": "stderr",
     "output_type": "stream",
     "text": "2024-05-07 11:57:00,322 - pyiron_log - WARNING - Minimum could not be found!\n"
    },
    {
     "name": "stdout",
     "output_type": "stream",
     "text": "The job murn_Al was saved and received the ID: 25\nThe job murn_Al_0_9 was saved and received the ID: 26\nThe job murn_Al_0_92 was saved and received the ID: 27\nThe job murn_Al_0_94 was saved and received the ID: 28\nThe job murn_Al_0_96 was saved and received the ID: 29\nThe job murn_Al_0_98 was saved and received the ID: 30\nThe job murn_Al_1_0 was saved and received the ID: 31\nThe job murn_Al_1_02 was saved and received the ID: 32\nThe job murn_Al_1_04 was saved and received the ID: 33\nThe job murn_Al_1_06 was saved and received the ID: 34\nThe job murn_Al_1_08 was saved and received the ID: 35\nThe job murn_Al_1_1 was saved and received the ID: 36\nThe job murn_Al was saved and received the ID: 37\nThe job murn_Al_0_9 was saved and received the ID: 38\nThe job murn_Al_0_92 was saved and received the ID: 39\nThe job murn_Al_0_94 was saved and received the ID: 40\nThe job murn_Al_0_96 was saved and received the ID: 41\nThe job murn_Al_0_98 was saved and received the ID: 42\nThe job murn_Al_1_0 was saved and received the ID: 43\nThe job murn_Al_1_02 was saved and received the ID: 44\nThe job murn_Al_1_04 was saved and received the ID: 45\nThe job murn_Al_1_06 was saved and received the ID: 46\nThe job murn_Al_1_08 was saved and received the ID: 47\nThe job murn_Al_1_1 was saved and received the ID: 48\nThe job murn_Al was saved and received the ID: 49\nThe job murn_Al_0_9 was saved and received the ID: 50\nThe job murn_Al_0_92 was saved and received the ID: 51\nThe job murn_Al_0_94 was saved and received the ID: 52\nThe job murn_Al_0_96 was saved and received the ID: 53\nThe job murn_Al_0_98 was saved and received the ID: 54\nThe job murn_Al_1_0 was saved and received the ID: 55\nThe job murn_Al_1_02 was saved and received the ID: 56\nThe job murn_Al_1_04 was saved and received the ID: 57\nThe job murn_Al_1_06 was saved and received the ID: 58\nThe job murn_Al_1_08 was saved and received the ID: 59\nThe job murn_Al_1_1 was saved and received the ID: 60\n"
    }
   ],
   "source": [
    "for pot in potential_list:\n",
    "    pot_str = pot.replace(\"-\", \"_\")\n",
    "    # open a subproject within a project\n",
    "    with pr.open(pot_str) as pr_sub:\n",
    "        # no need for unique job name if in different subprojects\n",
    "        job_name = \"murn_Al\"\n",
    "        # Use the subproject to create the jobs\n",
    "        murn = pr_sub.create.job.Murnaghan(job_name)\n",
    "        job_ref = pr_sub.create.job.Lammps(\"Al_ref\")\n",
    "        job_ref.structure = pr.create.structure.ase.bulk(\"Al\", cubic=True)\n",
    "        job_ref.potential = pot\n",
    "        job_ref.calc_minimize()\n",
    "        murn.ref_job = job_ref\n",
    "        # Some potentials may not work with certain LAMMPS compilations.\n",
    "        # Therefore, we need to have a little exception handling\n",
    "        try:\n",
    "            murn.run()\n",
    "        except RuntimeError:\n",
    "            pass"
   ]
  },
  {
   "cell_type": "markdown",
   "metadata": {},
   "source": "If you inspect the job table, you would find that each Murnaghan job generates various small LAMMPS jobs (see column `hamilton`). Some of these jobs might have failed with status `aborted`."
  },
  {
   "cell_type": "code",
   "execution_count": 5,
   "metadata": {
    "trusted": true
   },
   "outputs": [
    {
     "data": {
      "text/html": "<div>\n<style scoped>\n    .dataframe tbody tr th:only-of-type {\n        vertical-align: middle;\n    }\n\n    .dataframe tbody tr th {\n        vertical-align: top;\n    }\n\n    .dataframe thead th {\n        text-align: right;\n    }\n</style>\n<table border=\"1\" class=\"dataframe\">\n  <thead>\n    <tr style=\"text-align: right;\">\n      <th></th>\n      <th>id</th>\n      <th>status</th>\n      <th>chemicalformula</th>\n      <th>job</th>\n      <th>subjob</th>\n      <th>projectpath</th>\n      <th>project</th>\n      <th>timestart</th>\n      <th>timestop</th>\n      <th>totalcputime</th>\n      <th>computer</th>\n      <th>hamilton</th>\n      <th>hamversion</th>\n      <th>parentid</th>\n      <th>masterid</th>\n    </tr>\n  </thead>\n  <tbody>\n    <tr>\n      <th>0</th>\n      <td>1</td>\n      <td>finished</td>\n      <td>Al4</td>\n      <td>murn_Al</td>\n      <td>/murn_Al</td>\n      <td>None</td>\n      <td>/home/jovyan/potential_scan/1995__Angelo_J_E__Ni_Al_H__LAMMPS__ipr1/</td>\n      <td>2024-05-07 11:56:22.037894</td>\n      <td>2024-05-07 11:56:41.684506</td>\n      <td>19.0</td>\n      <td>pyiron@jupyter-pyiron-2dpyiron-5fatomistics-2d813x8ptr#1#11/11</td>\n      <td>Murnaghan</td>\n      <td>0.3.0</td>\n      <td>None</td>\n      <td>NaN</td>\n    </tr>\n    <tr>\n      <th>1</th>\n      <td>2</td>\n      <td>finished</td>\n      <td>Al4</td>\n      <td>murn_Al_0_9</td>\n      <td>/murn_Al_0_9</td>\n      <td>None</td>\n      <td>/home/jovyan/potential_scan/1995__Angelo_J_E__Ni_Al_H__LAMMPS__ipr1/murn_Al_hdf5/</td>\n      <td>2024-05-07 11:56:30.446682</td>\n      <td>2024-05-07 11:56:31.188388</td>\n      <td>0.0</td>\n      <td>pyiron@jupyter-pyiron-2dpyiron-5fatomistics-2d813x8ptr#1</td>\n      <td>Lammps</td>\n      <td>0.1</td>\n      <td>None</td>\n      <td>1.0</td>\n    </tr>\n    <tr>\n      <th>2</th>\n      <td>3</td>\n      <td>finished</td>\n      <td>Al4</td>\n      <td>murn_Al_0_92</td>\n      <td>/murn_Al_0_92</td>\n      <td>None</td>\n      <td>/home/jovyan/potential_scan/1995__Angelo_J_E__Ni_Al_H__LAMMPS__ipr1/murn_Al_hdf5/</td>\n      <td>2024-05-07 11:56:31.470085</td>\n      <td>2024-05-07 11:56:32.218726</td>\n      <td>0.0</td>\n      <td>pyiron@jupyter-pyiron-2dpyiron-5fatomistics-2d813x8ptr#1</td>\n      <td>Lammps</td>\n      <td>0.1</td>\n      <td>None</td>\n      <td>1.0</td>\n    </tr>\n    <tr>\n      <th>3</th>\n      <td>4</td>\n      <td>finished</td>\n      <td>Al4</td>\n      <td>murn_Al_0_94</td>\n      <td>/murn_Al_0_94</td>\n      <td>None</td>\n      <td>/home/jovyan/potential_scan/1995__Angelo_J_E__Ni_Al_H__LAMMPS__ipr1/murn_Al_hdf5/</td>\n      <td>2024-05-07 11:56:32.497862</td>\n      <td>2024-05-07 11:56:33.228454</td>\n      <td>0.0</td>\n      <td>pyiron@jupyter-pyiron-2dpyiron-5fatomistics-2d813x8ptr#1</td>\n      <td>Lammps</td>\n      <td>0.1</td>\n      <td>None</td>\n      <td>1.0</td>\n    </tr>\n    <tr>\n      <th>4</th>\n      <td>5</td>\n      <td>finished</td>\n      <td>Al4</td>\n      <td>murn_Al_0_96</td>\n      <td>/murn_Al_0_96</td>\n      <td>None</td>\n      <td>/home/jovyan/potential_scan/1995__Angelo_J_E__Ni_Al_H__LAMMPS__ipr1/murn_Al_hdf5/</td>\n      <td>2024-05-07 11:56:33.570989</td>\n      <td>2024-05-07 11:56:34.301978</td>\n      <td>0.0</td>\n      <td>pyiron@jupyter-pyiron-2dpyiron-5fatomistics-2d813x8ptr#1</td>\n      <td>Lammps</td>\n      <td>0.1</td>\n      <td>None</td>\n      <td>1.0</td>\n    </tr>\n    <tr>\n      <th>5</th>\n      <td>6</td>\n      <td>finished</td>\n      <td>Al4</td>\n      <td>murn_Al_0_98</td>\n      <td>/murn_Al_0_98</td>\n      <td>None</td>\n      <td>/home/jovyan/potential_scan/1995__Angelo_J_E__Ni_Al_H__LAMMPS__ipr1/murn_Al_hdf5/</td>\n      <td>2024-05-07 11:56:34.576265</td>\n      <td>2024-05-07 11:56:35.290545</td>\n      <td>0.0</td>\n      <td>pyiron@jupyter-pyiron-2dpyiron-5fatomistics-2d813x8ptr#1</td>\n      <td>Lammps</td>\n      <td>0.1</td>\n      <td>None</td>\n      <td>1.0</td>\n    </tr>\n    <tr>\n      <th>6</th>\n      <td>7</td>\n      <td>finished</td>\n      <td>Al4</td>\n      <td>murn_Al_1_0</td>\n      <td>/murn_Al_1_0</td>\n      <td>None</td>\n      <td>/home/jovyan/potential_scan/1995__Angelo_J_E__Ni_Al_H__LAMMPS__ipr1/murn_Al_hdf5/</td>\n      <td>2024-05-07 11:56:35.571002</td>\n      <td>2024-05-07 11:56:36.353216</td>\n      <td>0.0</td>\n      <td>pyiron@jupyter-pyiron-2dpyiron-5fatomistics-2d813x8ptr#1</td>\n      <td>Lammps</td>\n      <td>0.1</td>\n      <td>None</td>\n      <td>1.0</td>\n    </tr>\n    <tr>\n      <th>7</th>\n      <td>8</td>\n      <td>finished</td>\n      <td>Al4</td>\n      <td>murn_Al_1_02</td>\n      <td>/murn_Al_1_02</td>\n      <td>None</td>\n      <td>/home/jovyan/potential_scan/1995__Angelo_J_E__Ni_Al_H__LAMMPS__ipr1/murn_Al_hdf5/</td>\n      <td>2024-05-07 11:56:36.629701</td>\n      <td>2024-05-07 11:56:37.340504</td>\n      <td>0.0</td>\n      <td>pyiron@jupyter-pyiron-2dpyiron-5fatomistics-2d813x8ptr#1</td>\n      <td>Lammps</td>\n      <td>0.1</td>\n      <td>None</td>\n      <td>1.0</td>\n    </tr>\n    <tr>\n      <th>8</th>\n      <td>9</td>\n      <td>finished</td>\n      <td>Al4</td>\n      <td>murn_Al_1_04</td>\n      <td>/murn_Al_1_04</td>\n      <td>None</td>\n      <td>/home/jovyan/potential_scan/1995__Angelo_J_E__Ni_Al_H__LAMMPS__ipr1/murn_Al_hdf5/</td>\n      <td>2024-05-07 11:56:37.615662</td>\n      <td>2024-05-07 11:56:38.326108</td>\n      <td>0.0</td>\n      <td>pyiron@jupyter-pyiron-2dpyiron-5fatomistics-2d813x8ptr#1</td>\n      <td>Lammps</td>\n      <td>0.1</td>\n      <td>None</td>\n      <td>1.0</td>\n    </tr>\n    <tr>\n      <th>9</th>\n      <td>10</td>\n      <td>finished</td>\n      <td>Al4</td>\n      <td>murn_Al_1_06</td>\n      <td>/murn_Al_1_06</td>\n      <td>None</td>\n      <td>/home/jovyan/potential_scan/1995__Angelo_J_E__Ni_Al_H__LAMMPS__ipr1/murn_Al_hdf5/</td>\n      <td>2024-05-07 11:56:38.598443</td>\n      <td>2024-05-07 11:56:39.359821</td>\n      <td>0.0</td>\n      <td>pyiron@jupyter-pyiron-2dpyiron-5fatomistics-2d813x8ptr#1</td>\n      <td>Lammps</td>\n      <td>0.1</td>\n      <td>None</td>\n      <td>1.0</td>\n    </tr>\n    <tr>\n      <th>10</th>\n      <td>11</td>\n      <td>finished</td>\n      <td>Al4</td>\n      <td>murn_Al_1_08</td>\n      <td>/murn_Al_1_08</td>\n      <td>None</td>\n      <td>/home/jovyan/potential_scan/1995__Angelo_J_E__Ni_Al_H__LAMMPS__ipr1/murn_Al_hdf5/</td>\n      <td>2024-05-07 11:56:39.638707</td>\n      <td>2024-05-07 11:56:40.384918</td>\n      <td>0.0</td>\n      <td>pyiron@jupyter-pyiron-2dpyiron-5fatomistics-2d813x8ptr#1</td>\n      <td>Lammps</td>\n      <td>0.1</td>\n      <td>None</td>\n      <td>1.0</td>\n    </tr>\n    <tr>\n      <th>11</th>\n      <td>12</td>\n      <td>finished</td>\n      <td>Al4</td>\n      <td>murn_Al_1_1</td>\n      <td>/murn_Al_1_1</td>\n      <td>None</td>\n      <td>/home/jovyan/potential_scan/1995__Angelo_J_E__Ni_Al_H__LAMMPS__ipr1/murn_Al_hdf5/</td>\n      <td>2024-05-07 11:56:40.659000</td>\n      <td>2024-05-07 11:56:41.407774</td>\n      <td>0.0</td>\n      <td>pyiron@jupyter-pyiron-2dpyiron-5fatomistics-2d813x8ptr#1</td>\n      <td>Lammps</td>\n      <td>0.1</td>\n      <td>None</td>\n      <td>1.0</td>\n    </tr>\n    <tr>\n      <th>12</th>\n      <td>13</td>\n      <td>not_converged</td>\n      <td>Al4</td>\n      <td>murn_Al</td>\n      <td>/murn_Al</td>\n      <td>None</td>\n      <td>/home/jovyan/potential_scan/1996__Farkas_D__Nb_Ti_Al__LAMMPS__ipr1/</td>\n      <td>2024-05-07 11:56:41.931111</td>\n      <td>2024-05-07 11:57:00.327541</td>\n      <td>18.0</td>\n      <td>pyiron@jupyter-pyiron-2dpyiron-5fatomistics-2d813x8ptr#1#11/11</td>\n      <td>Murnaghan</td>\n      <td>0.3.0</td>\n      <td>None</td>\n      <td>NaN</td>\n    </tr>\n    <tr>\n      <th>13</th>\n      <td>14</td>\n      <td>finished</td>\n      <td>Al4</td>\n      <td>murn_Al_0_9</td>\n      <td>/murn_Al_0_9</td>\n      <td>None</td>\n      <td>/home/jovyan/potential_scan/1996__Farkas_D__Nb_Ti_Al__LAMMPS__ipr1/murn_Al_hdf5/</td>\n      <td>2024-05-07 11:56:42.241398</td>\n      <td>2024-05-07 11:56:43.627848</td>\n      <td>1.0</td>\n      <td>pyiron@jupyter-pyiron-2dpyiron-5fatomistics-2d813x8ptr#1</td>\n      <td>Lammps</td>\n      <td>0.1</td>\n      <td>None</td>\n      <td>13.0</td>\n    </tr>\n    <tr>\n      <th>14</th>\n      <td>15</td>\n      <td>finished</td>\n      <td>Al4</td>\n      <td>murn_Al_0_92</td>\n      <td>/murn_Al_0_92</td>\n      <td>None</td>\n      <td>/home/jovyan/potential_scan/1996__Farkas_D__Nb_Ti_Al__LAMMPS__ipr1/murn_Al_hdf5/</td>\n      <td>2024-05-07 11:56:43.909801</td>\n      <td>2024-05-07 11:56:45.268343</td>\n      <td>1.0</td>\n      <td>pyiron@jupyter-pyiron-2dpyiron-5fatomistics-2d813x8ptr#1</td>\n      <td>Lammps</td>\n      <td>0.1</td>\n      <td>None</td>\n      <td>13.0</td>\n    </tr>\n    <tr>\n      <th>15</th>\n      <td>16</td>\n      <td>finished</td>\n      <td>Al4</td>\n      <td>murn_Al_0_94</td>\n      <td>/murn_Al_0_94</td>\n      <td>None</td>\n      <td>/home/jovyan/potential_scan/1996__Farkas_D__Nb_Ti_Al__LAMMPS__ipr1/murn_Al_hdf5/</td>\n      <td>2024-05-07 11:56:45.551457</td>\n      <td>2024-05-07 11:56:46.907282</td>\n      <td>1.0</td>\n      <td>pyiron@jupyter-pyiron-2dpyiron-5fatomistics-2d813x8ptr#1</td>\n      <td>Lammps</td>\n      <td>0.1</td>\n      <td>None</td>\n      <td>13.0</td>\n    </tr>\n    <tr>\n      <th>16</th>\n      <td>17</td>\n      <td>finished</td>\n      <td>Al4</td>\n      <td>murn_Al_0_96</td>\n      <td>/murn_Al_0_96</td>\n      <td>None</td>\n      <td>/home/jovyan/potential_scan/1996__Farkas_D__Nb_Ti_Al__LAMMPS__ipr1/murn_Al_hdf5/</td>\n      <td>2024-05-07 11:56:47.211666</td>\n      <td>2024-05-07 11:56:48.570955</td>\n      <td>1.0</td>\n      <td>pyiron@jupyter-pyiron-2dpyiron-5fatomistics-2d813x8ptr#1</td>\n      <td>Lammps</td>\n      <td>0.1</td>\n      <td>None</td>\n      <td>13.0</td>\n    </tr>\n    <tr>\n      <th>17</th>\n      <td>18</td>\n      <td>finished</td>\n      <td>Al4</td>\n      <td>murn_Al_0_98</td>\n      <td>/murn_Al_0_98</td>\n      <td>None</td>\n      <td>/home/jovyan/potential_scan/1996__Farkas_D__Nb_Ti_Al__LAMMPS__ipr1/murn_Al_hdf5/</td>\n      <td>2024-05-07 11:56:48.856773</td>\n      <td>2024-05-07 11:56:50.214337</td>\n      <td>1.0</td>\n      <td>pyiron@jupyter-pyiron-2dpyiron-5fatomistics-2d813x8ptr#1</td>\n      <td>Lammps</td>\n      <td>0.1</td>\n      <td>None</td>\n      <td>13.0</td>\n    </tr>\n    <tr>\n      <th>18</th>\n      <td>19</td>\n      <td>finished</td>\n      <td>Al4</td>\n      <td>murn_Al_1_0</td>\n      <td>/murn_Al_1_0</td>\n      <td>None</td>\n      <td>/home/jovyan/potential_scan/1996__Farkas_D__Nb_Ti_Al__LAMMPS__ipr1/murn_Al_hdf5/</td>\n      <td>2024-05-07 11:56:50.492117</td>\n      <td>2024-05-07 11:56:51.877517</td>\n      <td>1.0</td>\n      <td>pyiron@jupyter-pyiron-2dpyiron-5fatomistics-2d813x8ptr#1</td>\n      <td>Lammps</td>\n      <td>0.1</td>\n      <td>None</td>\n      <td>13.0</td>\n    </tr>\n    <tr>\n      <th>19</th>\n      <td>20</td>\n      <td>finished</td>\n      <td>Al4</td>\n      <td>murn_Al_1_02</td>\n      <td>/murn_Al_1_02</td>\n      <td>None</td>\n      <td>/home/jovyan/potential_scan/1996__Farkas_D__Nb_Ti_Al__LAMMPS__ipr1/murn_Al_hdf5/</td>\n      <td>2024-05-07 11:56:52.175269</td>\n      <td>2024-05-07 11:56:53.526252</td>\n      <td>1.0</td>\n      <td>pyiron@jupyter-pyiron-2dpyiron-5fatomistics-2d813x8ptr#1</td>\n      <td>Lammps</td>\n      <td>0.1</td>\n      <td>None</td>\n      <td>13.0</td>\n    </tr>\n    <tr>\n      <th>20</th>\n      <td>21</td>\n      <td>finished</td>\n      <td>Al4</td>\n      <td>murn_Al_1_04</td>\n      <td>/murn_Al_1_04</td>\n      <td>None</td>\n      <td>/home/jovyan/potential_scan/1996__Farkas_D__Nb_Ti_Al__LAMMPS__ipr1/murn_Al_hdf5/</td>\n      <td>2024-05-07 11:56:53.823944</td>\n      <td>2024-05-07 11:56:55.169724</td>\n      <td>1.0</td>\n      <td>pyiron@jupyter-pyiron-2dpyiron-5fatomistics-2d813x8ptr#1</td>\n      <td>Lammps</td>\n      <td>0.1</td>\n      <td>None</td>\n      <td>13.0</td>\n    </tr>\n    <tr>\n      <th>21</th>\n      <td>22</td>\n      <td>finished</td>\n      <td>Al4</td>\n      <td>murn_Al_1_06</td>\n      <td>/murn_Al_1_06</td>\n      <td>None</td>\n      <td>/home/jovyan/potential_scan/1996__Farkas_D__Nb_Ti_Al__LAMMPS__ipr1/murn_Al_hdf5/</td>\n      <td>2024-05-07 11:56:55.452733</td>\n      <td>2024-05-07 11:56:56.817063</td>\n      <td>1.0</td>\n      <td>pyiron@jupyter-pyiron-2dpyiron-5fatomistics-2d813x8ptr#1</td>\n      <td>Lammps</td>\n      <td>0.1</td>\n      <td>None</td>\n      <td>13.0</td>\n    </tr>\n    <tr>\n      <th>22</th>\n      <td>23</td>\n      <td>finished</td>\n      <td>Al4</td>\n      <td>murn_Al_1_08</td>\n      <td>/murn_Al_1_08</td>\n      <td>None</td>\n      <td>/home/jovyan/potential_scan/1996__Farkas_D__Nb_Ti_Al__LAMMPS__ipr1/murn_Al_hdf5/</td>\n      <td>2024-05-07 11:56:57.094456</td>\n      <td>2024-05-07 11:56:58.420056</td>\n      <td>1.0</td>\n      <td>pyiron@jupyter-pyiron-2dpyiron-5fatomistics-2d813x8ptr#1</td>\n      <td>Lammps</td>\n      <td>0.1</td>\n      <td>None</td>\n      <td>13.0</td>\n    </tr>\n    <tr>\n      <th>23</th>\n      <td>24</td>\n      <td>finished</td>\n      <td>Al4</td>\n      <td>murn_Al_1_1</td>\n      <td>/murn_Al_1_1</td>\n      <td>None</td>\n      <td>/home/jovyan/potential_scan/1996__Farkas_D__Nb_Ti_Al__LAMMPS__ipr1/murn_Al_hdf5/</td>\n      <td>2024-05-07 11:56:58.699734</td>\n      <td>2024-05-07 11:57:00.098762</td>\n      <td>1.0</td>\n      <td>pyiron@jupyter-pyiron-2dpyiron-5fatomistics-2d813x8ptr#1</td>\n      <td>Lammps</td>\n      <td>0.1</td>\n      <td>None</td>\n      <td>13.0</td>\n    </tr>\n    <tr>\n      <th>24</th>\n      <td>25</td>\n      <td>finished</td>\n      <td>Al4</td>\n      <td>murn_Al</td>\n      <td>/murn_Al</td>\n      <td>None</td>\n      <td>/home/jovyan/potential_scan/1997__Liu_X_Y__Al_Mg__LAMMPS__ipr1/</td>\n      <td>2024-05-07 11:57:00.603392</td>\n      <td>2024-05-07 11:57:10.813639</td>\n      <td>10.0</td>\n      <td>pyiron@jupyter-pyiron-2dpyiron-5fatomistics-2d813x8ptr#1#11/11</td>\n      <td>Murnaghan</td>\n      <td>0.3.0</td>\n      <td>None</td>\n      <td>NaN</td>\n    </tr>\n    <tr>\n      <th>25</th>\n      <td>26</td>\n      <td>finished</td>\n      <td>Al4</td>\n      <td>murn_Al_0_9</td>\n      <td>/murn_Al_0_9</td>\n      <td>None</td>\n      <td>/home/jovyan/potential_scan/1997__Liu_X_Y__Al_Mg__LAMMPS__ipr1/murn_Al_hdf5/</td>\n      <td>2024-05-07 11:57:00.922187</td>\n      <td>2024-05-07 11:57:01.519597</td>\n      <td>0.0</td>\n      <td>pyiron@jupyter-pyiron-2dpyiron-5fatomistics-2d813x8ptr#1</td>\n      <td>Lammps</td>\n      <td>0.1</td>\n      <td>None</td>\n      <td>25.0</td>\n    </tr>\n    <tr>\n      <th>26</th>\n      <td>27</td>\n      <td>finished</td>\n      <td>Al4</td>\n      <td>murn_Al_0_92</td>\n      <td>/murn_Al_0_92</td>\n      <td>None</td>\n      <td>/home/jovyan/potential_scan/1997__Liu_X_Y__Al_Mg__LAMMPS__ipr1/murn_Al_hdf5/</td>\n      <td>2024-05-07 11:57:01.791976</td>\n      <td>2024-05-07 11:57:02.438493</td>\n      <td>0.0</td>\n      <td>pyiron@jupyter-pyiron-2dpyiron-5fatomistics-2d813x8ptr#1</td>\n      <td>Lammps</td>\n      <td>0.1</td>\n      <td>None</td>\n      <td>25.0</td>\n    </tr>\n    <tr>\n      <th>27</th>\n      <td>28</td>\n      <td>finished</td>\n      <td>Al4</td>\n      <td>murn_Al_0_94</td>\n      <td>/murn_Al_0_94</td>\n      <td>None</td>\n      <td>/home/jovyan/potential_scan/1997__Liu_X_Y__Al_Mg__LAMMPS__ipr1/murn_Al_hdf5/</td>\n      <td>2024-05-07 11:57:02.723466</td>\n      <td>2024-05-07 11:57:03.357677</td>\n      <td>0.0</td>\n      <td>pyiron@jupyter-pyiron-2dpyiron-5fatomistics-2d813x8ptr#1</td>\n      <td>Lammps</td>\n      <td>0.1</td>\n      <td>None</td>\n      <td>25.0</td>\n    </tr>\n    <tr>\n      <th>28</th>\n      <td>29</td>\n      <td>finished</td>\n      <td>Al4</td>\n      <td>murn_Al_0_96</td>\n      <td>/murn_Al_0_96</td>\n      <td>None</td>\n      <td>/home/jovyan/potential_scan/1997__Liu_X_Y__Al_Mg__LAMMPS__ipr1/murn_Al_hdf5/</td>\n      <td>2024-05-07 11:57:03.643719</td>\n      <td>2024-05-07 11:57:04.274098</td>\n      <td>0.0</td>\n      <td>pyiron@jupyter-pyiron-2dpyiron-5fatomistics-2d813x8ptr#1</td>\n      <td>Lammps</td>\n      <td>0.1</td>\n      <td>None</td>\n      <td>25.0</td>\n    </tr>\n    <tr>\n      <th>29</th>\n      <td>30</td>\n      <td>finished</td>\n      <td>Al4</td>\n      <td>murn_Al_0_98</td>\n      <td>/murn_Al_0_98</td>\n      <td>None</td>\n      <td>/home/jovyan/potential_scan/1997__Liu_X_Y__Al_Mg__LAMMPS__ipr1/murn_Al_hdf5/</td>\n      <td>2024-05-07 11:57:04.550120</td>\n      <td>2024-05-07 11:57:05.111960</td>\n      <td>0.0</td>\n      <td>pyiron@jupyter-pyiron-2dpyiron-5fatomistics-2d813x8ptr#1</td>\n      <td>Lammps</td>\n      <td>0.1</td>\n      <td>None</td>\n      <td>25.0</td>\n    </tr>\n    <tr>\n      <th>30</th>\n      <td>31</td>\n      <td>finished</td>\n      <td>Al4</td>\n      <td>murn_Al_1_0</td>\n      <td>/murn_Al_1_0</td>\n      <td>None</td>\n      <td>/home/jovyan/potential_scan/1997__Liu_X_Y__Al_Mg__LAMMPS__ipr1/murn_Al_hdf5/</td>\n      <td>2024-05-07 11:57:05.395961</td>\n      <td>2024-05-07 11:57:06.029891</td>\n      <td>0.0</td>\n      <td>pyiron@jupyter-pyiron-2dpyiron-5fatomistics-2d813x8ptr#1</td>\n      <td>Lammps</td>\n      <td>0.1</td>\n      <td>None</td>\n      <td>25.0</td>\n    </tr>\n    <tr>\n      <th>31</th>\n      <td>32</td>\n      <td>finished</td>\n      <td>Al4</td>\n      <td>murn_Al_1_02</td>\n      <td>/murn_Al_1_02</td>\n      <td>None</td>\n      <td>/home/jovyan/potential_scan/1997__Liu_X_Y__Al_Mg__LAMMPS__ipr1/murn_Al_hdf5/</td>\n      <td>2024-05-07 11:57:06.323635</td>\n      <td>2024-05-07 11:57:06.952051</td>\n      <td>0.0</td>\n      <td>pyiron@jupyter-pyiron-2dpyiron-5fatomistics-2d813x8ptr#1</td>\n      <td>Lammps</td>\n      <td>0.1</td>\n      <td>None</td>\n      <td>25.0</td>\n    </tr>\n    <tr>\n      <th>32</th>\n      <td>33</td>\n      <td>finished</td>\n      <td>Al4</td>\n      <td>murn_Al_1_04</td>\n      <td>/murn_Al_1_04</td>\n      <td>None</td>\n      <td>/home/jovyan/potential_scan/1997__Liu_X_Y__Al_Mg__LAMMPS__ipr1/murn_Al_hdf5/</td>\n      <td>2024-05-07 11:57:07.229090</td>\n      <td>2024-05-07 11:57:07.854787</td>\n      <td>0.0</td>\n      <td>pyiron@jupyter-pyiron-2dpyiron-5fatomistics-2d813x8ptr#1</td>\n      <td>Lammps</td>\n      <td>0.1</td>\n      <td>None</td>\n      <td>25.0</td>\n    </tr>\n    <tr>\n      <th>33</th>\n      <td>34</td>\n      <td>finished</td>\n      <td>Al4</td>\n      <td>murn_Al_1_06</td>\n      <td>/murn_Al_1_06</td>\n      <td>None</td>\n      <td>/home/jovyan/potential_scan/1997__Liu_X_Y__Al_Mg__LAMMPS__ipr1/murn_Al_hdf5/</td>\n      <td>2024-05-07 11:57:08.145896</td>\n      <td>2024-05-07 11:57:08.735454</td>\n      <td>0.0</td>\n      <td>pyiron@jupyter-pyiron-2dpyiron-5fatomistics-2d813x8ptr#1</td>\n      <td>Lammps</td>\n      <td>0.1</td>\n      <td>None</td>\n      <td>25.0</td>\n    </tr>\n    <tr>\n      <th>34</th>\n      <td>35</td>\n      <td>finished</td>\n      <td>Al4</td>\n      <td>murn_Al_1_08</td>\n      <td>/murn_Al_1_08</td>\n      <td>None</td>\n      <td>/home/jovyan/potential_scan/1997__Liu_X_Y__Al_Mg__LAMMPS__ipr1/murn_Al_hdf5/</td>\n      <td>2024-05-07 11:57:09.047882</td>\n      <td>2024-05-07 11:57:09.675134</td>\n      <td>0.0</td>\n      <td>pyiron@jupyter-pyiron-2dpyiron-5fatomistics-2d813x8ptr#1</td>\n      <td>Lammps</td>\n      <td>0.1</td>\n      <td>None</td>\n      <td>25.0</td>\n    </tr>\n    <tr>\n      <th>35</th>\n      <td>36</td>\n      <td>finished</td>\n      <td>Al4</td>\n      <td>murn_Al_1_1</td>\n      <td>/murn_Al_1_1</td>\n      <td>None</td>\n      <td>/home/jovyan/potential_scan/1997__Liu_X_Y__Al_Mg__LAMMPS__ipr1/murn_Al_hdf5/</td>\n      <td>2024-05-07 11:57:09.943353</td>\n      <td>2024-05-07 11:57:10.535174</td>\n      <td>0.0</td>\n      <td>pyiron@jupyter-pyiron-2dpyiron-5fatomistics-2d813x8ptr#1</td>\n      <td>Lammps</td>\n      <td>0.1</td>\n      <td>None</td>\n      <td>25.0</td>\n    </tr>\n    <tr>\n      <th>36</th>\n      <td>37</td>\n      <td>finished</td>\n      <td>Al4</td>\n      <td>murn_Al</td>\n      <td>/murn_Al</td>\n      <td>None</td>\n      <td>/home/jovyan/potential_scan/1998__Liu_X_Y__Al_Mg__LAMMPS__ipr1/</td>\n      <td>2024-05-07 11:57:11.058442</td>\n      <td>2024-05-07 11:57:21.768256</td>\n      <td>10.0</td>\n      <td>pyiron@jupyter-pyiron-2dpyiron-5fatomistics-2d813x8ptr#1#11/11</td>\n      <td>Murnaghan</td>\n      <td>0.3.0</td>\n      <td>None</td>\n      <td>NaN</td>\n    </tr>\n    <tr>\n      <th>37</th>\n      <td>38</td>\n      <td>finished</td>\n      <td>Al4</td>\n      <td>murn_Al_0_9</td>\n      <td>/murn_Al_0_9</td>\n      <td>None</td>\n      <td>/home/jovyan/potential_scan/1998__Liu_X_Y__Al_Mg__LAMMPS__ipr1/murn_Al_hdf5/</td>\n      <td>2024-05-07 11:57:11.366994</td>\n      <td>2024-05-07 11:57:12.022596</td>\n      <td>0.0</td>\n      <td>pyiron@jupyter-pyiron-2dpyiron-5fatomistics-2d813x8ptr#1</td>\n      <td>Lammps</td>\n      <td>0.1</td>\n      <td>None</td>\n      <td>37.0</td>\n    </tr>\n    <tr>\n      <th>38</th>\n      <td>39</td>\n      <td>finished</td>\n      <td>Al4</td>\n      <td>murn_Al_0_92</td>\n      <td>/murn_Al_0_92</td>\n      <td>None</td>\n      <td>/home/jovyan/potential_scan/1998__Liu_X_Y__Al_Mg__LAMMPS__ipr1/murn_Al_hdf5/</td>\n      <td>2024-05-07 11:57:12.300055</td>\n      <td>2024-05-07 11:57:12.945235</td>\n      <td>0.0</td>\n      <td>pyiron@jupyter-pyiron-2dpyiron-5fatomistics-2d813x8ptr#1</td>\n      <td>Lammps</td>\n      <td>0.1</td>\n      <td>None</td>\n      <td>37.0</td>\n    </tr>\n    <tr>\n      <th>39</th>\n      <td>40</td>\n      <td>finished</td>\n      <td>Al4</td>\n      <td>murn_Al_0_94</td>\n      <td>/murn_Al_0_94</td>\n      <td>None</td>\n      <td>/home/jovyan/potential_scan/1998__Liu_X_Y__Al_Mg__LAMMPS__ipr1/murn_Al_hdf5/</td>\n      <td>2024-05-07 11:57:13.262274</td>\n      <td>2024-05-07 11:57:13.831376</td>\n      <td>0.0</td>\n      <td>pyiron@jupyter-pyiron-2dpyiron-5fatomistics-2d813x8ptr#1</td>\n      <td>Lammps</td>\n      <td>0.1</td>\n      <td>None</td>\n      <td>37.0</td>\n    </tr>\n    <tr>\n      <th>40</th>\n      <td>41</td>\n      <td>finished</td>\n      <td>Al4</td>\n      <td>murn_Al_0_96</td>\n      <td>/murn_Al_0_96</td>\n      <td>None</td>\n      <td>/home/jovyan/potential_scan/1998__Liu_X_Y__Al_Mg__LAMMPS__ipr1/murn_Al_hdf5/</td>\n      <td>2024-05-07 11:57:14.119714</td>\n      <td>2024-05-07 11:57:14.744225</td>\n      <td>0.0</td>\n      <td>pyiron@jupyter-pyiron-2dpyiron-5fatomistics-2d813x8ptr#1</td>\n      <td>Lammps</td>\n      <td>0.1</td>\n      <td>None</td>\n      <td>37.0</td>\n    </tr>\n    <tr>\n      <th>41</th>\n      <td>42</td>\n      <td>finished</td>\n      <td>Al4</td>\n      <td>murn_Al_0_98</td>\n      <td>/murn_Al_0_98</td>\n      <td>None</td>\n      <td>/home/jovyan/potential_scan/1998__Liu_X_Y__Al_Mg__LAMMPS__ipr1/murn_Al_hdf5/</td>\n      <td>2024-05-07 11:57:15.026794</td>\n      <td>2024-05-07 11:57:15.659881</td>\n      <td>0.0</td>\n      <td>pyiron@jupyter-pyiron-2dpyiron-5fatomistics-2d813x8ptr#1</td>\n      <td>Lammps</td>\n      <td>0.1</td>\n      <td>None</td>\n      <td>37.0</td>\n    </tr>\n    <tr>\n      <th>42</th>\n      <td>43</td>\n      <td>finished</td>\n      <td>Al4</td>\n      <td>murn_Al_1_0</td>\n      <td>/murn_Al_1_0</td>\n      <td>None</td>\n      <td>/home/jovyan/potential_scan/1998__Liu_X_Y__Al_Mg__LAMMPS__ipr1/murn_Al_hdf5/</td>\n      <td>2024-05-07 11:57:16.257738</td>\n      <td>2024-05-07 11:57:16.917142</td>\n      <td>0.0</td>\n      <td>pyiron@jupyter-pyiron-2dpyiron-5fatomistics-2d813x8ptr#1</td>\n      <td>Lammps</td>\n      <td>0.1</td>\n      <td>None</td>\n      <td>37.0</td>\n    </tr>\n    <tr>\n      <th>43</th>\n      <td>44</td>\n      <td>finished</td>\n      <td>Al4</td>\n      <td>murn_Al_1_02</td>\n      <td>/murn_Al_1_02</td>\n      <td>None</td>\n      <td>/home/jovyan/potential_scan/1998__Liu_X_Y__Al_Mg__LAMMPS__ipr1/murn_Al_hdf5/</td>\n      <td>2024-05-07 11:57:17.195182</td>\n      <td>2024-05-07 11:57:17.815080</td>\n      <td>0.0</td>\n      <td>pyiron@jupyter-pyiron-2dpyiron-5fatomistics-2d813x8ptr#1</td>\n      <td>Lammps</td>\n      <td>0.1</td>\n      <td>None</td>\n      <td>37.0</td>\n    </tr>\n    <tr>\n      <th>44</th>\n      <td>45</td>\n      <td>finished</td>\n      <td>Al4</td>\n      <td>murn_Al_1_04</td>\n      <td>/murn_Al_1_04</td>\n      <td>None</td>\n      <td>/home/jovyan/potential_scan/1998__Liu_X_Y__Al_Mg__LAMMPS__ipr1/murn_Al_hdf5/</td>\n      <td>2024-05-07 11:57:18.086049</td>\n      <td>2024-05-07 11:57:18.736914</td>\n      <td>0.0</td>\n      <td>pyiron@jupyter-pyiron-2dpyiron-5fatomistics-2d813x8ptr#1</td>\n      <td>Lammps</td>\n      <td>0.1</td>\n      <td>None</td>\n      <td>37.0</td>\n    </tr>\n    <tr>\n      <th>45</th>\n      <td>46</td>\n      <td>finished</td>\n      <td>Al4</td>\n      <td>murn_Al_1_06</td>\n      <td>/murn_Al_1_06</td>\n      <td>None</td>\n      <td>/home/jovyan/potential_scan/1998__Liu_X_Y__Al_Mg__LAMMPS__ipr1/murn_Al_hdf5/</td>\n      <td>2024-05-07 11:57:19.029641</td>\n      <td>2024-05-07 11:57:19.652476</td>\n      <td>0.0</td>\n      <td>pyiron@jupyter-pyiron-2dpyiron-5fatomistics-2d813x8ptr#1</td>\n      <td>Lammps</td>\n      <td>0.1</td>\n      <td>None</td>\n      <td>37.0</td>\n    </tr>\n    <tr>\n      <th>46</th>\n      <td>47</td>\n      <td>finished</td>\n      <td>Al4</td>\n      <td>murn_Al_1_08</td>\n      <td>/murn_Al_1_08</td>\n      <td>None</td>\n      <td>/home/jovyan/potential_scan/1998__Liu_X_Y__Al_Mg__LAMMPS__ipr1/murn_Al_hdf5/</td>\n      <td>2024-05-07 11:57:19.939076</td>\n      <td>2024-05-07 11:57:20.558332</td>\n      <td>0.0</td>\n      <td>pyiron@jupyter-pyiron-2dpyiron-5fatomistics-2d813x8ptr#1</td>\n      <td>Lammps</td>\n      <td>0.1</td>\n      <td>None</td>\n      <td>37.0</td>\n    </tr>\n    <tr>\n      <th>47</th>\n      <td>48</td>\n      <td>finished</td>\n      <td>Al4</td>\n      <td>murn_Al_1_1</td>\n      <td>/murn_Al_1_1</td>\n      <td>None</td>\n      <td>/home/jovyan/potential_scan/1998__Liu_X_Y__Al_Mg__LAMMPS__ipr1/murn_Al_hdf5/</td>\n      <td>2024-05-07 11:57:20.840237</td>\n      <td>2024-05-07 11:57:21.486299</td>\n      <td>0.0</td>\n      <td>pyiron@jupyter-pyiron-2dpyiron-5fatomistics-2d813x8ptr#1</td>\n      <td>Lammps</td>\n      <td>0.1</td>\n      <td>None</td>\n      <td>37.0</td>\n    </tr>\n    <tr>\n      <th>48</th>\n      <td>49</td>\n      <td>finished</td>\n      <td>Al4</td>\n      <td>murn_Al</td>\n      <td>/murn_Al</td>\n      <td>None</td>\n      <td>/home/jovyan/potential_scan/1999__Liu_X_Y__Al_Cu__LAMMPS__ipr1/</td>\n      <td>2024-05-07 11:57:22.017870</td>\n      <td>2024-05-07 11:57:32.539042</td>\n      <td>10.0</td>\n      <td>pyiron@jupyter-pyiron-2dpyiron-5fatomistics-2d813x8ptr#1#11/11</td>\n      <td>Murnaghan</td>\n      <td>0.3.0</td>\n      <td>None</td>\n      <td>NaN</td>\n    </tr>\n    <tr>\n      <th>49</th>\n      <td>50</td>\n      <td>finished</td>\n      <td>Al4</td>\n      <td>murn_Al_0_9</td>\n      <td>/murn_Al_0_9</td>\n      <td>None</td>\n      <td>/home/jovyan/potential_scan/1999__Liu_X_Y__Al_Cu__LAMMPS__ipr1/murn_Al_hdf5/</td>\n      <td>2024-05-07 11:57:22.334040</td>\n      <td>2024-05-07 11:57:22.932644</td>\n      <td>0.0</td>\n      <td>pyiron@jupyter-pyiron-2dpyiron-5fatomistics-2d813x8ptr#1</td>\n      <td>Lammps</td>\n      <td>0.1</td>\n      <td>None</td>\n      <td>49.0</td>\n    </tr>\n    <tr>\n      <th>50</th>\n      <td>51</td>\n      <td>finished</td>\n      <td>Al4</td>\n      <td>murn_Al_0_92</td>\n      <td>/murn_Al_0_92</td>\n      <td>None</td>\n      <td>/home/jovyan/potential_scan/1999__Liu_X_Y__Al_Cu__LAMMPS__ipr1/murn_Al_hdf5/</td>\n      <td>2024-05-07 11:57:23.217067</td>\n      <td>2024-05-07 11:57:23.834026</td>\n      <td>0.0</td>\n      <td>pyiron@jupyter-pyiron-2dpyiron-5fatomistics-2d813x8ptr#1</td>\n      <td>Lammps</td>\n      <td>0.1</td>\n      <td>None</td>\n      <td>49.0</td>\n    </tr>\n    <tr>\n      <th>51</th>\n      <td>52</td>\n      <td>finished</td>\n      <td>Al4</td>\n      <td>murn_Al_0_94</td>\n      <td>/murn_Al_0_94</td>\n      <td>None</td>\n      <td>/home/jovyan/potential_scan/1999__Liu_X_Y__Al_Cu__LAMMPS__ipr1/murn_Al_hdf5/</td>\n      <td>2024-05-07 11:57:24.121576</td>\n      <td>2024-05-07 11:57:24.721440</td>\n      <td>0.0</td>\n      <td>pyiron@jupyter-pyiron-2dpyiron-5fatomistics-2d813x8ptr#1</td>\n      <td>Lammps</td>\n      <td>0.1</td>\n      <td>None</td>\n      <td>49.0</td>\n    </tr>\n    <tr>\n      <th>52</th>\n      <td>53</td>\n      <td>finished</td>\n      <td>Al4</td>\n      <td>murn_Al_0_96</td>\n      <td>/murn_Al_0_96</td>\n      <td>None</td>\n      <td>/home/jovyan/potential_scan/1999__Liu_X_Y__Al_Cu__LAMMPS__ipr1/murn_Al_hdf5/</td>\n      <td>2024-05-07 11:57:25.031814</td>\n      <td>2024-05-07 11:57:25.632425</td>\n      <td>0.0</td>\n      <td>pyiron@jupyter-pyiron-2dpyiron-5fatomistics-2d813x8ptr#1</td>\n      <td>Lammps</td>\n      <td>0.1</td>\n      <td>None</td>\n      <td>49.0</td>\n    </tr>\n    <tr>\n      <th>53</th>\n      <td>54</td>\n      <td>finished</td>\n      <td>Al4</td>\n      <td>murn_Al_0_98</td>\n      <td>/murn_Al_0_98</td>\n      <td>None</td>\n      <td>/home/jovyan/potential_scan/1999__Liu_X_Y__Al_Cu__LAMMPS__ipr1/murn_Al_hdf5/</td>\n      <td>2024-05-07 11:57:25.914574</td>\n      <td>2024-05-07 11:57:26.586668</td>\n      <td>0.0</td>\n      <td>pyiron@jupyter-pyiron-2dpyiron-5fatomistics-2d813x8ptr#1</td>\n      <td>Lammps</td>\n      <td>0.1</td>\n      <td>None</td>\n      <td>49.0</td>\n    </tr>\n    <tr>\n      <th>54</th>\n      <td>55</td>\n      <td>finished</td>\n      <td>Al4</td>\n      <td>murn_Al_1_0</td>\n      <td>/murn_Al_1_0</td>\n      <td>None</td>\n      <td>/home/jovyan/potential_scan/1999__Liu_X_Y__Al_Cu__LAMMPS__ipr1/murn_Al_hdf5/</td>\n      <td>2024-05-07 11:57:26.862868</td>\n      <td>2024-05-07 11:57:27.449159</td>\n      <td>0.0</td>\n      <td>pyiron@jupyter-pyiron-2dpyiron-5fatomistics-2d813x8ptr#1</td>\n      <td>Lammps</td>\n      <td>0.1</td>\n      <td>None</td>\n      <td>49.0</td>\n    </tr>\n    <tr>\n      <th>55</th>\n      <td>56</td>\n      <td>finished</td>\n      <td>Al4</td>\n      <td>murn_Al_1_02</td>\n      <td>/murn_Al_1_02</td>\n      <td>None</td>\n      <td>/home/jovyan/potential_scan/1999__Liu_X_Y__Al_Cu__LAMMPS__ipr1/murn_Al_hdf5/</td>\n      <td>2024-05-07 11:57:27.744943</td>\n      <td>2024-05-07 11:57:28.449344</td>\n      <td>0.0</td>\n      <td>pyiron@jupyter-pyiron-2dpyiron-5fatomistics-2d813x8ptr#1</td>\n      <td>Lammps</td>\n      <td>0.1</td>\n      <td>None</td>\n      <td>49.0</td>\n    </tr>\n    <tr>\n      <th>56</th>\n      <td>57</td>\n      <td>finished</td>\n      <td>Al4</td>\n      <td>murn_Al_1_04</td>\n      <td>/murn_Al_1_04</td>\n      <td>None</td>\n      <td>/home/jovyan/potential_scan/1999__Liu_X_Y__Al_Cu__LAMMPS__ipr1/murn_Al_hdf5/</td>\n      <td>2024-05-07 11:57:28.740248</td>\n      <td>2024-05-07 11:57:29.423178</td>\n      <td>0.0</td>\n      <td>pyiron@jupyter-pyiron-2dpyiron-5fatomistics-2d813x8ptr#1</td>\n      <td>Lammps</td>\n      <td>0.1</td>\n      <td>None</td>\n      <td>49.0</td>\n    </tr>\n    <tr>\n      <th>57</th>\n      <td>58</td>\n      <td>finished</td>\n      <td>Al4</td>\n      <td>murn_Al_1_06</td>\n      <td>/murn_Al_1_06</td>\n      <td>None</td>\n      <td>/home/jovyan/potential_scan/1999__Liu_X_Y__Al_Cu__LAMMPS__ipr1/murn_Al_hdf5/</td>\n      <td>2024-05-07 11:57:29.725171</td>\n      <td>2024-05-07 11:57:30.405721</td>\n      <td>0.0</td>\n      <td>pyiron@jupyter-pyiron-2dpyiron-5fatomistics-2d813x8ptr#1</td>\n      <td>Lammps</td>\n      <td>0.1</td>\n      <td>None</td>\n      <td>49.0</td>\n    </tr>\n    <tr>\n      <th>58</th>\n      <td>59</td>\n      <td>finished</td>\n      <td>Al4</td>\n      <td>murn_Al_1_08</td>\n      <td>/murn_Al_1_08</td>\n      <td>None</td>\n      <td>/home/jovyan/potential_scan/1999__Liu_X_Y__Al_Cu__LAMMPS__ipr1/murn_Al_hdf5/</td>\n      <td>2024-05-07 11:57:30.687375</td>\n      <td>2024-05-07 11:57:31.304845</td>\n      <td>0.0</td>\n      <td>pyiron@jupyter-pyiron-2dpyiron-5fatomistics-2d813x8ptr#1</td>\n      <td>Lammps</td>\n      <td>0.1</td>\n      <td>None</td>\n      <td>49.0</td>\n    </tr>\n    <tr>\n      <th>59</th>\n      <td>60</td>\n      <td>finished</td>\n      <td>Al4</td>\n      <td>murn_Al_1_1</td>\n      <td>/murn_Al_1_1</td>\n      <td>None</td>\n      <td>/home/jovyan/potential_scan/1999__Liu_X_Y__Al_Cu__LAMMPS__ipr1/murn_Al_hdf5/</td>\n      <td>2024-05-07 11:57:31.612421</td>\n      <td>2024-05-07 11:57:32.253919</td>\n      <td>0.0</td>\n      <td>pyiron@jupyter-pyiron-2dpyiron-5fatomistics-2d813x8ptr#1</td>\n      <td>Lammps</td>\n      <td>0.1</td>\n      <td>None</td>\n      <td>49.0</td>\n    </tr>\n  </tbody>\n</table>\n</div>",
      "text/plain": "    id         status chemicalformula           job         subjob  \\\n0    1       finished             Al4       murn_Al       /murn_Al   \n1    2       finished             Al4   murn_Al_0_9   /murn_Al_0_9   \n2    3       finished             Al4  murn_Al_0_92  /murn_Al_0_92   \n3    4       finished             Al4  murn_Al_0_94  /murn_Al_0_94   \n4    5       finished             Al4  murn_Al_0_96  /murn_Al_0_96   \n5    6       finished             Al4  murn_Al_0_98  /murn_Al_0_98   \n6    7       finished             Al4   murn_Al_1_0   /murn_Al_1_0   \n7    8       finished             Al4  murn_Al_1_02  /murn_Al_1_02   \n8    9       finished             Al4  murn_Al_1_04  /murn_Al_1_04   \n9   10       finished             Al4  murn_Al_1_06  /murn_Al_1_06   \n10  11       finished             Al4  murn_Al_1_08  /murn_Al_1_08   \n11  12       finished             Al4   murn_Al_1_1   /murn_Al_1_1   \n12  13  not_converged             Al4       murn_Al       /murn_Al   \n13  14       finished             Al4   murn_Al_0_9   /murn_Al_0_9   \n14  15       finished             Al4  murn_Al_0_92  /murn_Al_0_92   \n15  16       finished             Al4  murn_Al_0_94  /murn_Al_0_94   \n16  17       finished             Al4  murn_Al_0_96  /murn_Al_0_96   \n17  18       finished             Al4  murn_Al_0_98  /murn_Al_0_98   \n18  19       finished             Al4   murn_Al_1_0   /murn_Al_1_0   \n19  20       finished             Al4  murn_Al_1_02  /murn_Al_1_02   \n20  21       finished             Al4  murn_Al_1_04  /murn_Al_1_04   \n21  22       finished             Al4  murn_Al_1_06  /murn_Al_1_06   \n22  23       finished             Al4  murn_Al_1_08  /murn_Al_1_08   \n23  24       finished             Al4   murn_Al_1_1   /murn_Al_1_1   \n24  25       finished             Al4       murn_Al       /murn_Al   \n25  26       finished             Al4   murn_Al_0_9   /murn_Al_0_9   \n26  27       finished             Al4  murn_Al_0_92  /murn_Al_0_92   \n27  28       finished             Al4  murn_Al_0_94  /murn_Al_0_94   \n28  29       finished             Al4  murn_Al_0_96  /murn_Al_0_96   \n29  30       finished             Al4  murn_Al_0_98  /murn_Al_0_98   \n30  31       finished             Al4   murn_Al_1_0   /murn_Al_1_0   \n31  32       finished             Al4  murn_Al_1_02  /murn_Al_1_02   \n32  33       finished             Al4  murn_Al_1_04  /murn_Al_1_04   \n33  34       finished             Al4  murn_Al_1_06  /murn_Al_1_06   \n34  35       finished             Al4  murn_Al_1_08  /murn_Al_1_08   \n35  36       finished             Al4   murn_Al_1_1   /murn_Al_1_1   \n36  37       finished             Al4       murn_Al       /murn_Al   \n37  38       finished             Al4   murn_Al_0_9   /murn_Al_0_9   \n38  39       finished             Al4  murn_Al_0_92  /murn_Al_0_92   \n39  40       finished             Al4  murn_Al_0_94  /murn_Al_0_94   \n40  41       finished             Al4  murn_Al_0_96  /murn_Al_0_96   \n41  42       finished             Al4  murn_Al_0_98  /murn_Al_0_98   \n42  43       finished             Al4   murn_Al_1_0   /murn_Al_1_0   \n43  44       finished             Al4  murn_Al_1_02  /murn_Al_1_02   \n44  45       finished             Al4  murn_Al_1_04  /murn_Al_1_04   \n45  46       finished             Al4  murn_Al_1_06  /murn_Al_1_06   \n46  47       finished             Al4  murn_Al_1_08  /murn_Al_1_08   \n47  48       finished             Al4   murn_Al_1_1   /murn_Al_1_1   \n48  49       finished             Al4       murn_Al       /murn_Al   \n49  50       finished             Al4   murn_Al_0_9   /murn_Al_0_9   \n50  51       finished             Al4  murn_Al_0_92  /murn_Al_0_92   \n51  52       finished             Al4  murn_Al_0_94  /murn_Al_0_94   \n52  53       finished             Al4  murn_Al_0_96  /murn_Al_0_96   \n53  54       finished             Al4  murn_Al_0_98  /murn_Al_0_98   \n54  55       finished             Al4   murn_Al_1_0   /murn_Al_1_0   \n55  56       finished             Al4  murn_Al_1_02  /murn_Al_1_02   \n56  57       finished             Al4  murn_Al_1_04  /murn_Al_1_04   \n57  58       finished             Al4  murn_Al_1_06  /murn_Al_1_06   \n58  59       finished             Al4  murn_Al_1_08  /murn_Al_1_08   \n59  60       finished             Al4   murn_Al_1_1   /murn_Al_1_1   \n\n   projectpath  \\\n0         None   \n1         None   \n2         None   \n3         None   \n4         None   \n5         None   \n6         None   \n7         None   \n8         None   \n9         None   \n10        None   \n11        None   \n12        None   \n13        None   \n14        None   \n15        None   \n16        None   \n17        None   \n18        None   \n19        None   \n20        None   \n21        None   \n22        None   \n23        None   \n24        None   \n25        None   \n26        None   \n27        None   \n28        None   \n29        None   \n30        None   \n31        None   \n32        None   \n33        None   \n34        None   \n35        None   \n36        None   \n37        None   \n38        None   \n39        None   \n40        None   \n41        None   \n42        None   \n43        None   \n44        None   \n45        None   \n46        None   \n47        None   \n48        None   \n49        None   \n50        None   \n51        None   \n52        None   \n53        None   \n54        None   \n55        None   \n56        None   \n57        None   \n58        None   \n59        None   \n\n                                                                              project  \\\n0                /home/jovyan/potential_scan/1995__Angelo_J_E__Ni_Al_H__LAMMPS__ipr1/   \n1   /home/jovyan/potential_scan/1995__Angelo_J_E__Ni_Al_H__LAMMPS__ipr1/murn_Al_hdf5/   \n2   /home/jovyan/potential_scan/1995__Angelo_J_E__Ni_Al_H__LAMMPS__ipr1/murn_Al_hdf5/   \n3   /home/jovyan/potential_scan/1995__Angelo_J_E__Ni_Al_H__LAMMPS__ipr1/murn_Al_hdf5/   \n4   /home/jovyan/potential_scan/1995__Angelo_J_E__Ni_Al_H__LAMMPS__ipr1/murn_Al_hdf5/   \n5   /home/jovyan/potential_scan/1995__Angelo_J_E__Ni_Al_H__LAMMPS__ipr1/murn_Al_hdf5/   \n6   /home/jovyan/potential_scan/1995__Angelo_J_E__Ni_Al_H__LAMMPS__ipr1/murn_Al_hdf5/   \n7   /home/jovyan/potential_scan/1995__Angelo_J_E__Ni_Al_H__LAMMPS__ipr1/murn_Al_hdf5/   \n8   /home/jovyan/potential_scan/1995__Angelo_J_E__Ni_Al_H__LAMMPS__ipr1/murn_Al_hdf5/   \n9   /home/jovyan/potential_scan/1995__Angelo_J_E__Ni_Al_H__LAMMPS__ipr1/murn_Al_hdf5/   \n10  /home/jovyan/potential_scan/1995__Angelo_J_E__Ni_Al_H__LAMMPS__ipr1/murn_Al_hdf5/   \n11  /home/jovyan/potential_scan/1995__Angelo_J_E__Ni_Al_H__LAMMPS__ipr1/murn_Al_hdf5/   \n12                /home/jovyan/potential_scan/1996__Farkas_D__Nb_Ti_Al__LAMMPS__ipr1/   \n13   /home/jovyan/potential_scan/1996__Farkas_D__Nb_Ti_Al__LAMMPS__ipr1/murn_Al_hdf5/   \n14   /home/jovyan/potential_scan/1996__Farkas_D__Nb_Ti_Al__LAMMPS__ipr1/murn_Al_hdf5/   \n15   /home/jovyan/potential_scan/1996__Farkas_D__Nb_Ti_Al__LAMMPS__ipr1/murn_Al_hdf5/   \n16   /home/jovyan/potential_scan/1996__Farkas_D__Nb_Ti_Al__LAMMPS__ipr1/murn_Al_hdf5/   \n17   /home/jovyan/potential_scan/1996__Farkas_D__Nb_Ti_Al__LAMMPS__ipr1/murn_Al_hdf5/   \n18   /home/jovyan/potential_scan/1996__Farkas_D__Nb_Ti_Al__LAMMPS__ipr1/murn_Al_hdf5/   \n19   /home/jovyan/potential_scan/1996__Farkas_D__Nb_Ti_Al__LAMMPS__ipr1/murn_Al_hdf5/   \n20   /home/jovyan/potential_scan/1996__Farkas_D__Nb_Ti_Al__LAMMPS__ipr1/murn_Al_hdf5/   \n21   /home/jovyan/potential_scan/1996__Farkas_D__Nb_Ti_Al__LAMMPS__ipr1/murn_Al_hdf5/   \n22   /home/jovyan/potential_scan/1996__Farkas_D__Nb_Ti_Al__LAMMPS__ipr1/murn_Al_hdf5/   \n23   /home/jovyan/potential_scan/1996__Farkas_D__Nb_Ti_Al__LAMMPS__ipr1/murn_Al_hdf5/   \n24                    /home/jovyan/potential_scan/1997__Liu_X_Y__Al_Mg__LAMMPS__ipr1/   \n25       /home/jovyan/potential_scan/1997__Liu_X_Y__Al_Mg__LAMMPS__ipr1/murn_Al_hdf5/   \n26       /home/jovyan/potential_scan/1997__Liu_X_Y__Al_Mg__LAMMPS__ipr1/murn_Al_hdf5/   \n27       /home/jovyan/potential_scan/1997__Liu_X_Y__Al_Mg__LAMMPS__ipr1/murn_Al_hdf5/   \n28       /home/jovyan/potential_scan/1997__Liu_X_Y__Al_Mg__LAMMPS__ipr1/murn_Al_hdf5/   \n29       /home/jovyan/potential_scan/1997__Liu_X_Y__Al_Mg__LAMMPS__ipr1/murn_Al_hdf5/   \n30       /home/jovyan/potential_scan/1997__Liu_X_Y__Al_Mg__LAMMPS__ipr1/murn_Al_hdf5/   \n31       /home/jovyan/potential_scan/1997__Liu_X_Y__Al_Mg__LAMMPS__ipr1/murn_Al_hdf5/   \n32       /home/jovyan/potential_scan/1997__Liu_X_Y__Al_Mg__LAMMPS__ipr1/murn_Al_hdf5/   \n33       /home/jovyan/potential_scan/1997__Liu_X_Y__Al_Mg__LAMMPS__ipr1/murn_Al_hdf5/   \n34       /home/jovyan/potential_scan/1997__Liu_X_Y__Al_Mg__LAMMPS__ipr1/murn_Al_hdf5/   \n35       /home/jovyan/potential_scan/1997__Liu_X_Y__Al_Mg__LAMMPS__ipr1/murn_Al_hdf5/   \n36                    /home/jovyan/potential_scan/1998__Liu_X_Y__Al_Mg__LAMMPS__ipr1/   \n37       /home/jovyan/potential_scan/1998__Liu_X_Y__Al_Mg__LAMMPS__ipr1/murn_Al_hdf5/   \n38       /home/jovyan/potential_scan/1998__Liu_X_Y__Al_Mg__LAMMPS__ipr1/murn_Al_hdf5/   \n39       /home/jovyan/potential_scan/1998__Liu_X_Y__Al_Mg__LAMMPS__ipr1/murn_Al_hdf5/   \n40       /home/jovyan/potential_scan/1998__Liu_X_Y__Al_Mg__LAMMPS__ipr1/murn_Al_hdf5/   \n41       /home/jovyan/potential_scan/1998__Liu_X_Y__Al_Mg__LAMMPS__ipr1/murn_Al_hdf5/   \n42       /home/jovyan/potential_scan/1998__Liu_X_Y__Al_Mg__LAMMPS__ipr1/murn_Al_hdf5/   \n43       /home/jovyan/potential_scan/1998__Liu_X_Y__Al_Mg__LAMMPS__ipr1/murn_Al_hdf5/   \n44       /home/jovyan/potential_scan/1998__Liu_X_Y__Al_Mg__LAMMPS__ipr1/murn_Al_hdf5/   \n45       /home/jovyan/potential_scan/1998__Liu_X_Y__Al_Mg__LAMMPS__ipr1/murn_Al_hdf5/   \n46       /home/jovyan/potential_scan/1998__Liu_X_Y__Al_Mg__LAMMPS__ipr1/murn_Al_hdf5/   \n47       /home/jovyan/potential_scan/1998__Liu_X_Y__Al_Mg__LAMMPS__ipr1/murn_Al_hdf5/   \n48                    /home/jovyan/potential_scan/1999__Liu_X_Y__Al_Cu__LAMMPS__ipr1/   \n49       /home/jovyan/potential_scan/1999__Liu_X_Y__Al_Cu__LAMMPS__ipr1/murn_Al_hdf5/   \n50       /home/jovyan/potential_scan/1999__Liu_X_Y__Al_Cu__LAMMPS__ipr1/murn_Al_hdf5/   \n51       /home/jovyan/potential_scan/1999__Liu_X_Y__Al_Cu__LAMMPS__ipr1/murn_Al_hdf5/   \n52       /home/jovyan/potential_scan/1999__Liu_X_Y__Al_Cu__LAMMPS__ipr1/murn_Al_hdf5/   \n53       /home/jovyan/potential_scan/1999__Liu_X_Y__Al_Cu__LAMMPS__ipr1/murn_Al_hdf5/   \n54       /home/jovyan/potential_scan/1999__Liu_X_Y__Al_Cu__LAMMPS__ipr1/murn_Al_hdf5/   \n55       /home/jovyan/potential_scan/1999__Liu_X_Y__Al_Cu__LAMMPS__ipr1/murn_Al_hdf5/   \n56       /home/jovyan/potential_scan/1999__Liu_X_Y__Al_Cu__LAMMPS__ipr1/murn_Al_hdf5/   \n57       /home/jovyan/potential_scan/1999__Liu_X_Y__Al_Cu__LAMMPS__ipr1/murn_Al_hdf5/   \n58       /home/jovyan/potential_scan/1999__Liu_X_Y__Al_Cu__LAMMPS__ipr1/murn_Al_hdf5/   \n59       /home/jovyan/potential_scan/1999__Liu_X_Y__Al_Cu__LAMMPS__ipr1/murn_Al_hdf5/   \n\n                    timestart                   timestop  totalcputime  \\\n0  2024-05-07 11:56:22.037894 2024-05-07 11:56:41.684506          19.0   \n1  2024-05-07 11:56:30.446682 2024-05-07 11:56:31.188388           0.0   \n2  2024-05-07 11:56:31.470085 2024-05-07 11:56:32.218726           0.0   \n3  2024-05-07 11:56:32.497862 2024-05-07 11:56:33.228454           0.0   \n4  2024-05-07 11:56:33.570989 2024-05-07 11:56:34.301978           0.0   \n5  2024-05-07 11:56:34.576265 2024-05-07 11:56:35.290545           0.0   \n6  2024-05-07 11:56:35.571002 2024-05-07 11:56:36.353216           0.0   \n7  2024-05-07 11:56:36.629701 2024-05-07 11:56:37.340504           0.0   \n8  2024-05-07 11:56:37.615662 2024-05-07 11:56:38.326108           0.0   \n9  2024-05-07 11:56:38.598443 2024-05-07 11:56:39.359821           0.0   \n10 2024-05-07 11:56:39.638707 2024-05-07 11:56:40.384918           0.0   \n11 2024-05-07 11:56:40.659000 2024-05-07 11:56:41.407774           0.0   \n12 2024-05-07 11:56:41.931111 2024-05-07 11:57:00.327541          18.0   \n13 2024-05-07 11:56:42.241398 2024-05-07 11:56:43.627848           1.0   \n14 2024-05-07 11:56:43.909801 2024-05-07 11:56:45.268343           1.0   \n15 2024-05-07 11:56:45.551457 2024-05-07 11:56:46.907282           1.0   \n16 2024-05-07 11:56:47.211666 2024-05-07 11:56:48.570955           1.0   \n17 2024-05-07 11:56:48.856773 2024-05-07 11:56:50.214337           1.0   \n18 2024-05-07 11:56:50.492117 2024-05-07 11:56:51.877517           1.0   \n19 2024-05-07 11:56:52.175269 2024-05-07 11:56:53.526252           1.0   \n20 2024-05-07 11:56:53.823944 2024-05-07 11:56:55.169724           1.0   \n21 2024-05-07 11:56:55.452733 2024-05-07 11:56:56.817063           1.0   \n22 2024-05-07 11:56:57.094456 2024-05-07 11:56:58.420056           1.0   \n23 2024-05-07 11:56:58.699734 2024-05-07 11:57:00.098762           1.0   \n24 2024-05-07 11:57:00.603392 2024-05-07 11:57:10.813639          10.0   \n25 2024-05-07 11:57:00.922187 2024-05-07 11:57:01.519597           0.0   \n26 2024-05-07 11:57:01.791976 2024-05-07 11:57:02.438493           0.0   \n27 2024-05-07 11:57:02.723466 2024-05-07 11:57:03.357677           0.0   \n28 2024-05-07 11:57:03.643719 2024-05-07 11:57:04.274098           0.0   \n29 2024-05-07 11:57:04.550120 2024-05-07 11:57:05.111960           0.0   \n30 2024-05-07 11:57:05.395961 2024-05-07 11:57:06.029891           0.0   \n31 2024-05-07 11:57:06.323635 2024-05-07 11:57:06.952051           0.0   \n32 2024-05-07 11:57:07.229090 2024-05-07 11:57:07.854787           0.0   \n33 2024-05-07 11:57:08.145896 2024-05-07 11:57:08.735454           0.0   \n34 2024-05-07 11:57:09.047882 2024-05-07 11:57:09.675134           0.0   \n35 2024-05-07 11:57:09.943353 2024-05-07 11:57:10.535174           0.0   \n36 2024-05-07 11:57:11.058442 2024-05-07 11:57:21.768256          10.0   \n37 2024-05-07 11:57:11.366994 2024-05-07 11:57:12.022596           0.0   \n38 2024-05-07 11:57:12.300055 2024-05-07 11:57:12.945235           0.0   \n39 2024-05-07 11:57:13.262274 2024-05-07 11:57:13.831376           0.0   \n40 2024-05-07 11:57:14.119714 2024-05-07 11:57:14.744225           0.0   \n41 2024-05-07 11:57:15.026794 2024-05-07 11:57:15.659881           0.0   \n42 2024-05-07 11:57:16.257738 2024-05-07 11:57:16.917142           0.0   \n43 2024-05-07 11:57:17.195182 2024-05-07 11:57:17.815080           0.0   \n44 2024-05-07 11:57:18.086049 2024-05-07 11:57:18.736914           0.0   \n45 2024-05-07 11:57:19.029641 2024-05-07 11:57:19.652476           0.0   \n46 2024-05-07 11:57:19.939076 2024-05-07 11:57:20.558332           0.0   \n47 2024-05-07 11:57:20.840237 2024-05-07 11:57:21.486299           0.0   \n48 2024-05-07 11:57:22.017870 2024-05-07 11:57:32.539042          10.0   \n49 2024-05-07 11:57:22.334040 2024-05-07 11:57:22.932644           0.0   \n50 2024-05-07 11:57:23.217067 2024-05-07 11:57:23.834026           0.0   \n51 2024-05-07 11:57:24.121576 2024-05-07 11:57:24.721440           0.0   \n52 2024-05-07 11:57:25.031814 2024-05-07 11:57:25.632425           0.0   \n53 2024-05-07 11:57:25.914574 2024-05-07 11:57:26.586668           0.0   \n54 2024-05-07 11:57:26.862868 2024-05-07 11:57:27.449159           0.0   \n55 2024-05-07 11:57:27.744943 2024-05-07 11:57:28.449344           0.0   \n56 2024-05-07 11:57:28.740248 2024-05-07 11:57:29.423178           0.0   \n57 2024-05-07 11:57:29.725171 2024-05-07 11:57:30.405721           0.0   \n58 2024-05-07 11:57:30.687375 2024-05-07 11:57:31.304845           0.0   \n59 2024-05-07 11:57:31.612421 2024-05-07 11:57:32.253919           0.0   \n\n                                                          computer   hamilton  \\\n0   pyiron@jupyter-pyiron-2dpyiron-5fatomistics-2d813x8ptr#1#11/11  Murnaghan   \n1         pyiron@jupyter-pyiron-2dpyiron-5fatomistics-2d813x8ptr#1     Lammps   \n2         pyiron@jupyter-pyiron-2dpyiron-5fatomistics-2d813x8ptr#1     Lammps   \n3         pyiron@jupyter-pyiron-2dpyiron-5fatomistics-2d813x8ptr#1     Lammps   \n4         pyiron@jupyter-pyiron-2dpyiron-5fatomistics-2d813x8ptr#1     Lammps   \n5         pyiron@jupyter-pyiron-2dpyiron-5fatomistics-2d813x8ptr#1     Lammps   \n6         pyiron@jupyter-pyiron-2dpyiron-5fatomistics-2d813x8ptr#1     Lammps   \n7         pyiron@jupyter-pyiron-2dpyiron-5fatomistics-2d813x8ptr#1     Lammps   \n8         pyiron@jupyter-pyiron-2dpyiron-5fatomistics-2d813x8ptr#1     Lammps   \n9         pyiron@jupyter-pyiron-2dpyiron-5fatomistics-2d813x8ptr#1     Lammps   \n10        pyiron@jupyter-pyiron-2dpyiron-5fatomistics-2d813x8ptr#1     Lammps   \n11        pyiron@jupyter-pyiron-2dpyiron-5fatomistics-2d813x8ptr#1     Lammps   \n12  pyiron@jupyter-pyiron-2dpyiron-5fatomistics-2d813x8ptr#1#11/11  Murnaghan   \n13        pyiron@jupyter-pyiron-2dpyiron-5fatomistics-2d813x8ptr#1     Lammps   \n14        pyiron@jupyter-pyiron-2dpyiron-5fatomistics-2d813x8ptr#1     Lammps   \n15        pyiron@jupyter-pyiron-2dpyiron-5fatomistics-2d813x8ptr#1     Lammps   \n16        pyiron@jupyter-pyiron-2dpyiron-5fatomistics-2d813x8ptr#1     Lammps   \n17        pyiron@jupyter-pyiron-2dpyiron-5fatomistics-2d813x8ptr#1     Lammps   \n18        pyiron@jupyter-pyiron-2dpyiron-5fatomistics-2d813x8ptr#1     Lammps   \n19        pyiron@jupyter-pyiron-2dpyiron-5fatomistics-2d813x8ptr#1     Lammps   \n20        pyiron@jupyter-pyiron-2dpyiron-5fatomistics-2d813x8ptr#1     Lammps   \n21        pyiron@jupyter-pyiron-2dpyiron-5fatomistics-2d813x8ptr#1     Lammps   \n22        pyiron@jupyter-pyiron-2dpyiron-5fatomistics-2d813x8ptr#1     Lammps   \n23        pyiron@jupyter-pyiron-2dpyiron-5fatomistics-2d813x8ptr#1     Lammps   \n24  pyiron@jupyter-pyiron-2dpyiron-5fatomistics-2d813x8ptr#1#11/11  Murnaghan   \n25        pyiron@jupyter-pyiron-2dpyiron-5fatomistics-2d813x8ptr#1     Lammps   \n26        pyiron@jupyter-pyiron-2dpyiron-5fatomistics-2d813x8ptr#1     Lammps   \n27        pyiron@jupyter-pyiron-2dpyiron-5fatomistics-2d813x8ptr#1     Lammps   \n28        pyiron@jupyter-pyiron-2dpyiron-5fatomistics-2d813x8ptr#1     Lammps   \n29        pyiron@jupyter-pyiron-2dpyiron-5fatomistics-2d813x8ptr#1     Lammps   \n30        pyiron@jupyter-pyiron-2dpyiron-5fatomistics-2d813x8ptr#1     Lammps   \n31        pyiron@jupyter-pyiron-2dpyiron-5fatomistics-2d813x8ptr#1     Lammps   \n32        pyiron@jupyter-pyiron-2dpyiron-5fatomistics-2d813x8ptr#1     Lammps   \n33        pyiron@jupyter-pyiron-2dpyiron-5fatomistics-2d813x8ptr#1     Lammps   \n34        pyiron@jupyter-pyiron-2dpyiron-5fatomistics-2d813x8ptr#1     Lammps   \n35        pyiron@jupyter-pyiron-2dpyiron-5fatomistics-2d813x8ptr#1     Lammps   \n36  pyiron@jupyter-pyiron-2dpyiron-5fatomistics-2d813x8ptr#1#11/11  Murnaghan   \n37        pyiron@jupyter-pyiron-2dpyiron-5fatomistics-2d813x8ptr#1     Lammps   \n38        pyiron@jupyter-pyiron-2dpyiron-5fatomistics-2d813x8ptr#1     Lammps   \n39        pyiron@jupyter-pyiron-2dpyiron-5fatomistics-2d813x8ptr#1     Lammps   \n40        pyiron@jupyter-pyiron-2dpyiron-5fatomistics-2d813x8ptr#1     Lammps   \n41        pyiron@jupyter-pyiron-2dpyiron-5fatomistics-2d813x8ptr#1     Lammps   \n42        pyiron@jupyter-pyiron-2dpyiron-5fatomistics-2d813x8ptr#1     Lammps   \n43        pyiron@jupyter-pyiron-2dpyiron-5fatomistics-2d813x8ptr#1     Lammps   \n44        pyiron@jupyter-pyiron-2dpyiron-5fatomistics-2d813x8ptr#1     Lammps   \n45        pyiron@jupyter-pyiron-2dpyiron-5fatomistics-2d813x8ptr#1     Lammps   \n46        pyiron@jupyter-pyiron-2dpyiron-5fatomistics-2d813x8ptr#1     Lammps   \n47        pyiron@jupyter-pyiron-2dpyiron-5fatomistics-2d813x8ptr#1     Lammps   \n48  pyiron@jupyter-pyiron-2dpyiron-5fatomistics-2d813x8ptr#1#11/11  Murnaghan   \n49        pyiron@jupyter-pyiron-2dpyiron-5fatomistics-2d813x8ptr#1     Lammps   \n50        pyiron@jupyter-pyiron-2dpyiron-5fatomistics-2d813x8ptr#1     Lammps   \n51        pyiron@jupyter-pyiron-2dpyiron-5fatomistics-2d813x8ptr#1     Lammps   \n52        pyiron@jupyter-pyiron-2dpyiron-5fatomistics-2d813x8ptr#1     Lammps   \n53        pyiron@jupyter-pyiron-2dpyiron-5fatomistics-2d813x8ptr#1     Lammps   \n54        pyiron@jupyter-pyiron-2dpyiron-5fatomistics-2d813x8ptr#1     Lammps   \n55        pyiron@jupyter-pyiron-2dpyiron-5fatomistics-2d813x8ptr#1     Lammps   \n56        pyiron@jupyter-pyiron-2dpyiron-5fatomistics-2d813x8ptr#1     Lammps   \n57        pyiron@jupyter-pyiron-2dpyiron-5fatomistics-2d813x8ptr#1     Lammps   \n58        pyiron@jupyter-pyiron-2dpyiron-5fatomistics-2d813x8ptr#1     Lammps   \n59        pyiron@jupyter-pyiron-2dpyiron-5fatomistics-2d813x8ptr#1     Lammps   \n\n   hamversion parentid  masterid  \n0       0.3.0     None       NaN  \n1         0.1     None       1.0  \n2         0.1     None       1.0  \n3         0.1     None       1.0  \n4         0.1     None       1.0  \n5         0.1     None       1.0  \n6         0.1     None       1.0  \n7         0.1     None       1.0  \n8         0.1     None       1.0  \n9         0.1     None       1.0  \n10        0.1     None       1.0  \n11        0.1     None       1.0  \n12      0.3.0     None       NaN  \n13        0.1     None      13.0  \n14        0.1     None      13.0  \n15        0.1     None      13.0  \n16        0.1     None      13.0  \n17        0.1     None      13.0  \n18        0.1     None      13.0  \n19        0.1     None      13.0  \n20        0.1     None      13.0  \n21        0.1     None      13.0  \n22        0.1     None      13.0  \n23        0.1     None      13.0  \n24      0.3.0     None       NaN  \n25        0.1     None      25.0  \n26        0.1     None      25.0  \n27        0.1     None      25.0  \n28        0.1     None      25.0  \n29        0.1     None      25.0  \n30        0.1     None      25.0  \n31        0.1     None      25.0  \n32        0.1     None      25.0  \n33        0.1     None      25.0  \n34        0.1     None      25.0  \n35        0.1     None      25.0  \n36      0.3.0     None       NaN  \n37        0.1     None      37.0  \n38        0.1     None      37.0  \n39        0.1     None      37.0  \n40        0.1     None      37.0  \n41        0.1     None      37.0  \n42        0.1     None      37.0  \n43        0.1     None      37.0  \n44        0.1     None      37.0  \n45        0.1     None      37.0  \n46        0.1     None      37.0  \n47        0.1     None      37.0  \n48      0.3.0     None       NaN  \n49        0.1     None      49.0  \n50        0.1     None      49.0  \n51        0.1     None      49.0  \n52        0.1     None      49.0  \n53        0.1     None      49.0  \n54        0.1     None      49.0  \n55        0.1     None      49.0  \n56        0.1     None      49.0  \n57        0.1     None      49.0  \n58        0.1     None      49.0  \n59        0.1     None      49.0  "
     },
     "execution_count": 5,
     "metadata": {},
     "output_type": "execute_result"
    }
   ],
   "source": [
    "pr.job_table()"
   ]
  },
  {
   "cell_type": "markdown",
   "metadata": {},
   "source": "## Analysis using `PyironTables`\n\nThe idea now is to go over all finished Murnaghan jobs and extract the equilibrium lattice parameter and bulk modulus, and classify them based of the potential used."
  },
  {
   "cell_type": "markdown",
   "metadata": {},
   "source": "### Defining filter functions\n\nSince a project can have thousands if not millions of jobs, it is necessary to \"filter\" the data and only apply the functions (some of which can be computationally expensive) to only this data. In this example, we need to filter jobs that are finished and are of type `Murnaghan`. This can be done in two ways: using the job table i.e. the entries in the database, or using the job itself i.e. using entries in the stored HDF5 file. Below are examples of filter functions acting on the job and the job table respectively."
  },
  {
   "cell_type": "code",
   "execution_count": 6,
   "metadata": {
    "trusted": true
   },
   "outputs": [],
   "source": [
    "# Filtering using the database entries (which are obtained as a pandas Dataframe)\n",
    "def db_filter_function(job_table):\n",
    "    # Returns a pandas Series of boolean values (True for entries that have status finished\n",
    "    # and hamilton type Murnaghan.)\n",
    "    return (job_table.status == \"finished\") & (job_table.hamilton == \"Murnaghan\")\n",
    "\n",
    "\n",
    "# Filtering based on the job\n",
    "def job_filter_function(job):\n",
    "    # returns a boolean value if the status of the job\n",
    "    # is finished and if \"murn\" is in it's job name\n",
    "    return (job.status == \"finished\") & (job.database_entry.hamilton == \"Murnaghan\")"
   ]
  },
  {
   "cell_type": "markdown",
   "metadata": {},
   "source": "Obviously, using the database is faster in this case but sometimes it might be necessary to filter based on some data that are stored in the HDF5 file of the job. The database filter is applied first followed by the job based filter."
  },
  {
   "cell_type": "markdown",
   "metadata": {},
   "source": "### Defining functions that act on jobs\n\nNow we define a set of functions that will be applied on each job to return a certain value. The filtered jobs will be loaded and these functions will be applied on the loaded jobs. The advantage of such functions is that the jobs do not have to be loaded every time such operations are performed. The filtered jobs are loaded once, and then they are passed to these functions to construct the table."
  },
  {
   "cell_type": "code",
   "execution_count": 7,
   "metadata": {
    "trusted": true
   },
   "outputs": [],
   "source": [
    "# Getting equilibrium lattice parameter from Murnaghan jobs\n",
    "def get_lattice_parameter(job):\n",
    "    return job[\"output/equilibrium_volume\"] ** (1 / 3)\n",
    "\n",
    "\n",
    "# Getting equilibrium bulk modulus from Murnaghan jobs\n",
    "def get_bm(job):\n",
    "    return job[\"output/equilibrium_bulk_modulus\"]\n",
    "\n",
    "\n",
    "# Getting the potential used in each Murnaghan job\n",
    "def get_pot(job):\n",
    "    return job[\"Al_ref/input/potential_inp/potential/Name\"]"
   ]
  },
  {
   "cell_type": "markdown",
   "metadata": {},
   "source": "### Creating a pyiron table\n\nNow that all the functions are defined, the pyiron table called \"table\" is created in the following way. This works like a job and can be reloaded at any time."
  },
  {
   "cell_type": "code",
   "execution_count": 8,
   "metadata": {
    "trusted": true
   },
   "outputs": [
    {
     "name": "stdout",
     "output_type": "stream",
     "text": "The job table was saved and received the ID: 61\n"
    },
    {
     "data": {
      "application/vnd.jupyter.widget-view+json": {
       "model_id": "5377d67bbcd74556a0fd76725b59480f",
       "version_major": 2,
       "version_minor": 0
      },
      "text/plain": "Loading and filtering jobs:   0%|          | 0/4 [00:00<?, ?it/s]"
     },
     "metadata": {},
     "output_type": "display_data"
    },
    {
     "data": {
      "application/vnd.jupyter.widget-view+json": {
       "model_id": "9c7823ef04fd494082167c62e2e32838",
       "version_major": 2,
       "version_minor": 0
      },
      "text/plain": "  0%|          | 0/4 [00:00<?, ?it/s]"
     },
     "metadata": {},
     "output_type": "display_data"
    },
    {
     "name": "stdout",
     "output_type": "stream",
     "text": "CPU times: user 296 ms, sys: 28.2 ms, total: 324 ms\nWall time: 1.93 s\n"
    }
   ],
   "source": [
    "%%time\n",
    "# creating a pyiron table\n",
    "table = pr.create.table(\"table\")\n",
    "\n",
    "# assigning a database filter function\n",
    "table.db_filter_function = db_filter_function\n",
    "\n",
    "# Alternatively/additionally, a job based filter function can be applied\n",
    "# (it does the same thing in this case).\n",
    "\n",
    "# table.filter_function = job_filter_function\n",
    "\n",
    "# Adding the functions using the labels you like\n",
    "table.add[\"a_eq\"] = get_lattice_parameter\n",
    "table.add[\"bulk_modulus\"] = get_bm\n",
    "table.add[\"potential\"] = get_pot\n",
    "# Running the table to generate the data\n",
    "table.run(delete_existing_job=True)"
   ]
  },
  {
   "cell_type": "markdown",
   "metadata": {},
   "source": "The output can now be obtained as a pandas DataFrame"
  },
  {
   "cell_type": "code",
   "execution_count": 9,
   "metadata": {
    "trusted": true
   },
   "outputs": [
    {
     "data": {
      "text/html": "<div>\n<style scoped>\n    .dataframe tbody tr th:only-of-type {\n        vertical-align: middle;\n    }\n\n    .dataframe tbody tr th {\n        vertical-align: top;\n    }\n\n    .dataframe thead th {\n        text-align: right;\n    }\n</style>\n<table border=\"1\" class=\"dataframe\">\n  <thead>\n    <tr style=\"text-align: right;\">\n      <th></th>\n      <th>job_id</th>\n      <th>a_eq</th>\n      <th>bulk_modulus</th>\n      <th>potential</th>\n    </tr>\n  </thead>\n  <tbody>\n    <tr>\n      <th>0</th>\n      <td>1</td>\n      <td>4.049954</td>\n      <td>81.040445</td>\n      <td>1995--Angelo-J-E--Ni-Al-H--LAMMPS--ipr1</td>\n    </tr>\n    <tr>\n      <th>1</th>\n      <td>25</td>\n      <td>4.032659</td>\n      <td>83.498560</td>\n      <td>1997--Liu-X-Y--Al-Mg--LAMMPS--ipr1</td>\n    </tr>\n    <tr>\n      <th>2</th>\n      <td>37</td>\n      <td>4.033449</td>\n      <td>90.567635</td>\n      <td>1998--Liu-X-Y--Al-Mg--LAMMPS--ipr1</td>\n    </tr>\n    <tr>\n      <th>3</th>\n      <td>49</td>\n      <td>4.032642</td>\n      <td>83.423053</td>\n      <td>1999--Liu-X-Y--Al-Cu--LAMMPS--ipr1</td>\n    </tr>\n  </tbody>\n</table>\n</div>",
      "text/plain": "   job_id      a_eq  bulk_modulus                                potential\n0       1  4.049954     81.040445  1995--Angelo-J-E--Ni-Al-H--LAMMPS--ipr1\n1      25  4.032659     83.498560       1997--Liu-X-Y--Al-Mg--LAMMPS--ipr1\n2      37  4.033449     90.567635       1998--Liu-X-Y--Al-Mg--LAMMPS--ipr1\n3      49  4.032642     83.423053       1999--Liu-X-Y--Al-Cu--LAMMPS--ipr1"
     },
     "execution_count": 9,
     "metadata": {},
     "output_type": "execute_result"
    }
   ],
   "source": [
    "table.get_dataframe()"
   ]
  },
  {
   "cell_type": "markdown",
   "metadata": {},
   "source": "You can now compare the computed equilibrium lattice constants for each potential to those computed in the NIST database for Al (fcc phase). https://www.ctcms.nist.gov/potentials/system/Al/#Al."
  },
  {
   "cell_type": "code",
   "execution_count": 10,
   "metadata": {
    "tags": [],
    "trusted": true
   },
   "outputs": [
    {
     "name": "stdout",
     "output_type": "stream",
     "text": "The job table was saved and received the ID: 61\n"
    },
    {
     "data": {
      "application/vnd.jupyter.widget-view+json": {
       "model_id": "e867f7155e5d4926a4d8cde4324f6943",
       "version_major": 2,
       "version_minor": 0
      },
      "text/plain": "Loading and filtering jobs:   0%|          | 0/61 [00:00<?, ?it/s]"
     },
     "metadata": {},
     "output_type": "display_data"
    },
    {
     "data": {
      "application/vnd.jupyter.widget-view+json": {
       "model_id": "7b7bcf00c4144794877f5f4a76d37f13",
       "version_major": 2,
       "version_minor": 0
      },
      "text/plain": "  0%|          | 0/4 [00:00<?, ?it/s]"
     },
     "metadata": {},
     "output_type": "display_data"
    },
    {
     "name": "stdout",
     "output_type": "stream",
     "text": "CPU times: user 367 ms, sys: 43.1 ms, total: 410 ms\nWall time: 601 ms\n"
    }
   ],
   "source": [
    "%%time\n",
    "# creating a pyiron table\n",
    "table = pr.create.table(\"table\")\n",
    "\n",
    "# assigning a database filter function\n",
    "# table.db_filter_function = db_filter_function\n",
    "\n",
    "# Alternatively/additionally, a job based filter function can be applied\n",
    "# (it does the same thing in this case).\n",
    "table.filter_function = job_filter_function\n",
    "\n",
    "# Adding the functions using the labels you like\n",
    "table.add[\"a_eq\"] = get_lattice_parameter\n",
    "table.add[\"bulk_modulus\"] = get_bm\n",
    "table.add[\"potential\"] = get_pot\n",
    "# Running the table to generate the data\n",
    "table.run(delete_existing_job=True)"
   ]
  },
  {
   "cell_type": "code",
   "execution_count": 11,
   "metadata": {
    "tags": [],
    "trusted": true
   },
   "outputs": [
    {
     "data": {
      "text/html": "<div>\n<style scoped>\n    .dataframe tbody tr th:only-of-type {\n        vertical-align: middle;\n    }\n\n    .dataframe tbody tr th {\n        vertical-align: top;\n    }\n\n    .dataframe thead th {\n        text-align: right;\n    }\n</style>\n<table border=\"1\" class=\"dataframe\">\n  <thead>\n    <tr style=\"text-align: right;\">\n      <th></th>\n      <th>job_id</th>\n      <th>a_eq</th>\n      <th>bulk_modulus</th>\n      <th>potential</th>\n    </tr>\n  </thead>\n  <tbody>\n    <tr>\n      <th>0</th>\n      <td>1</td>\n      <td>4.049954</td>\n      <td>81.040445</td>\n      <td>1995--Angelo-J-E--Ni-Al-H--LAMMPS--ipr1</td>\n    </tr>\n    <tr>\n      <th>1</th>\n      <td>25</td>\n      <td>4.032659</td>\n      <td>83.498560</td>\n      <td>1997--Liu-X-Y--Al-Mg--LAMMPS--ipr1</td>\n    </tr>\n    <tr>\n      <th>2</th>\n      <td>37</td>\n      <td>4.033449</td>\n      <td>90.567635</td>\n      <td>1998--Liu-X-Y--Al-Mg--LAMMPS--ipr1</td>\n    </tr>\n    <tr>\n      <th>3</th>\n      <td>49</td>\n      <td>4.032642</td>\n      <td>83.423053</td>\n      <td>1999--Liu-X-Y--Al-Cu--LAMMPS--ipr1</td>\n    </tr>\n  </tbody>\n</table>\n</div>",
      "text/plain": "   job_id      a_eq  bulk_modulus                                potential\n0       1  4.049954     81.040445  1995--Angelo-J-E--Ni-Al-H--LAMMPS--ipr1\n1      25  4.032659     83.498560       1997--Liu-X-Y--Al-Mg--LAMMPS--ipr1\n2      37  4.033449     90.567635       1998--Liu-X-Y--Al-Mg--LAMMPS--ipr1\n3      49  4.032642     83.423053       1999--Liu-X-Y--Al-Cu--LAMMPS--ipr1"
     },
     "execution_count": 11,
     "metadata": {},
     "output_type": "execute_result"
    }
   ],
   "source": [
    "table.get_dataframe()"
   ]
  },
  {
   "cell_type": "code",
   "execution_count": null,
   "metadata": {},
   "outputs": [],
   "source": []
  }
 ],
 "metadata": {
  "kernelspec": {
   "display_name": "Python 3 (ipykernel)",
   "language": "python",
   "name": "python3"
  },
  "language_info": {
   "codemirror_mode": {
    "name": "ipython",
    "version": 3
   },
   "file_extension": ".py",
   "mimetype": "text/x-python",
   "name": "python",
   "nbconvert_exporter": "python",
   "pygments_lexer": "ipython3",
   "version": "3.10.12"
  }
 },
 "nbformat": 4,
 "nbformat_minor": 4
}