{
 "cells": [
  {
   "cell_type": "code",
   "execution_count": 1,
   "id": "83a84f7c-aec3-4c62-8ace-e063f6a8f428",
   "metadata": {},
   "outputs": [
    {
     "data": {
      "application/vnd.jupyter.widget-view+json": {
       "model_id": "aa9b41f962b64faa9a3ec53ef1e9aa95",
       "version_major": 2,
       "version_minor": 0
      },
      "text/plain": []
     },
     "metadata": {},
     "output_type": "display_data"
    }
   ],
   "source": [
    "from pyiron_atomistics import Project"
   ]
  },
  {
   "cell_type": "code",
   "execution_count": 2,
   "id": "a0937262-5c2b-4b57-9a55-b2bf91e79d23",
   "metadata": {},
   "outputs": [],
   "source": [
    "pr = Project(\"test\")"
   ]
  },
  {
   "cell_type": "code",
   "execution_count": 3,
   "id": "ade5d382-cfa2-4fc5-b540-18f85ab6dc09",
   "metadata": {},
   "outputs": [],
   "source": [
    "job = pr.create.job.Lammps(\"lmp\")"
   ]
  },
  {
   "cell_type": "code",
   "execution_count": 4,
   "id": "ac8a91da-2c85-4354-88df-0ebd3a144317",
   "metadata": {},
   "outputs": [],
   "source": [
    "job.structure = pr.create.structure.ase.bulk(\"Al\", cubic=True)"
   ]
  },
  {
   "cell_type": "code",
   "execution_count": 5,
   "id": "d037022c-dbb7-4ba3-a9f8-2cc74777f0c0",
   "metadata": {},
   "outputs": [
    {
     "name": "stderr",
     "output_type": "stream",
     "text": [
      "/Users/janssen/mambaforge/lib/python3.11/site-packages/pyiron_atomistics/lammps/base.py:294: UserWarning: No potential set via job.potential - use default potential, 1995--Angelo-J-E--Ni-Al-H--LAMMPS--ipr1\n",
      "  warnings.warn(\n"
     ]
    },
    {
     "name": "stdout",
     "output_type": "stream",
     "text": [
      "The job lmp was saved and received the ID: 271\n"
     ]
    }
   ],
   "source": [
    "job.run()"
   ]
  },
  {
   "cell_type": "code",
   "execution_count": 6,
   "id": "b164786a-6b56-400a-a173-5d3a9ce4f7fc",
   "metadata": {},
   "outputs": [],
   "source": [
    "job_reload = pr.load(job.job_name)"
   ]
  },
  {
   "cell_type": "code",
   "execution_count": null,
   "id": "8ab0b663-eff1-43f8-98d0-ed8bf7614b94",
   "metadata": {},
   "outputs": [],
   "source": []
  }
 ],
 "metadata": {
  "kernelspec": {
   "display_name": "Python 3 (ipykernel)",
   "language": "python",
   "name": "python3"
  },
  "language_info": {
   "codemirror_mode": {
    "name": "ipython",
    "version": 3
   },
   "file_extension": ".py",
   "mimetype": "text/x-python",
   "name": "python",
   "nbconvert_exporter": "python",
   "pygments_lexer": "ipython3",
   "version": "3.11.8"
  }
 },
 "nbformat": 4,
 "nbformat_minor": 5
}
