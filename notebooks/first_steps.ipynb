{
 "cells": [
  {
   "cell_type": "markdown",
   "metadata": {},
   "source": [
    "# First steps through pyiron"
   ]
  },
  {
   "cell_type": "markdown",
   "metadata": {},
   "source": [
    "This section gives a brief introduction about fundamental concepts of pyiron and how they can be used to setup, run and analyze atomic simulations. As a first step we import the libraries [numpy](http://www.numpy.org/) for data analysis and [matplotlib](https://matplotlib.org/) for visualization."
   ]
  },
  {
   "cell_type": "code",
   "execution_count": 1,
   "metadata": {},
   "outputs": [],
   "source": [
    "import numpy as np\n",
    "%matplotlib inline\n",
    "import matplotlib.pylab as plt"
   ]
  },
  {
   "cell_type": "markdown",
   "metadata": {},
   "source": [
    "To import pyiron simply use:"
   ]
  },
  {
   "cell_type": "code",
   "execution_count": 2,
   "metadata": {
    "ExecuteTime": {
     "end_time": "2018-02-09T18:45:45.068257Z",
     "start_time": "2018-02-09T18:45:43.533004Z"
    }
   },
   "outputs": [],
   "source": [
    "from pyiron.project import Project"
   ]
  },
  {
   "cell_type": "markdown",
   "metadata": {},
   "source": [
    "The Project object introduced below is central in pyiron. It allows to name the project as well as to derive all other objects such as structures, jobs etc. without having to import them. Thus, by code completion *Tab* the respective commands can be found easily."
   ]
  },
  {
   "cell_type": "markdown",
   "metadata": {},
   "source": [
    "We now create a pyiron Project named 'first_steps'."
   ]
  },
  {
   "cell_type": "code",
   "execution_count": 3,
   "metadata": {},
   "outputs": [],
   "source": [
    "pr = Project(path='first_steps')"
   ]
  },
  {
   "cell_type": "markdown",
   "metadata": {},
   "source": [
    "The project name also applies for the directory that is created for the project."
   ]
  },
  {
   "cell_type": "markdown",
   "metadata": {},
   "source": [
    "## Perform a LAMMPS MD simulation"
   ]
  },
  {
   "cell_type": "markdown",
   "metadata": {},
   "source": [
    "Having created an instance of the pyiron Project we now perform a [LAMMPS](http://lammps.sandia.gov/) molecular dynamics simulation."
   ]
  },
  {
   "cell_type": "markdown",
   "metadata": {},
   "source": [
    "For this basic simulation example we construct an fcc Al crystal in a cubic supercell (`cubic=True`). For more details on generating structures, please have a look at our [structures example](./structures.ipynb)"
   ]
  },
  {
   "cell_type": "code",
   "execution_count": 4,
   "metadata": {},
   "outputs": [
    {
     "name": "stderr",
     "output_type": "stream",
     "text": [
      "/tmp/ipykernel_40388/2995194028.py:1: DeprecationWarning: pyiron_atomistics.project.create_ase_bulk is deprecated: Use create.struture.bulk instead.\n",
      "  basis = pr.create_ase_bulk('Al', cubic=True)\n"
     ]
    },
    {
     "data": {
      "application/vnd.jupyter.widget-view+json": {
       "model_id": "dc801158f0164cb286ac0c929313189e",
       "version_major": 2,
       "version_minor": 0
      },
      "text/plain": []
     },
     "metadata": {},
     "output_type": "display_data"
    },
    {
     "data": {
      "application/vnd.jupyter.widget-view+json": {
       "model_id": "ac647dafd2594405b2cdc1fdd3996ff9",
       "version_major": 2,
       "version_minor": 0
      },
      "text/plain": [
       "NGLWidget()"
      ]
     },
     "metadata": {},
     "output_type": "display_data"
    }
   ],
   "source": [
    "basis = pr.create_ase_bulk('Al', cubic=True)\n",
    "supercell_3x3x3 = basis.repeat([3, 3, 3])\n",
    "supercell_3x3x3.plot3d()"
   ]
  },
  {
   "cell_type": "markdown",
   "metadata": {},
   "source": [
    "Here `create_ase_bulk` uses the [ASE bulk module](https://wiki.fysik.dtu.dk/ase/ase/build/build.html). The structure can be modified - here we extend the original cell to a 3x3x3 supercell (`repeat([3, 3, 3]`). Finally, we plot the structure using [NGlview](http://nglviewer.org/nglview/latest/api.html)."
   ]
  },
  {
   "cell_type": "markdown",
   "metadata": {},
   "source": [
    "The project object allows to create various simulation job types. Here, we create a LAMMPS job."
   ]
  },
  {
   "cell_type": "code",
   "execution_count": 5,
   "metadata": {},
   "outputs": [],
   "source": [
    "job = pr.create_job(job_type=pr.job_type.Lammps, job_name='Al_T800K')"
   ]
  },
  {
   "cell_type": "markdown",
   "metadata": {},
   "source": [
    "Further, we specify a Molecular Dynamics simulation at $T=800$ K using the supercell structure created above."
   ]
  },
  {
   "cell_type": "code",
   "execution_count": 6,
   "metadata": {
    "ExecuteTime": {
     "end_time": "2018-02-09T18:45:46.155546Z",
     "start_time": "2018-02-09T18:45:45.553946Z"
    }
   },
   "outputs": [],
   "source": [
    "job.structure = supercell_3x3x3\n",
    "job.calc_md(temperature=800, pressure=0, n_ionic_steps=10000)"
   ]
  },
  {
   "cell_type": "markdown",
   "metadata": {},
   "source": [
    "To see all available interatomic potentials which are compatible with the structure (for our example they must contain Al) and the job type (here LAMMPS) we call `job.list_potentials()`."
   ]
  },
  {
   "cell_type": "code",
   "execution_count": 7,
   "metadata": {},
   "outputs": [
    {
     "data": {
      "text/plain": [
       "['Al_Ca_Mg_MEAM_Jang_HS_2020',\n",
       " 'Al_Zn_Mg_MEAM_Jang_HS_2020',\n",
       " '1995--Angelo-J-E--Ni-Al-H--LAMMPS--ipr1',\n",
       " '1996--Farkas-D--Nb-Ti-Al--LAMMPS--ipr1',\n",
       " '1997--Liu-X-Y--Al-Mg--LAMMPS--ipr1',\n",
       " '1998--Liu-X-Y--Al-Mg--LAMMPS--ipr1',\n",
       " '1999--Liu-X-Y--Al-Cu--LAMMPS--ipr1',\n",
       " '1999--Mishin-Y--Al--LAMMPS--ipr1',\n",
       " '2000--Landa-A--Al-Pb--LAMMPS--ipr1',\n",
       " '2000--Sturgeon-J-B--Al--LAMMPS--ipr1',\n",
       " '2002--Mishin-Y--Ni-Al--LAMMPS--ipr1',\n",
       " '2003--Lee-B-J--Al--LAMMPS--ipr1',\n",
       " '2003--Zope-R-R--Al--LAMMPS--ipr1',\n",
       " '2003--Zope-R-R--Ti-Al--LAMMPS--ipr1',\n",
       " '2004--Liu-X-Y--Al--LAMMPS--ipr1',\n",
       " '2004--Mishin-Y--Ni-Al--LAMMPS--ipr1',\n",
       " '2004--Mishin-Y--Ni-Al--LAMMPS--ipr2',\n",
       " '2004--Zhou-X-W--Al--LAMMPS--ipr2',\n",
       " '2005--Mendelev-M-I--Al-Fe--LAMMPS--ipr1',\n",
       " '2007--Silva-A-C--Al-Ni--LAMMPS--ipr1',\n",
       " '2008--Mendelev-M-I--Al--LAMMPS--ipr1',\n",
       " '2009--Kim-Y-M--Mg-Al--LAMMPS--ipr1',\n",
       " '2009--Mendelev-M-I--Al-Mg--LAMMPS--ipr1',\n",
       " '2009--Purja-Pun-G-P--Ni-Al--LAMMPS--ipr1',\n",
       " '2009--Zhakhovskii-V-V--Al--LAMMPS--ipr2',\n",
       " '2010--Lee-E--Fe-Al--LAMMPS--ipr1',\n",
       " '2010--Mendelev-M-I--fictional-Al-1--LAMMPS--ipr1',\n",
       " '2010--Mendelev-M-I--fictional-Al-2--LAMMPS--ipr1',\n",
       " '2010--Mendelev-M-I--fictional-Al-3--LAMMPS--ipr1',\n",
       " '2010--Winey-J-M--Al--LAMMPS--ipr1',\n",
       " '2011--Apostol-F--Al-Cu--LAMMPS--ipr1',\n",
       " '2011--Ko-W-S--Al-H--LAMMPS--ipr1',\n",
       " '2012--Dong-W-P--Co-Al--LAMMPS--ipr1',\n",
       " '2012--Jelinek-B--Al-Si-Mg-Cu-Fe--LAMMPS--ipr2',\n",
       " '2012--Schopf-D--Al-Mn-Pd--LAMMPS--ipr1',\n",
       " '2013--Shim-J-H--V-Al--LAMMPS--ipr1',\n",
       " '2013--Shim-J-H--V-Al-H--LAMMPS--ipr1',\n",
       " '2015--Choudhary-K--Al--LAMMPS--ipr1',\n",
       " '2015--Choudhary-K--Al-O--LAMMPS--ipr1',\n",
       " '2015--Kim-Y-K--Ni-Al-Co--LAMMPS--ipr1',\n",
       " '2015--Kumar-A--Al-Ni--LAMMPS--ipr1',\n",
       " '2015--Kumar-A--Al-Ni-O--LAMMPS--ipr1',\n",
       " '2015--Mendelev-M-I--Al-Sm--LAMMPS--ipr1',\n",
       " '2015--Pascuet-M-I--Al--LAMMPS--ipr1',\n",
       " '2015--Pascuet-M-I--Al-U--LAMMPS--ipr2',\n",
       " '2015--Purja-Pun-G-P--Al-Co--LAMMPS--ipr2',\n",
       " '2015--Purja-Pun-G-P--Ni-Al-Co--LAMMPS--ipr2',\n",
       " '2016--Kim-Y-K--Al-Ti--LAMMPS--ipr1',\n",
       " '2016--Zhou-X-W--Al-Cu--LAMMPS--ipr2',\n",
       " '2017--Botu-V--Al--LAMMPS--ipr1',\n",
       " '2017--Kim-J-S--Pt-Al--LAMMPS--ipr1',\n",
       " '2017--Kim-Y-K--Ni-Al-Ti--LAMMPS--ipr1',\n",
       " '2018--Dickel-D-E--Mg-Al-Zn--LAMMPS--ipr1',\n",
       " '2018--Jeong-G-U--Pd-Al--LAMMPS--ipr1',\n",
       " '2018--Zhou-X-W--Al-Cu-H--LAMMPS--ipr1',\n",
       " '2020--Farkas-D--Fe-Ni-Cr-Co-Al--LAMMPS--ipr1',\n",
       " '2020--Starikov-S--Si-Au-Al--LAMMPS--ipr1',\n",
       " '2020--Starikov-S--Si-Au-Al--LAMMPS--ipr2',\n",
       " 'EAM_CubicNaturalSpline_ErcolessiAdams_1994_Al__MO_800509458712_002',\n",
       " 'EAM_Dynamo_AngeloMoodyBaskes_1995_NiAlH__MO_418978237058_005',\n",
       " 'EAM_Dynamo_CaiYe_1996_AlCu__MO_942551040047_005',\n",
       " 'EAM_Dynamo_ErcolessiAdams_1994_Al__MO_123629422045_005',\n",
       " 'EAM_Dynamo_FarkasJones_1996_NbTiAl__MO_042691367780_000',\n",
       " 'EAM_Dynamo_JacobsenNorskovPuska_1987_Al__MO_411692133366_000',\n",
       " 'EAM_Dynamo_LandaWynblattSiegel_2000_AlPb__MO_699137396381_005',\n",
       " 'EAM_Dynamo_LiuAdams_1998_AlMg__MO_019873715786_000',\n",
       " 'EAM_Dynamo_LiuErcolessiAdams_2004_Al__MO_051157671505_000',\n",
       " 'EAM_Dynamo_LiuLiuBorucki_1999_AlCu__MO_020851069572_000',\n",
       " 'EAM_Dynamo_LiuOhotnickyAdams_1997_AlMg__MO_559870613549_000',\n",
       " 'EAM_Dynamo_MendelevAstaRahman_2009_AlMg__MO_658278549784_005',\n",
       " 'EAM_Dynamo_MendelevFangYe_2015_AlSm__MO_338600200739_000',\n",
       " 'EAM_Dynamo_MendelevKramerBecker_2008_Al__MO_106969701023_005',\n",
       " 'EAM_Dynamo_MendelevSrolovitzAckland_2005_AlFe__MO_577453891941_005',\n",
       " 'EAM_Dynamo_MishinFarkasMehl_1999_Al__MO_651801486679_005',\n",
       " 'EAM_Dynamo_MishinMehlPapaconstantopoulos_2002_NiAl__MO_109933561507_005',\n",
       " 'EAM_Dynamo_Mishin_2004_NiAl__MO_101214310689_005',\n",
       " 'EAM_Dynamo_PunMishin_2009_NiAl__MO_751354403791_005',\n",
       " 'EAM_Dynamo_PunYamakovMishin_2013_AlCo__MO_678952612413_000',\n",
       " 'EAM_Dynamo_PunYamakovMishin_2013_NiAlCo__MO_826591359508_000',\n",
       " 'EAM_Dynamo_SchopfBrommerFrigan_2012_AlMnPd__MO_137572817842_000',\n",
       " 'EAM_Dynamo_SturgeonLaird_2000_Al__MO_120808805541_005',\n",
       " 'EAM_Dynamo_VailheFarkas_1997_CoAl__MO_284963179498_005',\n",
       " 'EAM_Dynamo_WineyKubotaGupta_2010_Al__MO_149316865608_005',\n",
       " 'EAM_Dynamo_Zhakhovsky_2009_Al__MO_519613893196_000',\n",
       " 'EAM_Dynamo_ZhouJohnsonWadley_2004NISTretabulation_Al__MO_060567868558_000',\n",
       " 'EAM_Dynamo_ZhouJohnsonWadley_2004_Al__MO_131650261510_005',\n",
       " 'EAM_Dynamo_ZhouWadleyJohnson_2001_Al__MO_049243498555_000',\n",
       " 'EAM_Dynamo_ZopeMishin_2003_Al__MO_664470114311_005',\n",
       " 'EAM_Dynamo_ZopeMishin_2003_TiAl__MO_117656786760_005',\n",
       " 'EAM_ErcolessiAdams_1994_Al__MO_324507536345_003',\n",
       " 'EAM_IMD_BrommerGaehler_2006A_AlNiCo__MO_122703700223_003',\n",
       " 'EAM_IMD_BrommerGaehler_2006B_AlNiCo__MO_128037485276_003',\n",
       " 'EAM_IMD_SchopfBrommerFrigan_2012_AlMnPd__MO_878712978062_003',\n",
       " 'EAM_QuinticClampedSpline_ErcolessiAdams_1994_Al__MO_450093727396_002',\n",
       " 'EAM_QuinticHermiteSpline_ErcolessiAdams_1994_Al__MO_781138671863_002',\n",
       " 'EMT_Asap_Standard_JacobsenStoltzeNorskov_1996_AlAgAuCuNiPdPt__MO_115316750986_001',\n",
       " 'EMT_Asap_Standard_JacobsenStoltzeNorskov_1996_Al__MO_623376124862_001',\n",
       " 'MEAM_LAMMPS_AlmyrasSangiovanniSarakinos_2019_NAlTi__MO_958395190627_000',\n",
       " 'MEAM_LAMMPS_CostaAgrenClavaguera_2007_AlNi__MO_131642768288_000',\n",
       " 'MEAM_LAMMPS_DongKimKo_2012_CoAl__MO_099716416216_000',\n",
       " 'MEAM_LAMMPS_JelinekGrohHorstemeyer_2012_AlSiMgCuFe__MO_262519520678_000',\n",
       " 'MEAM_LAMMPS_JeongParkDo_2018_PdAl__MO_616482358807_000',\n",
       " 'MEAM_LAMMPS_KimJungLee_2015_NiAlCo__MO_876687166519_000',\n",
       " 'MEAM_LAMMPS_KimKimJung_2016_AlTi__MO_618133763375_000',\n",
       " 'MEAM_LAMMPS_KimKimJung_2017_NiAlTi__MO_478967255435_000',\n",
       " 'MEAM_LAMMPS_KimKimLee_2009_AlMg__MO_058537087384_000',\n",
       " 'MEAM_LAMMPS_KimSeolJi_2017_PtAl__MO_793141037706_000',\n",
       " 'MEAM_LAMMPS_KoShimLee_2011_AlH__MO_127847080751_000',\n",
       " 'MEAM_LAMMPS_LeeLee_2010_FeAl__MO_332211522050_000',\n",
       " 'MEAM_LAMMPS_PascuetFernandez_2015_AlU__MO_596300673917_000',\n",
       " 'MEAM_LAMMPS_PascuetFernandez_2015_Al__MO_315820974149_000',\n",
       " 'MEAM_LAMMPS_ShimKoKim_2013_AlVH__MO_344724145339_000',\n",
       " 'Morse_Shifted_GirifalcoWeizer_1959HighCutoff_Al__MO_140175748626_004',\n",
       " 'Morse_Shifted_GirifalcoWeizer_1959LowCutoff_Al__MO_411898953661_004',\n",
       " 'Morse_Shifted_GirifalcoWeizer_1959MedCutoff_Al__MO_279544746097_004',\n",
       " 'Sim_LAMMPS_ADP_ApostolMishin_2011_AlCu__SM_667696763561_000',\n",
       " 'Sim_LAMMPS_ADP_StarikovGordeevLysogorskiy_2020_SiAuAl__SM_113843830602_000',\n",
       " 'Sim_LAMMPS_AGNI_BotuBatraChapman_2017_Al__SM_666183636896_000',\n",
       " 'Sim_LAMMPS_BOP_ZhouWardFoster_2016_AlCu__SM_566399258279_000',\n",
       " 'Sim_LAMMPS_MEAM_AlmyrasSangiovanniSarakinos_2019_NAlTi__SM_871795249052_000',\n",
       " 'Sim_LAMMPS_MEAM_JelinekGrohHorstemeyer_2012_AlSiMgCuFe__SM_656517352485_000',\n",
       " 'Sim_LAMMPS_MEAM_PascuetFernandez_2015_AlU__SM_721930391003_000',\n",
       " 'Sim_LAMMPS_MEAM_PascuetFernandez_2015_Al__SM_811588957187_000',\n",
       " 'Sim_LAMMPS_SMTBQ_SallesPolitanoAmzallag_2016_AlO__SM_853967355976_000',\n",
       " 'Sim_LAMMPS_SMTBQ_SallesPolitanoAmzallag_2016_Al__SM_404097633924_000']"
      ]
     },
     "execution_count": 7,
     "metadata": {},
     "output_type": "execute_result"
    }
   ],
   "source": [
    "job.list_potentials()"
   ]
  },
  {
   "cell_type": "markdown",
   "metadata": {},
   "source": [
    "From the above let us select the first potential in the list."
   ]
  },
  {
   "cell_type": "code",
   "execution_count": 8,
   "metadata": {
    "ExecuteTime": {
     "end_time": "2018-02-09T18:45:46.735000Z",
     "start_time": "2018-02-09T18:45:46.202421Z"
    }
   },
   "outputs": [
    {
     "name": "stdout",
     "output_type": "stream",
     "text": [
      "Selected potential:  Al_Ca_Mg_MEAM_Jang_HS_2020\n"
     ]
    }
   ],
   "source": [
    "pot = job.list_potentials()[0]\n",
    "print ('Selected potential: ', pot)\n",
    "job.potential = pot"
   ]
  },
  {
   "cell_type": "markdown",
   "metadata": {},
   "source": [
    "To run the LAMMPS simulation (locally) we now simply use:"
   ]
  },
  {
   "cell_type": "code",
   "execution_count": 9,
   "metadata": {},
   "outputs": [
    {
     "name": "stdout",
     "output_type": "stream",
     "text": [
      "The job Al_T800K was saved and received the ID: 17869737\n"
     ]
    }
   ],
   "source": [
    "job.run()"
   ]
  },
  {
   "cell_type": "markdown",
   "metadata": {},
   "source": [
    "## Analyze the calculation"
   ]
  },
  {
   "cell_type": "markdown",
   "metadata": {},
   "source": [
    "After the simulation has finished the information about the job can be accessed through the Project object."
   ]
  },
  {
   "cell_type": "code",
   "execution_count": 10,
   "metadata": {
    "ExecuteTime": {
     "end_time": "2018-02-09T18:45:47.358552Z",
     "start_time": "2018-02-09T18:45:46.757140Z"
    }
   },
   "outputs": [
    {
     "data": {
      "text/plain": [
       "{'groups': ['executable', 'input', 'output'], 'nodes': ['HDF_VERSION', 'NAME', 'TYPE', 'VERSION', 'job_id', 'server', 'status']}"
      ]
     },
     "execution_count": 10,
     "metadata": {},
     "output_type": "execute_result"
    }
   ],
   "source": [
    "job = pr['Al_T800K']\n",
    "job"
   ]
  },
  {
   "cell_type": "markdown",
   "metadata": {},
   "source": [
    "Printing the job object (note that in Jupyter we don't have to call a print statement if the variable/object is in the last line). The output lists the variables (nodes) and the directories (groups). To get a list of all variables stored in the generic output we type:"
   ]
  },
  {
   "cell_type": "code",
   "execution_count": 11,
   "metadata": {
    "ExecuteTime": {
     "end_time": "2018-02-09T18:45:47.421055Z",
     "start_time": "2018-02-09T18:45:47.374180Z"
    }
   },
   "outputs": [
    {
     "data": {
      "text/plain": [
       "{'groups': [], 'nodes': ['cells', 'energy_pot', 'energy_tot', 'forces', 'indices', 'natoms', 'positions', 'pressures', 'steps', 'temperature', 'unwrapped_positions', 'velocities', 'volume']}"
      ]
     },
     "execution_count": 11,
     "metadata": {},
     "output_type": "execute_result"
    }
   ],
   "source": [
    "job['output/generic']"
   ]
  },
  {
   "cell_type": "markdown",
   "metadata": {},
   "source": [
    "An animated 3d plot of the MD trajectories is created by:"
   ]
  },
  {
   "cell_type": "code",
   "execution_count": 12,
   "metadata": {
    "ExecuteTime": {
     "end_time": "2018-02-09T18:45:47.536944Z",
     "start_time": "2018-02-09T18:45:47.421055Z"
    }
   },
   "outputs": [
    {
     "data": {
      "application/vnd.jupyter.widget-view+json": {
       "model_id": "3b06663e75b64309be89283faa10a71c",
       "version_major": 2,
       "version_minor": 0
      },
      "text/plain": [
       "NGLWidget(max_frame=100)"
      ]
     },
     "metadata": {},
     "output_type": "display_data"
    }
   ],
   "source": [
    "job.animate_structure()"
   ]
  },
  {
   "cell_type": "markdown",
   "metadata": {},
   "source": [
    "To analyze the temperature evolution we plot it as function of the MD step."
   ]
  },
  {
   "cell_type": "code",
   "execution_count": 13,
   "metadata": {},
   "outputs": [
    {
     "data": {
      "image/png": "[encoded data removed]",
      "text/plain": [
       "<Figure size 640x480 with 1 Axes>"
      ]
     },
     "metadata": {},
     "output_type": "display_data"
    }
   ],
   "source": [
    "# temperatures = job['output/generic/temperatures'] %% NOTE THAT THIS RETURNS NOTHING - A BUG?\n",
    "steps = job['output/generic/steps']\n",
    "plt.plot(job.output.steps, job.output.temperature)\n",
    "plt.xlabel('MD step')\n",
    "plt.ylabel('Temperature [K]');"
   ]
  },
  {
   "cell_type": "markdown",
   "metadata": {},
   "source": [
    "In the same way we can plot the trajectories."
   ]
  },
  {
   "cell_type": "code",
   "execution_count": 14,
   "metadata": {},
   "outputs": [
    {
     "data": {
      "image/png": "[encoded data removed]",
      "text/plain": [
       "<Figure size 640x480 with 1 Axes>"
      ]
     },
     "metadata": {},
     "output_type": "display_data"
    }
   ],
   "source": [
    "pos = job['output/generic/positions']\n",
    "x, y, z = [pos[:, :, i] for i in range(3)]\n",
    "sel = np.abs(z) < 0.1\n",
    "fig, axs = plt.subplots(1,1)\n",
    "axs.scatter(x[sel], y[sel])\n",
    "axs.set_xlabel('x [$\\AA$]')\n",
    "axs.set_ylabel('y [$\\AA$]')\n",
    "axs.set_aspect('equal', 'box');"
   ]
  },
  {
   "cell_type": "code",
   "execution_count": 15,
   "metadata": {},
   "outputs": [
    {
     "data": {
      "text/plain": [
       "101"
      ]
     },
     "execution_count": 15,
     "metadata": {},
     "output_type": "execute_result"
    }
   ],
   "source": [
    "len(steps)"
   ]
  },
  {
   "cell_type": "code",
   "execution_count": 16,
   "metadata": {},
   "outputs": [
    {
     "data": {
      "text/plain": [
       "101"
      ]
     },
     "execution_count": 16,
     "metadata": {},
     "output_type": "execute_result"
    }
   ],
   "source": [
    "len(pos)"
   ]
  },
  {
   "cell_type": "code",
   "execution_count": 17,
   "metadata": {},
   "outputs": [
    {
     "data": {
      "text/plain": [
       "array([[ 0.        ,  0.        ,  2.025     , ...,  8.1       ,\n",
       "        10.125     , 10.125     ],\n",
       "       [ 0.13189454, 12.32664995,  2.02217537, ...,  8.48005279,\n",
       "        10.46337762, 10.55183805],\n",
       "       [ 0.04356657,  0.10382841,  2.08429689, ...,  8.36316834,\n",
       "        10.5256312 , 10.3270985 ],\n",
       "       ...,\n",
       "       [ 0.01899995, 12.34645606,  2.15677001, ...,  8.11921928,\n",
       "        10.32322863, 10.42074716],\n",
       "       [12.29976572,  0.17073194,  2.20885174, ...,  8.24631588,\n",
       "        10.29993673, 10.07864682],\n",
       "       [ 0.07936778,  0.26538963,  1.87508159, ...,  8.07757858,\n",
       "        10.41473395, 10.42666037]])"
      ]
     },
     "execution_count": 17,
     "metadata": {},
     "output_type": "execute_result"
    }
   ],
   "source": [
    "pos[:,:,0]"
   ]
  },
  {
   "cell_type": "markdown",
   "metadata": {},
   "source": [
    "## Perform a series of jobs"
   ]
  },
  {
   "cell_type": "markdown",
   "metadata": {},
   "source": [
    "To run the MD simulation for various temperatures we can simply loop over the desired temperature values."
   ]
  },
  {
   "cell_type": "code",
   "execution_count": 18,
   "metadata": {},
   "outputs": [
    {
     "name": "stderr",
     "output_type": "stream",
     "text": [
      "2022-09-07 15:08:29,646 - pyiron_log - WARNING - The job Al_T200K is being loaded instead of running. To re-run use the argument 'delete_existing_job=True in create_job'\n",
      "2022-09-07 15:08:30,090 - pyiron_log - WARNING - The job Al_T400K is being loaded instead of running. To re-run use the argument 'delete_existing_job=True in create_job'\n",
      "2022-09-07 15:08:30,495 - pyiron_log - WARNING - The job Al_T600K is being loaded instead of running. To re-run use the argument 'delete_existing_job=True in create_job'\n",
      "2022-09-07 15:08:30,874 - pyiron_log - WARNING - The job Al_T800K is being loaded instead of running. To re-run use the argument 'delete_existing_job=True in create_job'\n",
      "2022-09-07 15:08:31,293 - pyiron_log - WARNING - The job Al_T1000K is being loaded instead of running. To re-run use the argument 'delete_existing_job=True in create_job'\n"
     ]
    }
   ],
   "source": [
    "for temperature in np.arange(200, 1200, 200):\n",
    "    job = pr.create_job(pr.job_type.Lammps, \n",
    "                        'Al_T{}K'.format(int(temperature)))\n",
    "    job.structure = supercell_3x3x3\n",
    "    job.potential = pot     \n",
    "    job.calc_md(temperature=temperature, \n",
    "                pressure=0, \n",
    "                n_ionic_steps=10000)\n",
    "    job.run()"
   ]
  },
  {
   "cell_type": "markdown",
   "metadata": {},
   "source": [
    "To inspect the list of jobs in our current project we type (note that the existing job from the previous excercise at $T=800$ K has been recognized and not run again):"
   ]
  },
  {
   "cell_type": "code",
   "execution_count": 19,
   "metadata": {},
   "outputs": [
    {
     "data": {
      "text/plain": [
       "{'groups': [], 'nodes': ['Al_T200K', 'Al_T400K', 'Al_T600K', 'Al_T1000K', 'Al_T800K']}"
      ]
     },
     "execution_count": 19,
     "metadata": {},
     "output_type": "execute_result"
    }
   ],
   "source": [
    "pr"
   ]
  },
  {
   "cell_type": "markdown",
   "metadata": {},
   "source": [
    "We can now iterate over the jobs and extract volume and mean temperature."
   ]
  },
  {
   "cell_type": "code",
   "execution_count": 20,
   "metadata": {},
   "outputs": [
    {
     "data": {
      "application/vnd.jupyter.widget-view+json": {
       "model_id": "3cf68f343c4a4fcc832406e90d90a183",
       "version_major": 2,
       "version_minor": 0
      },
      "text/plain": [
       "  0%|          | 0/5 [00:00<?, ?it/s]"
      ]
     },
     "metadata": {},
     "output_type": "display_data"
    }
   ],
   "source": [
    "vol_lst, temp_lst = [], []\n",
    "for job in pr.iter_jobs(convert_to_object=False):\n",
    "    volumes = job['output/generic/volume']\n",
    "    temperatures = job['output/generic/temperature']\n",
    "    temp_lst.append(np.mean(temperatures[:-20]))\n",
    "    vol_lst.append(np.mean(volumes[:-20]))"
   ]
  },
  {
   "cell_type": "markdown",
   "metadata": {},
   "source": [
    "Then we can use the extracted information to plot the thermal expansion, calculated within the $NPT$ ensemble. For plotting the temperature values in ascending order the volume list is mapped to the sorted temperature list."
   ]
  },
  {
   "cell_type": "code",
   "execution_count": 21,
   "metadata": {},
   "outputs": [
    {
     "data": {
      "image/png": "[encoded data removed]",
      "text/plain": [
       "<Figure size 640x480 with 1 Axes>"
      ]
     },
     "metadata": {},
     "output_type": "display_data"
    }
   ],
   "source": [
    "plt.figure()\n",
    "vol_lst[:] = [vol_lst[np.argsort(temp_lst)[k]] \n",
    "              for k in range(len(vol_lst))]\n",
    "plt.plot(sorted(temp_lst), vol_lst, \n",
    "         linestyle='-',marker='o',)\n",
    "plt.title('Thermal expansion')\n",
    "plt.xlabel('Temperature [K]')\n",
    "plt.ylabel('Volume [$\\AA^3$]');"
   ]
  },
  {
   "cell_type": "markdown",
   "metadata": {},
   "source": [
    "## Create a series of projects"
   ]
  },
  {
   "cell_type": "markdown",
   "metadata": {},
   "source": [
    "We extend the previous example and compute the thermal expansion for three of the available aluminum potentials. First, let us create a new pyiron project named 'Al_potentials'. We can use the information of the previously run job 'Al_T200K' of the 'first_steps' project to find all the compatible potentials."
   ]
  },
  {
   "cell_type": "code",
   "execution_count": 22,
   "metadata": {},
   "outputs": [],
   "source": [
    "pr = Project('Al_potentials')\n",
    "pot_lst = pr['../first_steps/Al_T200K'].list_potentials()[2:5]"
   ]
  },
  {
   "cell_type": "code",
   "execution_count": 23,
   "metadata": {},
   "outputs": [
    {
     "data": {
      "text/plain": [
       "['1995--Angelo-J-E--Ni-Al-H--LAMMPS--ipr1',\n",
       " '1996--Farkas-D--Nb-Ti-Al--LAMMPS--ipr1',\n",
       " '1997--Liu-X-Y--Al-Mg--LAMMPS--ipr1']"
      ]
     },
     "execution_count": 23,
     "metadata": {},
     "output_type": "execute_result"
    }
   ],
   "source": [
    "pot_lst"
   ]
  },
  {
   "cell_type": "markdown",
   "metadata": {},
   "source": [
    "Note again that `list_potentials()` automatically only returns the potentials that are compatible with the structure (chemical species) and the job type."
   ]
  },
  {
   "cell_type": "markdown",
   "metadata": {},
   "source": [
    "We can now loop over the selected potentials and run the MD simulation for the desired temperature values for any of the potentials."
   ]
  },
  {
   "cell_type": "code",
   "execution_count": 24,
   "metadata": {},
   "outputs": [
    {
     "name": "stdout",
     "output_type": "stream",
     "text": [
      "Interatomic potential used:  1995--Angelo-J-E--Ni-Al-H--LAMMPS--ipr1\n"
     ]
    },
    {
     "name": "stderr",
     "output_type": "stream",
     "text": [
      "2022-09-07 15:08:32,819 - pyiron_log - WARNING - The job Al_T200K is being loaded instead of running. To re-run use the argument 'delete_existing_job=True in create_job'\n",
      "2022-09-07 15:08:33,251 - pyiron_log - WARNING - The job Al_T400K is being loaded instead of running. To re-run use the argument 'delete_existing_job=True in create_job'\n",
      "2022-09-07 15:08:33,683 - pyiron_log - WARNING - The job Al_T600K is being loaded instead of running. To re-run use the argument 'delete_existing_job=True in create_job'\n",
      "2022-09-07 15:08:34,122 - pyiron_log - WARNING - The job Al_T800K is being loaded instead of running. To re-run use the argument 'delete_existing_job=True in create_job'\n",
      "2022-09-07 15:08:34,565 - pyiron_log - WARNING - The job Al_T1000K is being loaded instead of running. To re-run use the argument 'delete_existing_job=True in create_job'\n"
     ]
    },
    {
     "name": "stdout",
     "output_type": "stream",
     "text": [
      "Interatomic potential used:  1996--Farkas-D--Nb-Ti-Al--LAMMPS--ipr1\n"
     ]
    },
    {
     "name": "stderr",
     "output_type": "stream",
     "text": [
      "2022-09-07 15:08:34,973 - pyiron_log - WARNING - The job Al_T200K is being loaded instead of running. To re-run use the argument 'delete_existing_job=True in create_job'\n",
      "2022-09-07 15:08:35,422 - pyiron_log - WARNING - The job Al_T400K is being loaded instead of running. To re-run use the argument 'delete_existing_job=True in create_job'\n",
      "2022-09-07 15:08:35,863 - pyiron_log - WARNING - The job Al_T600K is being loaded instead of running. To re-run use the argument 'delete_existing_job=True in create_job'\n",
      "2022-09-07 15:08:36,301 - pyiron_log - WARNING - The job Al_T800K is being loaded instead of running. To re-run use the argument 'delete_existing_job=True in create_job'\n",
      "2022-09-07 15:08:36,721 - pyiron_log - WARNING - The job Al_T1000K is being loaded instead of running. To re-run use the argument 'delete_existing_job=True in create_job'\n"
     ]
    },
    {
     "name": "stdout",
     "output_type": "stream",
     "text": [
      "Interatomic potential used:  1997--Liu-X-Y--Al-Mg--LAMMPS--ipr1\n"
     ]
    },
    {
     "name": "stderr",
     "output_type": "stream",
     "text": [
      "2022-09-07 15:08:37,163 - pyiron_log - WARNING - The job Al_T200K is being loaded instead of running. To re-run use the argument 'delete_existing_job=True in create_job'\n",
      "2022-09-07 15:08:37,597 - pyiron_log - WARNING - The job Al_T400K is being loaded instead of running. To re-run use the argument 'delete_existing_job=True in create_job'\n",
      "2022-09-07 15:08:38,017 - pyiron_log - WARNING - The job Al_T600K is being loaded instead of running. To re-run use the argument 'delete_existing_job=True in create_job'\n",
      "2022-09-07 15:08:38,638 - pyiron_log - WARNING - The job Al_T800K is being loaded instead of running. To re-run use the argument 'delete_existing_job=True in create_job'\n",
      "2022-09-07 15:08:39,066 - pyiron_log - WARNING - The job Al_T1000K is being loaded instead of running. To re-run use the argument 'delete_existing_job=True in create_job'\n"
     ]
    }
   ],
   "source": [
    "for pot in pot_lst:\n",
    "    print ('Interatomic potential used: ',pot)\n",
    "    pr_pot = pr.create_group(pot)\n",
    "    for temperature in np.arange(200, 1200, 200):\n",
    "        job = pr_pot.create_job(pr.job_type.Lammps, \n",
    "                                'Al_T{}K'.format(int(temperature)))\n",
    "        job.structure = supercell_3x3x3\n",
    "        job.potential = pot                \n",
    "        job.calc_md(temperature=temperature, \n",
    "                    pressure=0, \n",
    "                    n_ionic_steps=10000)\n",
    "        job.run()"
   ]
  },
  {
   "cell_type": "markdown",
   "metadata": {},
   "source": [
    "With the `pr.create_group()` command a new subproject (directory) is created named here by the name of the potential. "
   ]
  },
  {
   "cell_type": "markdown",
   "metadata": {},
   "source": [
    "For any particular potential the thermal expansion data can be obtained again by looping over the jobs performed using that potential. To obtain the thermal expansion curves for all the potentials used we can simply iterate over the subprojects (directories) created above by using the `pr.iter_groups()` command."
   ]
  },
  {
   "cell_type": "code",
   "execution_count": 25,
   "metadata": {},
   "outputs": [
    {
     "data": {
      "application/vnd.jupyter.widget-view+json": {
       "model_id": "27cb372184c841f8b72f17baec62c573",
       "version_major": 2,
       "version_minor": 0
      },
      "text/plain": [
       "  0%|          | 0/3 [00:00<?, ?it/s]"
      ]
     },
     "metadata": {},
     "output_type": "display_data"
    },
    {
     "data": {
      "application/vnd.jupyter.widget-view+json": {
       "model_id": "eb24098829df4271a8d7ad8e7b8d968c",
       "version_major": 2,
       "version_minor": 0
      },
      "text/plain": [
       "  0%|          | 0/5 [00:00<?, ?it/s]"
      ]
     },
     "metadata": {},
     "output_type": "display_data"
    },
    {
     "data": {
      "application/vnd.jupyter.widget-view+json": {
       "model_id": "b2a1e09059f5472fa12332a29498a0be",
       "version_major": 2,
       "version_minor": 0
      },
      "text/plain": [
       "  0%|          | 0/5 [00:00<?, ?it/s]"
      ]
     },
     "metadata": {},
     "output_type": "display_data"
    },
    {
     "data": {
      "application/vnd.jupyter.widget-view+json": {
       "model_id": "d938ef16b1a04125bae453e3677dcb79",
       "version_major": 2,
       "version_minor": 0
      },
      "text/plain": [
       "  0%|          | 0/5 [00:00<?, ?it/s]"
      ]
     },
     "metadata": {},
     "output_type": "display_data"
    },
    {
     "data": {
      "image/png": "[encoded data removed]",
      "text/plain": [
       "<Figure size 640x480 with 1 Axes>"
      ]
     },
     "metadata": {},
     "output_type": "display_data"
    }
   ],
   "source": [
    "for p in pr.iter_groups():\n",
    "    vol_lst, temp_lst = [], []\n",
    "    for out in p.iter_jobs(path='output/generic'):\n",
    "        volumes = out['volume']\n",
    "        temperatures = out['temperature']\n",
    "        temp_lst.append(np.mean(temperatures[:-20]))\n",
    "        vol_lst.append(np.mean(volumes[:-20]))\n",
    "    # Plot only if there is a job in that group\n",
    "    if len(p.get_job_ids()) > 0:\n",
    "        plt.plot(temp_lst, vol_lst, \n",
    "                 linestyle='-',marker='o',\n",
    "                 label=p.name) \n",
    "plt.legend(loc='best')    \n",
    "plt.title('Thermal expansion for different interatomic potentials')\n",
    "plt.xlabel('Temperature [K]')\n",
    "plt.ylabel('Volume [$\\AA^3$]');"
   ]
  }
 ],
 "metadata": {
  "anaconda-cloud": {},
  "kernelspec": {
   "display_name": "Python 3 (ipykernel)",
   "language": "python",
   "name": "python3"
  },
  "language_info": {
   "codemirror_mode": {
    "name": "ipython",
    "version": 3
   },
   "file_extension": ".py",
   "mimetype": "text/x-python",
   "name": "python",
   "nbconvert_exporter": "python",
   "pygments_lexer": "ipython3",
   "version": "3.8.13"
  },
  "latex_envs": {
   "LaTeX_envs_menu_present": true,
   "autocomplete": true,
   "bibliofile": "biblio.bib",
   "cite_by": "apalike",
   "current_citInitial": 1,
   "eqLabelWithNumbers": true,
   "eqNumInitial": 1,
   "hotkeys": {
    "equation": "Ctrl-E",
    "itemize": "Ctrl-I"
   },
   "labels_anchors": false,
   "latex_user_defs": false,
   "report_style_numbering": false,
   "user_envs_cfg": false
  },
  "toc": {
   "nav_menu": {
    "height": "122px",
    "width": "252px"
   },
   "number_sections": true,
   "sideBar": true,
   "skip_h1_title": false,
   "toc_cell": false,
   "toc_position": {},
   "toc_section_display": "block",
   "toc_window_display": false
  }
 },
 "nbformat": 4,
 "nbformat_minor": 4
}
