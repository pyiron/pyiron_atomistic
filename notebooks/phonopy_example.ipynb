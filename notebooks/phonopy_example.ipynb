{
 "cells": [
  {
   "cell_type": "markdown",
   "metadata": {},
   "source": [
    "# Phonopy in pyiron\n",
    "\n",
    "We will use the quasi-harmonic approximation (via PyIron's implementation of the popular phonopy package) to evaluate look at thermal expansion and self-diffusion in Aluminium"
   ]
  },
  {
   "cell_type": "code",
   "execution_count": 1,
   "metadata": {
    "ExecuteTime": {
     "end_time": "2020-09-18T12:59:07.964464Z",
     "start_time": "2020-09-18T12:59:06.258589Z"
    }
   },
   "outputs": [
    {
     "data": {
      "application/vnd.jupyter.widget-view+json": {
       "model_id": "67a7a0d3f2a74506bd0cfe5e03cced48",
       "version_major": 2,
       "version_minor": 0
      },
      "text/plain": []
     },
     "metadata": {},
     "output_type": "display_data"
    }
   ],
   "source": [
    "# Generic imports\n",
    "from pyiron_atomistics import Project\n",
    "import numpy as np\n",
    "\n",
    "%matplotlib  inline\n",
    "import matplotlib.pylab as plt\n",
    "import seaborn as sns"
   ]
  },
  {
   "cell_type": "code",
   "execution_count": 2,
   "metadata": {
    "ExecuteTime": {
     "end_time": "2020-09-18T12:59:08.464265Z",
     "start_time": "2020-09-18T12:59:07.965663Z"
    }
   },
   "outputs": [],
   "source": [
    "pr = Project(\"PhonopyExample\")\n",
    "pot = \"2009--Mendelev-M-I--Al-Mg--LAMMPS--ipr1\""
   ]
  },
  {
   "cell_type": "markdown",
   "metadata": {},
   "source": [
    "## Helper functions\n",
    "\n",
    "Because repeating code is evil."
   ]
  },
  {
   "cell_type": "code",
   "execution_count": 3,
   "metadata": {
    "ExecuteTime": {
     "end_time": "2020-09-18T12:59:08.468155Z",
     "start_time": "2020-09-18T12:59:08.465486Z"
    }
   },
   "outputs": [],
   "source": [
    "def make_phonopy_job(template_job, name):\n",
    "    \"\"\"\n",
    "    Create a phonopy job from a reference job.\n",
    "\n",
    "    Args:\n",
    "        template_job (pyiron job): The job to copy.\n",
    "        name (str): What to call this new job.\n",
    "\n",
    "    Returns:\n",
    "        A new phonopy job.\n",
    "    \"\"\"\n",
    "    project = template_job.project\n",
    "\n",
    "    # What I want:\n",
    "    # job_type =  template_job.job_type\n",
    "    # What I have to do instead:\n",
    "    job_type = pr.job_type.Lammps\n",
    "\n",
    "    ref = project.create_job(job_type, name + \"_ref\")\n",
    "    ref.structure = template_job.get_structure().copy()\n",
    "    ref.potential = template_job.potential\n",
    "\n",
    "    phono = project.create_job(pr.job_type.PhonopyJob, name)\n",
    "    phono.ref_job = ref\n",
    "    return phono"
   ]
  },
  {
   "cell_type": "code",
   "execution_count": 4,
   "metadata": {
    "ExecuteTime": {
     "end_time": "2020-09-18T12:59:08.479788Z",
     "start_time": "2020-09-18T12:59:08.469214Z"
    }
   },
   "outputs": [],
   "source": [
    "def scale_array(arr, scaler=None, new_range=1.0):\n",
    "    \"\"\"\n",
    "    Linearly transforms an array so that values equal to the minimum and maximum of the\n",
    "    `scaler` array are mapped to the range (0, `new_range`). Note that rescaled values can\n",
    "    still lie outside this range if the orignal values of `arr` are outside the bounds of\n",
    "    `scaler`.\n",
    "\n",
    "    Args:\n",
    "        arr (np.array): Array to rescale.\n",
    "        scaler (np.array): Array by which to rescale. Default is `arr`.\n",
    "        new_range (float): New value for data which was the size `np.amax(scaler)`.\n",
    "          Default is 1.\n",
    "    \"\"\"\n",
    "    if scaler is None:\n",
    "        scaler = arr\n",
    "    return new_range * (arr - np.amin(scaler)) / np.ptp(scaler)"
   ]
  },
  {
   "cell_type": "markdown",
   "metadata": {},
   "source": [
    "## Thermal Expansion\n",
    "\n",
    "What does the QHA say the lattice constant is as a function of temperature?"
   ]
  },
  {
   "cell_type": "code",
   "execution_count": 5,
   "metadata": {
    "ExecuteTime": {
     "end_time": "2020-09-18T12:59:08.489529Z",
     "start_time": "2020-09-18T12:59:08.480707Z"
    }
   },
   "outputs": [],
   "source": [
    "pr_te = pr.create_group(\"ThermalExpansion\")"
   ]
  },
  {
   "cell_type": "markdown",
   "metadata": {},
   "source": [
    "### Relax the unit cell\n",
    "\n",
    "If we were doing VASP instead it would be important to do the least computation as possible, so here we'll start by relaxing a simple unit cell to turn into a supercell later."
   ]
  },
  {
   "cell_type": "code",
   "execution_count": 6,
   "metadata": {
    "ExecuteTime": {
     "end_time": "2020-09-18T12:59:08.544421Z",
     "start_time": "2020-09-18T12:59:08.490470Z"
    }
   },
   "outputs": [],
   "source": [
    "job_unit = pr_te.create_job(pr.job_type.Lammps, \"UnitCell\")"
   ]
  },
  {
   "cell_type": "code",
   "execution_count": 7,
   "metadata": {
    "ExecuteTime": {
     "end_time": "2020-09-18T12:59:08.680240Z",
     "start_time": "2020-09-18T12:59:08.564634Z"
    }
   },
   "outputs": [
    {
     "name": "stderr",
     "output_type": "stream",
     "text": [
      "/var/folders/9p/rztyv06d0xv4h26cyv8nrw3m0000gq/T/ipykernel_60014/2777024177.py:1: DeprecationWarning: pyiron_atomistics.project.create_structure is deprecated: Use create.structure.* methods instead.\n",
      "  basis = pr_te.create_structure(\"Al\", \"fcc\", 4.04)\n"
     ]
    }
   ],
   "source": [
    "basis = pr_te.create_structure(\"Al\", \"fcc\", 4.04)"
   ]
  },
  {
   "cell_type": "code",
   "execution_count": 8,
   "metadata": {
    "ExecuteTime": {
     "end_time": "2020-09-18T12:59:08.693540Z",
     "start_time": "2020-09-18T12:59:08.681752Z"
    }
   },
   "outputs": [],
   "source": [
    "job_unit.structure = basis\n",
    "job_unit.potential = pot"
   ]
  },
  {
   "cell_type": "code",
   "execution_count": 9,
   "metadata": {
    "ExecuteTime": {
     "end_time": "2020-09-18T12:59:10.353558Z",
     "start_time": "2020-09-18T12:59:08.694650Z"
    }
   },
   "outputs": [
    {
     "name": "stdout",
     "output_type": "stream",
     "text": [
      "The job UnitCell was saved and received the ID: 2\n"
     ]
    }
   ],
   "source": [
    "job_unit.calc_minimize(pressure=0.0)\n",
    "job_unit.run()"
   ]
  },
  {
   "cell_type": "code",
   "execution_count": 10,
   "metadata": {
    "ExecuteTime": {
     "end_time": "2020-09-18T12:59:10.870704Z",
     "start_time": "2020-09-18T12:59:10.354871Z"
    }
   },
   "outputs": [],
   "source": [
    "basis_rel = job_unit.get_structure()"
   ]
  },
  {
   "cell_type": "markdown",
   "metadata": {},
   "source": [
    "### Relax the bulk supercell\n",
    "\n",
    "A relaxation which should take zero steps given our starting position!"
   ]
  },
  {
   "cell_type": "code",
   "execution_count": 11,
   "metadata": {
    "ExecuteTime": {
     "end_time": "2020-09-18T12:59:11.008407Z",
     "start_time": "2020-09-18T12:59:10.871848Z"
    }
   },
   "outputs": [],
   "source": [
    "job_bulk_1 = pr_te.create_job(pr.job_type.Lammps, \"Bulk_1\")\n",
    "# The _1 here refers to the fact that the volume has been rescaled by a factor of \"1.0\"\n",
    "# (i.e. it hasn't been rescaled)"
   ]
  },
  {
   "cell_type": "code",
   "execution_count": 12,
   "metadata": {
    "ExecuteTime": {
     "end_time": "2020-09-18T12:59:11.053838Z",
     "start_time": "2020-09-18T12:59:11.039706Z"
    }
   },
   "outputs": [],
   "source": [
    "n_reps = 3\n",
    "job_bulk_1.structure = basis_rel.repeat(rep=n_reps)\n",
    "job_bulk_1.potential = pot"
   ]
  },
  {
   "cell_type": "code",
   "execution_count": 13,
   "metadata": {
    "ExecuteTime": {
     "end_time": "2020-09-18T12:59:11.214990Z",
     "start_time": "2020-09-18T12:59:11.054669Z"
    }
   },
   "outputs": [],
   "source": [
    "job_bulk_1.structure.plot3d();"
   ]
  },
  {
   "cell_type": "code",
   "execution_count": 14,
   "metadata": {
    "ExecuteTime": {
     "end_time": "2020-09-18T12:59:12.922291Z",
     "start_time": "2020-09-18T12:59:11.215899Z"
    }
   },
   "outputs": [
    {
     "name": "stdout",
     "output_type": "stream",
     "text": [
      "The job Bulk_1 was saved and received the ID: 3\n"
     ]
    }
   ],
   "source": [
    "job_bulk_1.calc_minimize(pressure=0.0)\n",
    "job_bulk_1.run()"
   ]
  },
  {
   "cell_type": "markdown",
   "metadata": {
    "ExecuteTime": {
     "end_time": "2018-12-03T17:28:21.880891Z",
     "start_time": "2018-12-03T17:28:21.877463Z"
    }
   },
   "source": [
    "### Calculate phonons\n",
    "\n",
    "Run phonopy on the bulk supercell"
   ]
  },
  {
   "cell_type": "code",
   "execution_count": 15,
   "metadata": {
    "ExecuteTime": {
     "end_time": "2020-09-18T12:59:13.740880Z",
     "start_time": "2020-09-18T12:59:12.923407Z"
    }
   },
   "outputs": [],
   "source": [
    "phono_bulk_1 = make_phonopy_job(job_bulk_1, \"PhonoBulk_1\")"
   ]
  },
  {
   "cell_type": "code",
   "execution_count": 16,
   "metadata": {
    "ExecuteTime": {
     "end_time": "2020-09-18T12:59:31.496189Z",
     "start_time": "2020-09-18T12:59:13.777006Z"
    }
   },
   "outputs": [
    {
     "name": "stdout",
     "output_type": "stream",
     "text": [
      "The job PhonoBulk_1 was saved and received the ID: 4\n",
      "The job PhonoBulk_1_ref_0 was saved and received the ID: 5\n"
     ]
    }
   ],
   "source": [
    "phono_bulk_1.run()\n",
    "# Run performs a whole bunch of child calculations\n",
    "# Each one has the positions slightly deformed in the symmetry-appropriate ways needed\n",
    "# to get the phonon properties"
   ]
  },
  {
   "cell_type": "code",
   "execution_count": 17,
   "metadata": {
    "ExecuteTime": {
     "end_time": "2020-09-18T12:59:31.831821Z",
     "start_time": "2020-09-18T12:59:31.535391Z"
    }
   },
   "outputs": [],
   "source": [
    "# Let's see what we got...\n",
    "T_min = 0\n",
    "T_max = 800  # a bit below melting\n",
    "T_step = 25\n",
    "temperatures = np.linspace(T_min, T_max, int((T_max - T_min) / T_step))\n",
    "tp_bulk_1 = phono_bulk_1.get_thermal_properties(temperatures=temperatures)\n",
    "# `get_thermal_properties` uses the displacements and forces to generate phonon information"
   ]
  },
  {
   "cell_type": "code",
   "execution_count": 18,
   "metadata": {
    "ExecuteTime": {
     "end_time": "2020-09-18T12:59:32.140572Z",
     "start_time": "2020-09-18T12:59:31.832752Z"
    }
   },
   "outputs": [
    {
     "data": {
      "text/plain": [
       "Text(0, 0.5, 'Free energy  ($U+F_{vib}$)  [eV]')"
      ]
     },
     "execution_count": 18,
     "metadata": {},
     "output_type": "execute_result"
    },
    {
     "data": {
      "image/png": "[encoded data removed]",
      "text/plain": [
       "<Figure size 640x480 with 1 Axes>"
      ]
     },
     "metadata": {},
     "output_type": "display_data"
    }
   ],
   "source": [
    "U_bulk_1 = job_bulk_1.output.energy_pot[-1]\n",
    "Fvib_bulk_1 = tp_bulk_1.free_energies\n",
    "plt.plot(temperatures, U_bulk_1 + Fvib_bulk_1)\n",
    "plt.xlabel(\"Temperature [K]\")\n",
    "plt.ylabel(\"Free energy  ($U+F_{vib}$)  [eV]\")"
   ]
  },
  {
   "cell_type": "markdown",
   "metadata": {},
   "source": [
    "### Calculate thermal expansivity\n",
    "\n",
    "Above we have the (QHA approximation to the) free energy as a function of temperature at a fixed volume. To evaluate the thermal expansivity, we need to create the entire F(V,T) surface. To get this, we just loop over jobs like the above, but scaled to have different lattice constants."
   ]
  },
  {
   "cell_type": "code",
   "execution_count": 19,
   "metadata": {
    "ExecuteTime": {
     "end_time": "2020-09-18T12:59:32.143482Z",
     "start_time": "2020-09-18T12:59:32.141473Z"
    }
   },
   "outputs": [],
   "source": [
    "# According to Wikipedia, the thermal expansivity is about 0.0023% / Kelvin\n",
    "# So at our maximum temperature, we expect around 1.8% expansion\n",
    "scale_min = -0.002\n",
    "scale_max = 0.025\n",
    "scale_step = 0.002\n",
    "scales = np.linspace(scale_min, scale_max, int((scale_max - scale_min) / scale_step))"
   ]
  },
  {
   "cell_type": "code",
   "execution_count": 20,
   "metadata": {
    "ExecuteTime": {
     "end_time": "2020-09-18T12:59:32.154188Z",
     "start_time": "2020-09-18T12:59:32.144385Z"
    }
   },
   "outputs": [],
   "source": [
    "# Let's keep things clean by making another sub-directory\n",
    "pr_scales = pr_te.create_group(\"ScanScales\")"
   ]
  },
  {
   "cell_type": "code",
   "execution_count": 21,
   "metadata": {
    "ExecuteTime": {
     "end_time": "2020-09-18T13:03:32.039458Z",
     "start_time": "2020-09-18T12:59:32.155091Z"
    }
   },
   "outputs": [
    {
     "name": "stdout",
     "output_type": "stream",
     "text": [
      "The job Bulk_m0c002 was saved and received the ID: 6\n",
      "The job PhonoBulk_m0c002 was saved and received the ID: 7\n",
      "The job PhonoBulk_m0c002_ref_0 was saved and received the ID: 8\n",
      "The job Bulk_0c0002500000000000002 was saved and received the ID: 9\n",
      "The job PhonoBulk_0c0002500000000000002 was saved and received the ID: 10\n",
      "The job PhonoBulk_0c0002500000000000002_ref_0 was saved and received the ID: 11\n",
      "The job Bulk_0c0025000000000000005 was saved and received the ID: 12\n",
      "The job PhonoBulk_0c0025000000000000005 was saved and received the ID: 13\n",
      "The job PhonoBulk_0c0025000000000000005_ref_0 was saved and received the ID: 14\n",
      "The job Bulk_0c004750000000000001 was saved and received the ID: 15\n",
      "The job PhonoBulk_0c004750000000000001 was saved and received the ID: 16\n",
      "The job PhonoBulk_0c004750000000000001_ref_0 was saved and received the ID: 17\n",
      "The job Bulk_0c007000000000000001 was saved and received the ID: 18\n",
      "The job PhonoBulk_0c007000000000000001 was saved and received the ID: 19\n",
      "The job PhonoBulk_0c007000000000000001_ref_0 was saved and received the ID: 20\n",
      "The job Bulk_0c009250000000000001 was saved and received the ID: 21\n",
      "The job PhonoBulk_0c009250000000000001 was saved and received the ID: 22\n",
      "The job PhonoBulk_0c009250000000000001_ref_0 was saved and received the ID: 23\n",
      "The job Bulk_0c011500000000000002 was saved and received the ID: 24\n",
      "The job PhonoBulk_0c011500000000000002 was saved and received the ID: 25\n",
      "The job PhonoBulk_0c011500000000000002_ref_0 was saved and received the ID: 26\n",
      "The job Bulk_0c01375 was saved and received the ID: 27\n",
      "The job PhonoBulk_0c01375 was saved and received the ID: 28\n",
      "The job PhonoBulk_0c01375_ref_0 was saved and received the ID: 29\n",
      "The job Bulk_0c016 was saved and received the ID: 30\n",
      "The job PhonoBulk_0c016 was saved and received the ID: 31\n",
      "The job PhonoBulk_0c016_ref_0 was saved and received the ID: 32\n",
      "The job Bulk_0c018250000000000002 was saved and received the ID: 33\n",
      "The job PhonoBulk_0c018250000000000002 was saved and received the ID: 34\n",
      "The job PhonoBulk_0c018250000000000002_ref_0 was saved and received the ID: 35\n",
      "The job Bulk_0c020500000000000004 was saved and received the ID: 36\n",
      "The job PhonoBulk_0c020500000000000004 was saved and received the ID: 37\n",
      "The job PhonoBulk_0c020500000000000004_ref_0 was saved and received the ID: 38\n",
      "The job Bulk_0c02275 was saved and received the ID: 39\n",
      "The job PhonoBulk_0c02275 was saved and received the ID: 40\n",
      "The job PhonoBulk_0c02275_ref_0 was saved and received the ID: 41\n",
      "The job Bulk_0c025 was saved and received the ID: 42\n",
      "The job PhonoBulk_0c025 was saved and received the ID: 43\n",
      "The job PhonoBulk_0c025_ref_0 was saved and received the ID: 44\n"
     ]
    }
   ],
   "source": [
    "# Loop the phonon calculation over all the volumes\n",
    "sc_bulk_rel = job_bulk_1.get_structure()\n",
    "bulk_free_energies = np.zeros((len(scales), len(temperatures)))\n",
    "\n",
    "for i, scale in enumerate(scales):\n",
    "    name_tail = \"_{}\".format(str(scale).replace(\".\", \"c\").replace(\"-\", \"m\"))\n",
    "\n",
    "    # Make a bulk job with the rescaled structure\n",
    "    # (already relaxed, by symmetry won't change, calc static will be enough)\n",
    "    job_bulk = pr_scales.create_job(pr.job_type.Lammps, \"Bulk\" + name_tail)\n",
    "    job_bulk.potential = pot\n",
    "    job_bulk.structure = sc_bulk_rel.apply_strain(epsilon=scale, return_box=True)\n",
    "    job_bulk.calc_static()\n",
    "    job_bulk.run()\n",
    "    U = job_bulk.output.energy_tot[-1]\n",
    "\n",
    "    # Use that job as a reference for a phonopy job\n",
    "    phono_bulk = make_phonopy_job(job_bulk, \"PhonoBulk\" + name_tail)\n",
    "    phono_bulk.run()\n",
    "    tp_bulk = phono_bulk.get_thermal_properties(temperatures=temperatures)\n",
    "    Fvib = tp_bulk.free_energies\n",
    "\n",
    "    # Fill in the row of free energies for this volume\n",
    "    bulk_free_energies[i] = Fvib + U"
   ]
  },
  {
   "cell_type": "code",
   "execution_count": 22,
   "metadata": {
    "ExecuteTime": {
     "end_time": "2020-09-18T13:03:32.082261Z",
     "start_time": "2020-09-18T13:03:32.080073Z"
    }
   },
   "outputs": [],
   "source": [
    "# The lattice constant is probably a more informative value than the 0K-relative strain\n",
    "latts = basis_rel.cell[0][0] * (1 + scales)"
   ]
  },
  {
   "cell_type": "code",
   "execution_count": 23,
   "metadata": {
    "ExecuteTime": {
     "end_time": "2020-09-18T13:03:32.342625Z",
     "start_time": "2020-09-18T13:03:32.084803Z"
    }
   },
   "outputs": [
    {
     "data": {
      "text/plain": [
       "<matplotlib.legend.Legend at 0x16da333d0>"
      ]
     },
     "execution_count": 23,
     "metadata": {},
     "output_type": "execute_result"
    },
    {
     "data": {
      "image/png": "[encoded data removed]",
      "text/plain": [
       "<Figure size 640x480 with 1 Axes>"
      ]
     },
     "metadata": {},
     "output_type": "display_data"
    }
   ],
   "source": [
    "# At each temperature, find the optimal volume by a simple quadratic fit\n",
    "# ...Wait, which order fit will be good enough? Let's just spot-check\n",
    "free_en = bulk_free_energies[:, -1]\n",
    "plt.plot(latts, free_en, color=\"b\", label=\"data\")\n",
    "\n",
    "# We'll plot the fit on a much denser mesh\n",
    "fit_deg = 4\n",
    "p = np.polyfit(latts, free_en, deg=fit_deg)\n",
    "dense_latts = np.linspace(np.amin(latts), np.amax(latts), 1000)\n",
    "# dense_latts = np.linspace(0, 10, 1000)\n",
    "plt.plot(dense_latts, np.polyval(p=p, x=dense_latts), color=\"r\", label=\"fit\")\n",
    "plt.xlabel(\"Lattice constant [$\\mathrm{\\AA}$]\")\n",
    "plt.ylabel(\"Bulk free energy [eV/supercell]\")\n",
    "plt.legend()\n",
    "# Ok, a fourth-order fit seems perfectly reasonable"
   ]
  },
  {
   "cell_type": "code",
   "execution_count": 24,
   "metadata": {
    "ExecuteTime": {
     "end_time": "2020-09-18T13:03:32.354356Z",
     "start_time": "2020-09-18T13:03:32.343977Z"
    }
   },
   "outputs": [],
   "source": [
    "# Now find optimal temperatures\n",
    "best_latts = np.zeros(len(temperatures))\n",
    "best_latt_guess = basis_rel.cell[0][0]\n",
    "for i, T in enumerate(temperatures):\n",
    "    free_en = bulk_free_energies[:, i]\n",
    "    p = np.polyfit(latts, free_en, deg=fit_deg)\n",
    "    extrema = np.roots(np.polyder(p, m=1)).real  # Find where first-derivative is zero\n",
    "    best_latts[i] = extrema[np.argmin(np.abs(extrema - best_latt_guess))]"
   ]
  },
  {
   "cell_type": "code",
   "execution_count": 25,
   "metadata": {
    "ExecuteTime": {
     "end_time": "2020-09-18T13:03:32.357604Z",
     "start_time": "2020-09-18T13:03:32.355334Z"
    }
   },
   "outputs": [
    {
     "name": "stdout",
     "output_type": "stream",
     "text": [
      "4.045270475668763 \n",
      " [4.05959821 4.05963134 4.0600255  4.06101957 4.06247856 4.0642089\n",
      " 4.06606872 4.06796789 4.0698518  4.07168845 4.07345997 4.07515736\n",
      " 4.07677712 4.07831912 4.0797853  4.08117875 4.0825032  4.08376262\n",
      " 4.08496107 4.08610249 4.08719068 4.08822921 4.08922145 4.09017051\n",
      " 4.09107929 4.09195045 4.09278647 4.09358962 4.09436199 4.09510551\n",
      " 4.09582196 4.09651298]\n"
     ]
    }
   ],
   "source": [
    "# Check that they're resonable\n",
    "print(best_latt_guess, \"\\n\", best_latts)"
   ]
  },
  {
   "cell_type": "code",
   "execution_count": 26,
   "metadata": {
    "ExecuteTime": {
     "end_time": "2020-09-18T13:03:32.809046Z",
     "start_time": "2020-09-18T13:03:32.358484Z"
    }
   },
   "outputs": [
    {
     "data": {
      "text/plain": [
       "[<matplotlib.lines.Line2D at 0x155720090>]"
      ]
     },
     "execution_count": 26,
     "metadata": {},
     "output_type": "execute_result"
    },
    {
     "data": {
      "image/png": "[encoded data removed]",
      "text/plain": [
       "<Figure size 640x480 with 2 Axes>"
      ]
     },
     "metadata": {},
     "output_type": "display_data"
    }
   ],
   "source": [
    "# Let's look at the landscape\n",
    "fig, ax = plt.subplots()\n",
    "sns.heatmap(\n",
    "    bulk_free_energies,\n",
    "    ax=ax,\n",
    "    cmap=\"coolwarm\",\n",
    "    xticklabels=[\"{:,.0f}\".format(T) for T in temperatures],\n",
    "    yticklabels=[\"{:,.2f}\".format(a) for a in latts],\n",
    ")\n",
    "ax.set_xlabel(\"Temperature [K]\")\n",
    "ax.set_ylabel(\"Lattice constant [$\\mathrm{\\AA}$]\")\n",
    "\n",
    "# Overlaying the optimal path takes a couple changes of variables\n",
    "# since the heatmap is plotting integer cells\n",
    "\n",
    "\n",
    "ax.plot(\n",
    "    scale_array(temperatures, new_range=len(temperatures)),\n",
    "    scale_array(best_latts, scaler=latts, new_range=len(latts)),\n",
    "    color=\"k\",\n",
    ")"
   ]
  },
  {
   "cell_type": "markdown",
   "metadata": {},
   "source": [
    "## Vacancies and diffusion\n",
    "\n",
    "Another common use of QHA is to calculate the pre-factor for migration in a diffusion event.\n",
    "\n",
    "In particular, the diffusion jump barrier looks like $\\omega_0 = \\nu_0^\\star \\exp(-H_\\mathrm{m} / k_\\mathrm{B} T)$, where $\\nu_0^\\star = \\prod_{i=1}^{3N-3} \\nu_i^\\mathrm{IS} / \\prod_{i=1}^{3N-4} \\nu_i^\\mathrm{TS}$, with IS and TS indicating the initial and transition states, respectively. Note that the transition state is missing a single frequency, which is from the instability of the transition state. It's either an imaginary mode, which I think means a negative frequency. Meanwhile, $H_\\mathrm{m}$ is the enthalpic barrier (difference between the initial and transition states) and $k_\\mathrm{B} T$ is the usual thermal energy term.\n",
    "\n",
    "Typically, these sorts of investigations use the nudged elastic band (NEB) to find the 0K transition state. You can do that with our new flexible jobs, but we'll save that for later. For now we'll just \"approximate\" the transition state with a simple linear interpolation."
   ]
  },
  {
   "cell_type": "markdown",
   "metadata": {
    "ExecuteTime": {
     "end_time": "2018-12-04T13:20:03.212626Z",
     "start_time": "2018-12-04T13:20:03.208808Z"
    }
   },
   "source": [
    "### Stable vacancy structures\n",
    "\n",
    "Let's start by generating and relaxing the initial and final states"
   ]
  },
  {
   "cell_type": "code",
   "execution_count": 27,
   "metadata": {
    "ExecuteTime": {
     "end_time": "2020-09-18T13:03:32.811816Z",
     "start_time": "2020-09-18T13:03:32.809897Z"
    }
   },
   "outputs": [],
   "source": [
    "pr_vac = pr.create_group(\"Vacancies\")"
   ]
  },
  {
   "cell_type": "code",
   "execution_count": 28,
   "metadata": {
    "ExecuteTime": {
     "end_time": "2020-09-18T13:03:32.820053Z",
     "start_time": "2020-09-18T13:03:32.812684Z"
    }
   },
   "outputs": [
    {
     "name": "stdout",
     "output_type": "stream",
     "text": [
      "[0. 0. 0.]\n",
      "[ 2.02263524e+00  2.02263524e+00 -7.63052415e-33]\n"
     ]
    }
   ],
   "source": [
    "# Find two adjacent sites\n",
    "print(job_bulk_1.structure.positions[0])\n",
    "print(job_bulk_1.structure.positions[1])\n",
    "# Yep, 1 and 2 will do"
   ]
  },
  {
   "cell_type": "code",
   "execution_count": 29,
   "metadata": {
    "ExecuteTime": {
     "end_time": "2020-09-18T13:03:33.138996Z",
     "start_time": "2020-09-18T13:03:32.820931Z"
    }
   },
   "outputs": [],
   "source": [
    "job_vac_i = pr_vac.create_job(pr.job_type.Lammps, \"VacancyInitial\")\n",
    "job_vac_f = pr_vac.create_job(pr.job_type.Lammps, \"VacancyFinal\")\n",
    "\n",
    "job_vac_i.potential = pot\n",
    "job_vac_f.potential = pot"
   ]
  },
  {
   "cell_type": "code",
   "execution_count": 30,
   "metadata": {
    "ExecuteTime": {
     "end_time": "2020-09-18T13:03:33.189674Z",
     "start_time": "2020-09-18T13:03:33.177012Z"
    }
   },
   "outputs": [],
   "source": [
    "sc_vac_i = sc_bulk_rel.copy()\n",
    "sc_vac_i.pop(0)\n",
    "job_vac_i.structure = sc_vac_i\n",
    "\n",
    "sc_vac_f = sc_bulk_rel.copy()\n",
    "sc_vac_f.pop(1)\n",
    "job_vac_f.structure = sc_vac_f"
   ]
  },
  {
   "cell_type": "code",
   "execution_count": 31,
   "metadata": {
    "ExecuteTime": {
     "end_time": "2020-09-18T13:03:36.658395Z",
     "start_time": "2020-09-18T13:03:33.190595Z"
    }
   },
   "outputs": [
    {
     "name": "stdout",
     "output_type": "stream",
     "text": [
      "The job VacancyInitial was saved and received the ID: 45\n",
      "The job VacancyFinal was saved and received the ID: 46\n"
     ]
    }
   ],
   "source": [
    "# Relax the new vacancy structures\n",
    "job_vac_i.calc_minimize(pressure=0.0)\n",
    "job_vac_i.run()\n",
    "\n",
    "job_vac_f.calc_minimize(pressure=0.0)\n",
    "job_vac_f.run()"
   ]
  },
  {
   "cell_type": "markdown",
   "metadata": {},
   "source": [
    "### DOS\n",
    "\n",
    "The pyiron implementation of phonopy makes it very easy to look at the DOS. Let's see what the effect is of introducing a vacancy, and confirm that our two vacancies are equivalent."
   ]
  },
  {
   "cell_type": "code",
   "execution_count": 32,
   "metadata": {
    "ExecuteTime": {
     "end_time": "2020-09-18T13:03:38.485230Z",
     "start_time": "2020-09-18T13:03:36.659592Z"
    }
   },
   "outputs": [],
   "source": [
    "phon_vac_i = make_phonopy_job(job_vac_i, \"PhonoVacInitial\")\n",
    "phon_vac_f = make_phonopy_job(job_vac_f, \"PhonoVacFinal\")"
   ]
  },
  {
   "cell_type": "code",
   "execution_count": 33,
   "metadata": {
    "ExecuteTime": {
     "end_time": "2020-09-18T13:05:45.433920Z",
     "start_time": "2020-09-18T13:03:38.511534Z"
    }
   },
   "outputs": [
    {
     "name": "stdout",
     "output_type": "stream",
     "text": [
      "The job PhonoVacInitial was saved and received the ID: 47\n",
      "The job PhonoVacInitial_ref_0 was saved and received the ID: 48\n",
      "The job PhonoVacInitial_ref_1 was saved and received the ID: 49\n",
      "The job PhonoVacInitial_ref_2 was saved and received the ID: 50\n",
      "The job PhonoVacInitial_ref_3 was saved and received the ID: 51\n",
      "The job PhonoVacInitial_ref_4 was saved and received the ID: 52\n",
      "The job PhonoVacInitial_ref_5 was saved and received the ID: 53\n",
      "The job PhonoVacInitial_ref_6 was saved and received the ID: 54\n",
      "The job PhonoVacInitial_ref_7 was saved and received the ID: 55\n",
      "The job PhonoVacInitial_ref_8 was saved and received the ID: 56\n",
      "The job PhonoVacInitial_ref_9 was saved and received the ID: 57\n",
      "The job PhonoVacInitial_ref_10 was saved and received the ID: 58\n",
      "The job PhonoVacInitial_ref_11 was saved and received the ID: 59\n",
      "The job PhonoVacInitial_ref_12 was saved and received the ID: 60\n",
      "The job PhonoVacInitial_ref_13 was saved and received the ID: 61\n",
      "The job PhonoVacInitial_ref_14 was saved and received the ID: 62\n",
      "The job PhonoVacInitial_ref_15 was saved and received the ID: 63\n",
      "The job PhonoVacInitial_ref_16 was saved and received the ID: 64\n",
      "The job PhonoVacInitial_ref_17 was saved and received the ID: 65\n",
      "The job PhonoVacInitial_ref_18 was saved and received the ID: 66\n",
      "The job PhonoVacInitial_ref_19 was saved and received the ID: 67\n",
      "The job PhonoVacInitial_ref_20 was saved and received the ID: 68\n",
      "The job PhonoVacFinal was saved and received the ID: 69\n",
      "The job PhonoVacFinal_ref_0 was saved and received the ID: 70\n",
      "The job PhonoVacFinal_ref_1 was saved and received the ID: 71\n",
      "The job PhonoVacFinal_ref_2 was saved and received the ID: 72\n",
      "The job PhonoVacFinal_ref_3 was saved and received the ID: 73\n",
      "The job PhonoVacFinal_ref_4 was saved and received the ID: 74\n",
      "The job PhonoVacFinal_ref_5 was saved and received the ID: 75\n",
      "The job PhonoVacFinal_ref_6 was saved and received the ID: 76\n",
      "The job PhonoVacFinal_ref_7 was saved and received the ID: 77\n",
      "The job PhonoVacFinal_ref_8 was saved and received the ID: 78\n",
      "The job PhonoVacFinal_ref_9 was saved and received the ID: 79\n",
      "The job PhonoVacFinal_ref_10 was saved and received the ID: 80\n",
      "The job PhonoVacFinal_ref_11 was saved and received the ID: 81\n",
      "The job PhonoVacFinal_ref_12 was saved and received the ID: 82\n",
      "The job PhonoVacFinal_ref_13 was saved and received the ID: 83\n",
      "The job PhonoVacFinal_ref_14 was saved and received the ID: 84\n",
      "The job PhonoVacFinal_ref_15 was saved and received the ID: 85\n",
      "The job PhonoVacFinal_ref_16 was saved and received the ID: 86\n",
      "The job PhonoVacFinal_ref_17 was saved and received the ID: 87\n",
      "The job PhonoVacFinal_ref_18 was saved and received the ID: 88\n",
      "The job PhonoVacFinal_ref_19 was saved and received the ID: 89\n",
      "The job PhonoVacFinal_ref_20 was saved and received the ID: 90\n"
     ]
    }
   ],
   "source": [
    "phon_vac_i.run()\n",
    "tp_vac_i = phon_vac_i.get_thermal_properties(temperatures=temperatures)\n",
    "\n",
    "phon_vac_f.run()\n",
    "tp_vac_f = phon_vac_i.get_thermal_properties(temperatures=temperatures)\n",
    "\n",
    "# Note that the vacancy structures spawn many more child processes\n",
    "# This is because the vacancy structure has lower symmetry"
   ]
  },
  {
   "cell_type": "code",
   "execution_count": 34,
   "metadata": {
    "ExecuteTime": {
     "end_time": "2020-09-18T13:05:48.548880Z",
     "start_time": "2020-09-18T13:05:45.484741Z"
    }
   },
   "outputs": [
    {
     "name": "stderr",
     "output_type": "stream",
     "text": [
      "/var/folders/9p/rztyv06d0xv4h26cyv8nrw3m0000gq/T/ipykernel_60014/3735091431.py:2: DeprecationWarning: pyiron_atomistics.atomistics.master.phonopy.plot_dos(ax=Axes(0.125,0.11;0.775x0.77)) is deprecated.\n",
      "  phono_bulk_1.plot_dos(ax=ax, color='b', label='bulk')\n",
      "/var/folders/9p/rztyv06d0xv4h26cyv8nrw3m0000gq/T/ipykernel_60014/3735091431.py:3: DeprecationWarning: pyiron_atomistics.atomistics.master.phonopy.plot_dos(ax=Axes(0.125,0.11;0.775x0.77)) is deprecated.\n",
      "  phon_vac_i.plot_dos(ax=ax, color='r', label='vac_i')\n",
      "/var/folders/9p/rztyv06d0xv4h26cyv8nrw3m0000gq/T/ipykernel_60014/3735091431.py:4: DeprecationWarning: pyiron_atomistics.atomistics.master.phonopy.plot_dos(ax=Axes(0.125,0.11;0.775x0.77)) is deprecated.\n",
      "  phon_vac_f.plot_dos(ax=ax, color='orange', label='vac_f')\n"
     ]
    },
    {
     "data": {
      "text/plain": [
       "<matplotlib.legend.Legend at 0x16d71dc50>"
      ]
     },
     "execution_count": 34,
     "metadata": {},
     "output_type": "execute_result"
    },
    {
     "data": {
      "image/png": "[encoded data removed]",
      "text/plain": [
       "<Figure size 640x480 with 1 Axes>"
      ]
     },
     "metadata": {},
     "output_type": "display_data"
    }
   ],
   "source": [
    "fig, ax = plt.subplots()\n",
    "phono_bulk_1.plot_dos(ax=ax, color=\"b\", label=\"bulk\")\n",
    "phon_vac_i.plot_dos(ax=ax, color=\"r\", label=\"vac_i\")\n",
    "phon_vac_f.plot_dos(ax=ax, color=\"orange\", label=\"vac_f\")\n",
    "plt.legend()"
   ]
  },
  {
   "cell_type": "markdown",
   "metadata": {},
   "source": [
    "### Attempt frequency\n",
    "\n",
    "Now we get the attempt frequency by comparing the individual phonon spectra of initial and transition states"
   ]
  },
  {
   "cell_type": "code",
   "execution_count": 35,
   "metadata": {
    "ExecuteTime": {
     "end_time": "2020-09-18T13:05:48.556321Z",
     "start_time": "2020-09-18T13:05:48.550018Z"
    }
   },
   "outputs": [],
   "source": [
    "# Interpolate initial and final positions to guesstimate the transition state\n",
    "sc_vac_ts = sc_vac_i.copy()\n",
    "sc_vac_ts.positions = 0.5 * (sc_vac_i.positions + sc_vac_f.positions)"
   ]
  },
  {
   "cell_type": "code",
   "execution_count": 36,
   "metadata": {
    "ExecuteTime": {
     "end_time": "2020-09-18T13:05:48.744939Z",
     "start_time": "2020-09-18T13:05:48.557222Z"
    }
   },
   "outputs": [],
   "source": [
    "job_vac_ts = pr_vac.create_job(pr.job_type.Lammps, \"VacancyTransition\")\n",
    "job_vac_ts.potential = pot\n",
    "job_vac_ts.structure = sc_vac_ts"
   ]
  },
  {
   "cell_type": "code",
   "execution_count": 37,
   "metadata": {
    "ExecuteTime": {
     "end_time": "2020-09-18T13:05:50.583581Z",
     "start_time": "2020-09-18T13:05:48.772853Z"
    }
   },
   "outputs": [
    {
     "name": "stdout",
     "output_type": "stream",
     "text": [
      "The job VacancyTransition was saved and received the ID: 91\n"
     ]
    }
   ],
   "source": [
    "# We _don't_ relax this job, or it would fall into the initial or final state!\n",
    "job_vac_ts.calc_static()\n",
    "job_vac_ts.run()"
   ]
  },
  {
   "cell_type": "code",
   "execution_count": 38,
   "metadata": {
    "ExecuteTime": {
     "end_time": "2020-09-18T13:05:51.437911Z",
     "start_time": "2020-09-18T13:05:50.584958Z"
    }
   },
   "outputs": [],
   "source": [
    "phon_vac_ts = make_phonopy_job(job_vac_ts, \"PhonoVacTransition\")"
   ]
  },
  {
   "cell_type": "code",
   "execution_count": 39,
   "metadata": {
    "ExecuteTime": {
     "end_time": "2020-09-18T13:10:42.482617Z",
     "start_time": "2020-09-18T13:05:51.463800Z"
    },
    "scrolled": true
   },
   "outputs": [
    {
     "name": "stdout",
     "output_type": "stream",
     "text": [
      "The job PhonoVacTransition was saved and received the ID: 92\n",
      "The job PhonoVacTransition_ref_0 was saved and received the ID: 93\n",
      "The job PhonoVacTransition_ref_1 was saved and received the ID: 94\n",
      "The job PhonoVacTransition_ref_2 was saved and received the ID: 95\n",
      "The job PhonoVacTransition_ref_3 was saved and received the ID: 96\n",
      "The job PhonoVacTransition_ref_4 was saved and received the ID: 97\n",
      "The job PhonoVacTransition_ref_5 was saved and received the ID: 98\n",
      "The job PhonoVacTransition_ref_6 was saved and received the ID: 99\n",
      "The job PhonoVacTransition_ref_7 was saved and received the ID: 100\n",
      "The job PhonoVacTransition_ref_8 was saved and received the ID: 101\n",
      "The job PhonoVacTransition_ref_9 was saved and received the ID: 102\n",
      "The job PhonoVacTransition_ref_10 was saved and received the ID: 103\n",
      "The job PhonoVacTransition_ref_11 was saved and received the ID: 104\n",
      "The job PhonoVacTransition_ref_12 was saved and received the ID: 105\n",
      "The job PhonoVacTransition_ref_13 was saved and received the ID: 106\n",
      "The job PhonoVacTransition_ref_14 was saved and received the ID: 107\n",
      "The job PhonoVacTransition_ref_15 was saved and received the ID: 108\n",
      "The job PhonoVacTransition_ref_16 was saved and received the ID: 109\n",
      "The job PhonoVacTransition_ref_17 was saved and received the ID: 110\n",
      "The job PhonoVacTransition_ref_18 was saved and received the ID: 111\n",
      "The job PhonoVacTransition_ref_19 was saved and received the ID: 112\n",
      "The job PhonoVacTransition_ref_20 was saved and received the ID: 113\n",
      "The job PhonoVacTransition_ref_21 was saved and received the ID: 114\n",
      "The job PhonoVacTransition_ref_22 was saved and received the ID: 115\n",
      "The job PhonoVacTransition_ref_23 was saved and received the ID: 116\n",
      "The job PhonoVacTransition_ref_24 was saved and received the ID: 117\n",
      "The job PhonoVacTransition_ref_25 was saved and received the ID: 118\n",
      "The job PhonoVacTransition_ref_26 was saved and received the ID: 119\n",
      "The job PhonoVacTransition_ref_27 was saved and received the ID: 120\n",
      "The job PhonoVacTransition_ref_28 was saved and received the ID: 121\n",
      "The job PhonoVacTransition_ref_29 was saved and received the ID: 122\n",
      "The job PhonoVacTransition_ref_30 was saved and received the ID: 123\n",
      "The job PhonoVacTransition_ref_31 was saved and received the ID: 124\n",
      "The job PhonoVacTransition_ref_32 was saved and received the ID: 125\n",
      "The job PhonoVacTransition_ref_33 was saved and received the ID: 126\n",
      "The job PhonoVacTransition_ref_34 was saved and received the ID: 127\n",
      "The job PhonoVacTransition_ref_35 was saved and received the ID: 128\n",
      "The job PhonoVacTransition_ref_36 was saved and received the ID: 129\n",
      "The job PhonoVacTransition_ref_37 was saved and received the ID: 130\n",
      "The job PhonoVacTransition_ref_38 was saved and received the ID: 131\n",
      "The job PhonoVacTransition_ref_39 was saved and received the ID: 132\n",
      "The job PhonoVacTransition_ref_40 was saved and received the ID: 133\n",
      "The job PhonoVacTransition_ref_41 was saved and received the ID: 134\n",
      "The job PhonoVacTransition_ref_42 was saved and received the ID: 135\n",
      "The job PhonoVacTransition_ref_43 was saved and received the ID: 136\n",
      "The job PhonoVacTransition_ref_44 was saved and received the ID: 137\n",
      "The job PhonoVacTransition_ref_45 was saved and received the ID: 138\n",
      "The job PhonoVacTransition_ref_46 was saved and received the ID: 139\n",
      "The job PhonoVacTransition_ref_47 was saved and received the ID: 140\n",
      "The job PhonoVacTransition_ref_48 was saved and received the ID: 141\n",
      "The job PhonoVacTransition_ref_49 was saved and received the ID: 142\n",
      "The job PhonoVacTransition_ref_50 was saved and received the ID: 143\n",
      "The job PhonoVacTransition_ref_51 was saved and received the ID: 144\n",
      "The job PhonoVacTransition_ref_52 was saved and received the ID: 145\n",
      "The job PhonoVacTransition_ref_53 was saved and received the ID: 146\n",
      "The job PhonoVacTransition_ref_54 was saved and received the ID: 147\n",
      "The job PhonoVacTransition_ref_55 was saved and received the ID: 148\n",
      "The job PhonoVacTransition_ref_56 was saved and received the ID: 149\n",
      "The job PhonoVacTransition_ref_57 was saved and received the ID: 150\n",
      "The job PhonoVacTransition_ref_58 was saved and received the ID: 151\n",
      "The job PhonoVacTransition_ref_59 was saved and received the ID: 152\n",
      "The job PhonoVacTransition_ref_60 was saved and received the ID: 153\n",
      "The job PhonoVacTransition_ref_61 was saved and received the ID: 154\n",
      "The job PhonoVacTransition_ref_62 was saved and received the ID: 155\n",
      "The job PhonoVacTransition_ref_63 was saved and received the ID: 156\n",
      "The job PhonoVacTransition_ref_64 was saved and received the ID: 157\n",
      "The job PhonoVacTransition_ref_65 was saved and received the ID: 158\n",
      "The job PhonoVacTransition_ref_66 was saved and received the ID: 159\n",
      "The job PhonoVacTransition_ref_67 was saved and received the ID: 160\n",
      "The job PhonoVacTransition_ref_68 was saved and received the ID: 161\n",
      "The job PhonoVacTransition_ref_69 was saved and received the ID: 162\n",
      "The job PhonoVacTransition_ref_70 was saved and received the ID: 163\n",
      "The job PhonoVacTransition_ref_71 was saved and received the ID: 164\n",
      "The job PhonoVacTransition_ref_72 was saved and received the ID: 165\n",
      "The job PhonoVacTransition_ref_73 was saved and received the ID: 166\n",
      "The job PhonoVacTransition_ref_74 was saved and received the ID: 167\n",
      "The job PhonoVacTransition_ref_75 was saved and received the ID: 168\n",
      "The job PhonoVacTransition_ref_76 was saved and received the ID: 169\n",
      "The job PhonoVacTransition_ref_77 was saved and received the ID: 170\n",
      "The job PhonoVacTransition_ref_78 was saved and received the ID: 171\n",
      "The job PhonoVacTransition_ref_79 was saved and received the ID: 172\n",
      "The job PhonoVacTransition_ref_80 was saved and received the ID: 173\n",
      "The job PhonoVacTransition_ref_81 was saved and received the ID: 174\n",
      "The job PhonoVacTransition_ref_82 was saved and received the ID: 175\n",
      "The job PhonoVacTransition_ref_83 was saved and received the ID: 176\n",
      "The job PhonoVacTransition_ref_84 was saved and received the ID: 177\n",
      "The job PhonoVacTransition_ref_85 was saved and received the ID: 178\n",
      "The job PhonoVacTransition_ref_86 was saved and received the ID: 179\n",
      "The job PhonoVacTransition_ref_87 was saved and received the ID: 180\n",
      "The job PhonoVacTransition_ref_88 was saved and received the ID: 181\n",
      "The job PhonoVacTransition_ref_89 was saved and received the ID: 182\n",
      "The job PhonoVacTransition_ref_90 was saved and received the ID: 183\n",
      "The job PhonoVacTransition_ref_91 was saved and received the ID: 184\n",
      "The job PhonoVacTransition_ref_92 was saved and received the ID: 185\n",
      "The job PhonoVacTransition_ref_93 was saved and received the ID: 186\n",
      "The job PhonoVacTransition_ref_94 was saved and received the ID: 187\n"
     ]
    }
   ],
   "source": [
    "phon_vac_ts.run()\n",
    "tp_vac_ts = phon_vac_ts.get_thermal_properties(temperatures=temperatures)"
   ]
  },
  {
   "cell_type": "code",
   "execution_count": 40,
   "metadata": {
    "ExecuteTime": {
     "end_time": "2020-09-18T13:10:49.293924Z",
     "start_time": "2020-09-18T13:10:42.523671Z"
    }
   },
   "outputs": [
    {
     "name": "stderr",
     "output_type": "stream",
     "text": [
      "/var/folders/9p/rztyv06d0xv4h26cyv8nrw3m0000gq/T/ipykernel_60014/2028323302.py:3: DeprecationWarning: pyiron_atomistics.atomistics.master.phonopy.plot_dos(ax=Axes(0.125,0.11;0.775x0.77)) is deprecated.\n",
      "  phon_vac_i.plot_dos(ax=ax, color='r', label='initial')\n",
      "/var/folders/9p/rztyv06d0xv4h26cyv8nrw3m0000gq/T/ipykernel_60014/2028323302.py:4: DeprecationWarning: pyiron_atomistics.atomistics.master.phonopy.plot_dos(ax=Axes(0.125,0.11;0.775x0.77)) is deprecated.\n",
      "  phon_vac_ts.plot_dos(ax=ax, color='b', label='transition')\n"
     ]
    },
    {
     "data": {
      "text/plain": [
       "<matplotlib.legend.Legend at 0x155961a10>"
      ]
     },
     "execution_count": 40,
     "metadata": {},
     "output_type": "execute_result"
    },
    {
     "data": {
      "image/png": "[encoded data removed]",
      "text/plain": [
       "<Figure size 640x480 with 1 Axes>"
      ]
     },
     "metadata": {},
     "output_type": "display_data"
    }
   ],
   "source": [
    "# The transition state has an imaginary mode (frequency < 0), let's see it\n",
    "fig, ax = plt.subplots()\n",
    "phon_vac_i.plot_dos(ax=ax, color=\"r\", label=\"initial\")\n",
    "phon_vac_ts.plot_dos(ax=ax, color=\"b\", label=\"transition\")\n",
    "plt.legend()"
   ]
  },
  {
   "cell_type": "markdown",
   "metadata": {},
   "source": [
    "To calculate the attempt frequency, we'll ignore both the negative mode of the transition state (which we were warned about in the equation), as well as the three frequencies which correspond to rigid translation and are very near zero, and sometimes dip to be negative. Phonopy sorts the frequencies by magnitude, so we can just skip the first three and four for the initial and transition states, respectively. We take them at q=0."
   ]
  },
  {
   "cell_type": "code",
   "execution_count": 41,
   "metadata": {
    "ExecuteTime": {
     "end_time": "2020-09-18T13:10:49.562681Z",
     "start_time": "2020-09-18T13:10:49.295061Z"
    }
   },
   "outputs": [],
   "source": [
    "freq_i = phon_vac_i.phonopy.get_frequencies((0, 0, 0))[3:]\n",
    "freq_ts = phon_vac_i.phonopy.get_frequencies((0, 0, 0))[4:]"
   ]
  },
  {
   "cell_type": "code",
   "execution_count": 42,
   "metadata": {
    "ExecuteTime": {
     "end_time": "2020-09-18T13:10:49.605262Z",
     "start_time": "2020-09-18T13:10:49.565072Z"
    }
   },
   "outputs": [
    {
     "name": "stdout",
     "output_type": "stream",
     "text": [
      "6.870476287488258e+236\n"
     ]
    }
   ],
   "source": [
    "print(np.prod(freq_i))"
   ]
  },
  {
   "cell_type": "markdown",
   "metadata": {},
   "source": [
    "Recall: $\\nu_0^\\star = \\prod_{i=1}^{3N-3} \\nu_i^\\mathrm{IS} / \\prod_{i=1}^{3N-4} \\nu_i^\\mathrm{TS}$"
   ]
  },
  {
   "cell_type": "code",
   "execution_count": 43,
   "metadata": {
    "ExecuteTime": {
     "end_time": "2020-09-18T13:10:49.675719Z",
     "start_time": "2020-09-18T13:10:49.606232Z"
    }
   },
   "outputs": [
    {
     "name": "stdout",
     "output_type": "stream",
     "text": [
      "Attempt frequency is  2.682686767439414 THz (10^-12 s)\n"
     ]
    }
   ],
   "source": [
    "# Products are dangerous beasts, so we'll do a little numeric magic\n",
    "nu = np.prod(freq_i[:-1] / freq_ts) * freq_i[-1]\n",
    "print(\"Attempt frequency is \", nu, \"THz (10^-12 s)\")"
   ]
  },
  {
   "cell_type": "markdown",
   "metadata": {},
   "source": [
    "Mantina *et al.* (PRL 2008) report $\\nu = 19.3$ THz using DFT and NEB, so our linearly-interpolated \"transition state\" with EAM is actually not doing so poorly.\n",
    "\n",
    "There are many more things you can do with phonopy, including looking directly at the force constants, the Hessian matrix, etc. But hopefully this is a useful starting point."
   ]
  },
  {
   "cell_type": "code",
   "execution_count": null,
   "metadata": {},
   "outputs": [],
   "source": []
  }
 ],
 "metadata": {
  "kernelspec": {
   "display_name": "Python 3 (ipykernel)",
   "language": "python",
   "name": "python3"
  },
  "language_info": {
   "codemirror_mode": {
    "name": "ipython",
    "version": 3
   },
   "file_extension": ".py",
   "mimetype": "text/x-python",
   "name": "python",
   "nbconvert_exporter": "python",
   "pygments_lexer": "ipython3",
   "version": "3.11.8"
  },
  "latex_envs": {
   "LaTeX_envs_menu_present": true,
   "autoclose": false,
   "autocomplete": true,
   "bibliofile": "biblio.bib",
   "cite_by": "apalike",
   "current_citInitial": 1,
   "eqLabelWithNumbers": true,
   "eqNumInitial": 1,
   "hotkeys": {
    "equation": "Ctrl-E",
    "itemize": "Ctrl-I"
   },
   "labels_anchors": false,
   "latex_user_defs": false,
   "report_style_numbering": false,
   "user_envs_cfg": false
  },
  "toc": {
   "base_numbering": 1,
   "nav_menu": {},
   "number_sections": true,
   "sideBar": true,
   "skip_h1_title": false,
   "title_cell": "Table of Contents",
   "title_sidebar": "Contents",
   "toc_cell": false,
   "toc_position": {},
   "toc_section_display": true,
   "toc_window_display": false
  }
 },
 "nbformat": 4,
 "nbformat_minor": 4
}
