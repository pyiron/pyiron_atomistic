{
 "cells": [
  {
   "cell_type": "code",
   "execution_count": 1,
   "metadata": {},
   "outputs": [],
   "source": [
    "from pyiron_atomistics import Project"
   ]
  },
  {
   "cell_type": "code",
   "execution_count": 2,
   "metadata": {},
   "outputs": [],
   "source": [
    "pr = Project(\"sqs\")"
   ]
  },
  {
   "cell_type": "code",
   "execution_count": 4,
   "metadata": {},
   "outputs": [],
   "source": [
    "ni_fcc = pr.create_ase_bulk(\"Ni\", cubic=True)\n",
    "ni_fcc.set_repeat([2, 2, 2])"
   ]
  },
  {
   "cell_type": "code",
   "execution_count": 5,
   "metadata": {},
   "outputs": [
    {
     "name": "stdout",
     "output_type": "stream",
     "text": [
      "The job ni_cr_fcc_sqs was saved and received the ID: 1\n",
      "Mole fractions were corrected to: {'Cr': 0.1875, 'Ni': 0.8125}\n",
      "Threads used: 2\n"
     ]
    }
   ],
   "source": [
    "job = pr.create_job(pr.job_type.SQSJob, \"ni_cr_fcc_sqs\")\n",
    "job.structure = ni_fcc\n",
    "job.input[\"mole_fractions\"] = {\"Ni\": 0.8, \"Cr\": 0.2}\n",
    "job.input[\"iterations\"] = 1e6\n",
    "job.server.cores = 2\n",
    "job.run()"
   ]
  },
  {
   "cell_type": "code",
   "execution_count": 6,
   "metadata": {},
   "outputs": [
    {
     "data": {
      "text/plain": [
       "{'groups': ['structures'], 'nodes': ['cycle_time', 'decmp', 'iterations']}"
      ]
     },
     "execution_count": 6,
     "metadata": {},
     "output_type": "execute_result"
    }
   ],
   "source": [
    "job[\"output\"]"
   ]
  },
  {
   "cell_type": "code",
   "execution_count": 7,
   "metadata": {},
   "outputs": [
    {
     "data": {
      "text/plain": [
       "2.912881374359131e-06"
      ]
     },
     "execution_count": 7,
     "metadata": {},
     "output_type": "execute_result"
    }
   ],
   "source": [
    "job[\"output/cycle_time\"]"
   ]
  },
  {
   "cell_type": "code",
   "execution_count": 8,
   "metadata": {},
   "outputs": [
    {
     "data": {
      "text/plain": [
       "[{'Cr-Ni': [0.008547008547007184,\n",
       "   0.021367521367521458,\n",
       "   -0.03133903133903149,\n",
       "   0.010683760683760729,\n",
       "   -0.04615384615384613]}]"
      ]
     },
     "execution_count": 8,
     "metadata": {},
     "output_type": "execute_result"
    }
   ],
   "source": [
    "job[\"output/decmp\"]"
   ]
  },
  {
   "cell_type": "code",
   "execution_count": 9,
   "metadata": {},
   "outputs": [
    {
     "data": {
      "text/plain": [
       "1000000.0"
      ]
     },
     "execution_count": 9,
     "metadata": {},
     "output_type": "execute_result"
    }
   ],
   "source": [
    "job[\"output/iterations\"]"
   ]
  },
  {
   "cell_type": "code",
   "execution_count": 10,
   "metadata": {},
   "outputs": [
    {
     "data": {
      "text/html": [
       "<div>\n",
       "<style scoped>\n",
       "    .dataframe tbody tr th:only-of-type {\n",
       "        vertical-align: middle;\n",
       "    }\n",
       "\n",
       "    .dataframe tbody tr th {\n",
       "        vertical-align: top;\n",
       "    }\n",
       "\n",
       "    .dataframe thead th {\n",
       "        text-align: right;\n",
       "    }\n",
       "</style>\n",
       "<table border=\"1\" class=\"dataframe\">\n",
       "  <thead>\n",
       "    <tr style=\"text-align: right;\">\n",
       "      <th></th>\n",
       "      <th>id</th>\n",
       "      <th>status</th>\n",
       "      <th>chemicalformula</th>\n",
       "      <th>job</th>\n",
       "      <th>subjob</th>\n",
       "      <th>projectpath</th>\n",
       "      <th>project</th>\n",
       "      <th>timestart</th>\n",
       "      <th>timestop</th>\n",
       "      <th>totalcputime</th>\n",
       "      <th>computer</th>\n",
       "      <th>hamilton</th>\n",
       "      <th>hamversion</th>\n",
       "      <th>parentid</th>\n",
       "      <th>masterid</th>\n",
       "    </tr>\n",
       "  </thead>\n",
       "  <tbody>\n",
       "    <tr>\n",
       "      <th>0</th>\n",
       "      <td>1</td>\n",
       "      <td>finished</td>\n",
       "      <td>Ni32</td>\n",
       "      <td>ni_cr_fcc_sqs</td>\n",
       "      <td>/ni_cr_fcc_sqs</td>\n",
       "      <td>/home/jovyan/</td>\n",
       "      <td>sqs/</td>\n",
       "      <td>2020-08-14 05:30:36.751378</td>\n",
       "      <td>2020-08-14 05:30:39.933046</td>\n",
       "      <td>3.0</td>\n",
       "      <td>pyiron@jupyter-pyiron-2dpyiron-2d12gf1xyo#2</td>\n",
       "      <td>AtomisticGenericJob</td>\n",
       "      <td>0.1</td>\n",
       "      <td>None</td>\n",
       "      <td>None</td>\n",
       "    </tr>\n",
       "  </tbody>\n",
       "</table>\n",
       "</div>"
      ],
      "text/plain": [
       "   id    status chemicalformula            job          subjob    projectpath  \\\n",
       "0   1  finished            Ni32  ni_cr_fcc_sqs  /ni_cr_fcc_sqs  /home/jovyan/   \n",
       "\n",
       "  project                  timestart                   timestop  totalcputime  \\\n",
       "0    sqs/ 2020-08-14 05:30:36.751378 2020-08-14 05:30:39.933046           3.0   \n",
       "\n",
       "                                      computer             hamilton  \\\n",
       "0  pyiron@jupyter-pyiron-2dpyiron-2d12gf1xyo#2  AtomisticGenericJob   \n",
       "\n",
       "  hamversion parentid masterid  \n",
       "0        0.1     None     None  "
      ]
     },
     "execution_count": 10,
     "metadata": {},
     "output_type": "execute_result"
    }
   ],
   "source": [
    "pr.job_table()"
   ]
  }
 ],
 "metadata": {
  "kernelspec": {
   "display_name": "Python 3",
   "language": "python",
   "name": "python3"
  },
  "language_info": {
   "codemirror_mode": {
    "name": "ipython",
    "version": 3
   },
   "file_extension": ".py",
   "mimetype": "text/x-python",
   "name": "python",
   "nbconvert_exporter": "python",
   "pygments_lexer": "ipython3",
   "version": "3.7.8"
  }
 },
 "nbformat": 4,
 "nbformat_minor": 4
}