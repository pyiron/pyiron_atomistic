{
 "cells": [
  {
   "cell_type": "markdown",
   "metadata": {},
   "source": [
    "# Molecular dynamics simulations of bulk water\n",
    "\n",
    "In this example, we show how to perform molecular dynamics of bulk water using the popular interatomic TIP3P potential\n",
    "([W. L. Jorgensen et. al.](https://doi.org/10.1063/1.445869)) and [LAMMPS](http://lammps.sandia.gov/)."
   ]
  },
  {
   "cell_type": "code",
   "execution_count": 1,
   "metadata": {},
   "outputs": [],
   "source": [
    "import numpy as np\n",
    "\n",
    "%matplotlib inline \n",
    "import matplotlib.pylab as plt\n",
    "from pyiron_atomistics import Project\n",
    "import ase.units as units\n",
    "import pandas"
   ]
  },
  {
   "cell_type": "code",
   "execution_count": 2,
   "metadata": {},
   "outputs": [],
   "source": [
    "pr = Project(\"tip3p_water\")"
   ]
  },
  {
   "cell_type": "markdown",
   "metadata": {},
   "source": [
    "## Creating the initial structure\n",
    "\n",
    "We will setup a cubic simulation box consisting of 27 water molecules density density is 1 g/cm$^3$. The target density is achieved by determining the required size of the simulation cell and repeating it in all three spatial dimensions"
   ]
  },
  {
   "cell_type": "code",
   "execution_count": 3,
   "metadata": {},
   "outputs": [
    {
     "data": {
      "application/vnd.jupyter.widget-view+json": {
       "model_id": "89aa5565a8384b5693970a7a5664fba9",
       "version_major": 2,
       "version_minor": 0
      },
      "text/plain": []
     },
     "metadata": {},
     "output_type": "display_data"
    },
    {
     "data": {
      "application/vnd.jupyter.widget-view+json": {
       "model_id": "707bbf57e7174bf68263179508d40234",
       "version_major": 2,
       "version_minor": 0
      },
      "text/plain": [
       "NGLWidget()"
      ]
     },
     "metadata": {},
     "output_type": "display_data"
    }
   ],
   "source": [
    "density = 1.0e-24  # g/A^3\n",
    "n_mols = 27\n",
    "mol_mass_water = 18.015  # g/mol\n",
    "\n",
    "# Determining the supercell size size\n",
    "mass = mol_mass_water * n_mols / units.mol  # g\n",
    "vol_h2o = mass / density  # in A^3\n",
    "a = vol_h2o ** (1.0 / 3.0)  # A\n",
    "\n",
    "# Constructing the unitcell\n",
    "n = int(round(n_mols ** (1.0 / 3.0)))\n",
    "\n",
    "dx = 0.7\n",
    "r_O = [0, 0, 0]\n",
    "r_H1 = [dx, dx, 0]\n",
    "r_H2 = [-dx, dx, 0]\n",
    "unit_cell = (a / n) * np.eye(3)\n",
    "water = pr.create_atoms(\n",
    "    elements=[\"H\", \"H\", \"O\"], positions=[r_H1, r_H2, r_O], cell=unit_cell, pbc=True\n",
    ")\n",
    "water.set_repeat([n, n, n])\n",
    "water.plot3d()"
   ]
  },
  {
   "cell_type": "code",
   "execution_count": 4,
   "metadata": {},
   "outputs": [
    {
     "data": {
      "text/plain": [
       "'H54O27'"
      ]
     },
     "execution_count": 4,
     "metadata": {},
     "output_type": "execute_result"
    }
   ],
   "source": [
    "water.get_chemical_formula()"
   ]
  },
  {
   "cell_type": "markdown",
   "metadata": {},
   "source": [
    "## Equilibrate water structure\n",
    "\n",
    "The initial water structure is obviously a poor starting point and requires equilibration (Due to the highly artificial structure a MD simulation with a standard time step of 1fs shows poor convergence). Molecular dynamics using a time step that is two orders of magnitude smaller allows us to generate an equilibrated water structure. We use the NVT ensemble for this calculation:"
   ]
  },
  {
   "cell_type": "code",
   "execution_count": 5,
   "metadata": {},
   "outputs": [],
   "source": [
    "water_potential = pandas.DataFrame(\n",
    "    {\n",
    "        \"Name\": [\"H2O_tip3p\"],\n",
    "        \"Filename\": [[]],\n",
    "        \"Model\": [\"TIP3P\"],\n",
    "        \"Species\": [[\"H\", \"O\"]],\n",
    "        \"Config\": [\n",
    "            [\n",
    "                \"# @potential_species H_O ### species in potential\\n\",\n",
    "                \"# W.L. Jorgensen et.al., The Journal of Chemical Physics 79, 926 (1983); https://doi.org/10.1063/1.445869\\n\",\n",
    "                \"#\\n\",\n",
    "                \"\\n\",\n",
    "                \"units real\\n\",\n",
    "                \"dimension 3\\n\",\n",
    "                \"atom_style full\\n\",\n",
    "                \"\\n\",\n",
    "                \"# create groups ###\\n\",\n",
    "                \"group O type 2\\n\",\n",
    "                \"group H type 1\\n\",\n",
    "                \"\\n\",\n",
    "                \"## set charges - beside manually ###\\n\",\n",
    "                \"set group O charge -0.830\\n\",\n",
    "                \"set group H charge 0.415\\n\",\n",
    "                \"\\n\",\n",
    "                \"### TIP3P Potential Parameters ###\\n\",\n",
    "                \"pair_style lj/cut/coul/long 10.0\\n\",\n",
    "                \"pair_coeff * * 0.0 0.0 \\n\",\n",
    "                \"pair_coeff 2 2 0.102 3.188 \\n\",\n",
    "                \"bond_style harmonic\\n\",\n",
    "                \"bond_coeff 1 450 0.9572\\n\",\n",
    "                \"angle_style harmonic\\n\",\n",
    "                \"angle_coeff 1 55 104.52\\n\",\n",
    "                \"kspace_style pppm 1.0e-5\\n\",\n",
    "                \"\\n\",\n",
    "            ]\n",
    "        ],\n",
    "    }\n",
    ")"
   ]
  },
  {
   "cell_type": "code",
   "execution_count": 6,
   "metadata": {},
   "outputs": [
    {
     "name": "stderr",
     "output_type": "stream",
     "text": [
      "/srv/conda/envs/notebook/lib/python3.7/site-packages/pyiron/lammps/base.py:170: UserWarning: WARNING: Non-'metal' units are not fully supported. Your calculation should run OK, but results may not be saved in pyiron units.\n",
      "  \"WARNING: Non-'metal' units are not fully supported. Your calculation should run OK, but \"\n"
     ]
    }
   ],
   "source": [
    "job_name = \"water_slow\"\n",
    "ham = pr.create_job(\"Lammps\", job_name)\n",
    "ham.structure = water\n",
    "ham.potential = water_potential"
   ]
  },
  {
   "cell_type": "code",
   "execution_count": 7,
   "metadata": {},
   "outputs": [
    {
     "name": "stdout",
     "output_type": "stream",
     "text": [
      "The job water_slow was saved and received the ID: 1\n"
     ]
    }
   ],
   "source": [
    "ham.calc_md(temperature=300, n_ionic_steps=1e4, time_step=0.01)\n",
    "ham.run()"
   ]
  },
  {
   "cell_type": "code",
   "execution_count": 8,
   "metadata": {
    "scrolled": true
   },
   "outputs": [
    {
     "data": {
      "application/vnd.jupyter.widget-view+json": {
       "model_id": "4eb876d7df744ab4a8e47da346cb02b2",
       "version_major": 2,
       "version_minor": 0
      },
      "text/plain": [
       "NGLWidget()"
      ]
     },
     "metadata": {},
     "output_type": "display_data"
    }
   ],
   "source": [
    "view = ham.animate_structure()\n",
    "view"
   ]
  },
  {
   "cell_type": "markdown",
   "metadata": {},
   "source": [
    "## Full equilibration\n",
    "\n",
    "At the end of this simulation, we have obtained a structure that approximately resembles water. Now we increase the time step to get a reasonably equilibrated structure "
   ]
  },
  {
   "cell_type": "code",
   "execution_count": 9,
   "metadata": {},
   "outputs": [
    {
     "name": "stdout",
     "output_type": "stream",
     "text": [
      "The job water_fast was saved and received the ID: 2\n"
     ]
    }
   ],
   "source": [
    "# Get the final structure from the previous simulation\n",
    "struct = ham.get_structure(iteration_step=-1)\n",
    "job_name = \"water_fast\"\n",
    "ham_eq = pr.create_job(\"Lammps\", job_name)\n",
    "ham_eq.structure = struct\n",
    "ham_eq.potential = water_potential\n",
    "ham_eq.calc_md(temperature=300, n_ionic_steps=1e4, n_print=10, time_step=1)\n",
    "ham_eq.run()"
   ]
  },
  {
   "cell_type": "code",
   "execution_count": 10,
   "metadata": {},
   "outputs": [
    {
     "data": {
      "application/vnd.jupyter.widget-view+json": {
       "model_id": "cd96be9a5a654dfcb69546d8a77d0e0a",
       "version_major": 2,
       "version_minor": 0
      },
      "text/plain": [
       "NGLWidget(max_frame=1000)"
      ]
     },
     "metadata": {},
     "output_type": "display_data"
    }
   ],
   "source": [
    "view = ham_eq.animate_structure()\n",
    "view"
   ]
  },
  {
   "cell_type": "markdown",
   "metadata": {},
   "source": [
    "We can now plot the trajectories"
   ]
  },
  {
   "cell_type": "code",
   "execution_count": 11,
   "metadata": {},
   "outputs": [
    {
     "data": {
      "image/png": "[encoded data removed]",
      "text/plain": [
       "<Figure size 432x288 with 1 Axes>"
      ]
     },
     "metadata": {
      "needs_background": "light"
     },
     "output_type": "display_data"
    }
   ],
   "source": [
    "plt.plot(ham_eq[\"output/generic/energy_pot\"])\n",
    "plt.xlabel(\"Steps\")\n",
    "plt.ylabel(\"Potential energy [eV]\");"
   ]
  },
  {
   "cell_type": "code",
   "execution_count": 12,
   "metadata": {},
   "outputs": [
    {
     "data": {
      "image/png": "[encoded data removed]",
      "text/plain": [
       "<Figure size 432x288 with 1 Axes>"
      ]
     },
     "metadata": {
      "needs_background": "light"
     },
     "output_type": "display_data"
    }
   ],
   "source": [
    "plt.plot(ham_eq[\"output/generic/temperature\"])\n",
    "plt.xlabel(\"Steps\")\n",
    "plt.ylabel(\"Temperature [K]\");"
   ]
  },
  {
   "cell_type": "markdown",
   "metadata": {},
   "source": [
    "## Structure analysis\n",
    "\n",
    "We will now use the `get_neighbors()` function to determine structural properties from the final structure of the simulation. We take advantage of the fact that the TIP3P water model is a rigid water model which means the nearest neighbors, i.e. the bound H atoms, of each O atom never change. Therefore they need to be indexed only once."
   ]
  },
  {
   "cell_type": "code",
   "execution_count": 13,
   "metadata": {},
   "outputs": [],
   "source": [
    "final_struct = ham_eq.get_structure(iteration_step=-1)\n",
    "\n",
    "# Get the indices based on species\n",
    "O_indices = final_struct.select_index(\"O\")\n",
    "H_indices = final_struct.select_index(\"H\")\n",
    "\n",
    "# Getting only the first two neighbors\n",
    "neighbors = final_struct.get_neighbors(num_neighbors=2)"
   ]
  },
  {
   "cell_type": "markdown",
   "metadata": {},
   "source": [
    "### Distribution of the O-H bond length\n",
    "\n",
    "Every O atom has two H atoms as immediate neighbors. The distribution of this bond length is obtained by:"
   ]
  },
  {
   "cell_type": "code",
   "execution_count": 14,
   "metadata": {},
   "outputs": [
    {
     "data": {
      "image/png": "[encoded data removed]",
      "text/plain": [
       "<Figure size 432x288 with 1 Axes>"
      ]
     },
     "metadata": {
      "needs_background": "light"
     },
     "output_type": "display_data"
    }
   ],
   "source": [
    "bins = np.linspace(0.5, 1.5, 100)\n",
    "plt.hist(neighbors.distances[O_indices].flatten(), bins=bins)\n",
    "plt.xlim(0.5, 1.5)\n",
    "plt.xlabel(r\"d$_{OH}$ [$\\AA$]\")\n",
    "plt.ylabel(\"Count\");"
   ]
  },
  {
   "cell_type": "markdown",
   "metadata": {},
   "source": [
    "### Distribution of the O-O bond lengths\n",
    "\n",
    "We need to extend the analysis to go beyond nearest neighbors. We do this by using the number of neighbors in a specified cutoff distance"
   ]
  },
  {
   "cell_type": "code",
   "execution_count": 15,
   "metadata": {},
   "outputs": [],
   "source": [
    "num_neighbors = final_struct.get_numbers_of_neighbors_in_sphere(cutoff_radius=9).max()"
   ]
  },
  {
   "cell_type": "code",
   "execution_count": 16,
   "metadata": {},
   "outputs": [],
   "source": [
    "neighbors = final_struct.get_neighbors(num_neighbors)"
   ]
  },
  {
   "cell_type": "code",
   "execution_count": 17,
   "metadata": {},
   "outputs": [],
   "source": [
    "neigh_indices = np.hstack(np.array(neighbors.indices)[O_indices])\n",
    "neigh_distances = np.hstack(np.array(neighbors.distances)[O_indices])"
   ]
  },
  {
   "cell_type": "markdown",
   "metadata": {},
   "source": [
    "One is often intended in an element specific pair correlation function. To obtain for example, the O-O coordination function, we do the following:"
   ]
  },
  {
   "cell_type": "code",
   "execution_count": 18,
   "metadata": {},
   "outputs": [],
   "source": [
    "# Getting the neighboring Oxyhen indices\n",
    "O_neigh_indices = np.in1d(neigh_indices, O_indices)\n",
    "O_neigh_distances = neigh_distances[O_neigh_indices]"
   ]
  },
  {
   "cell_type": "code",
   "execution_count": 19,
   "metadata": {},
   "outputs": [
    {
     "data": {
      "image/png": "[encoded data removed]",
      "text/plain": [
       "<Figure size 432x288 with 1 Axes>"
      ]
     },
     "metadata": {
      "needs_background": "light"
     },
     "output_type": "display_data"
    }
   ],
   "source": [
    "bins = np.linspace(1, 8, 120)\n",
    "count = plt.hist(O_neigh_distances, bins=bins)\n",
    "plt.xlim(2, 4)\n",
    "plt.title(\"O-O pair correlation\")\n",
    "plt.xlabel(r\"d$_{OO}$ [$\\AA$]\")\n",
    "plt.ylabel(\"Count\");"
   ]
  },
  {
   "cell_type": "markdown",
   "metadata": {},
   "source": [
    "We now extent our analysis to include statistically independent snapshots along the trajectory. This allows to obtain the radial pair distribution function of O-O distances in the NVT ensamble."
   ]
  },
  {
   "cell_type": "code",
   "execution_count": 20,
   "metadata": {},
   "outputs": [],
   "source": [
    "traj = ham_eq[\"output/generic/positions\"]\n",
    "nsteps = len(traj)\n",
    "stepincrement = int(nsteps / 10)\n",
    "# Start sampling snaphots after some equilibration time; do not double count last step.\n",
    "snapshots = range(stepincrement, nsteps - stepincrement, stepincrement)"
   ]
  },
  {
   "cell_type": "code",
   "execution_count": 21,
   "metadata": {},
   "outputs": [],
   "source": [
    "for i in snapshots:\n",
    "    struct.positions = traj[i]\n",
    "    neighbors = struct.get_neighbors(num_neighbors)\n",
    "    neigh_indices = np.hstack(np.array(neighbors.indices)[O_indices])\n",
    "    neigh_distances = np.hstack(np.array(neighbors.distances)[O_indices])\n",
    "    O_neigh_indices = np.in1d(neigh_indices, O_indices)\n",
    "    # collect all distances in the same array\n",
    "    O_neigh_distances = np.concatenate(\n",
    "        (O_neigh_distances, neigh_distances[O_neigh_indices])\n",
    "    )"
   ]
  },
  {
   "cell_type": "markdown",
   "metadata": {},
   "source": [
    "To obtain a radial pair distribution function ($g(r)$), one has to normalize by the volume of the surfce increment of the sphere ($4\\pi r^2\\Delta r$) and by the number of species, samples, and the number density."
   ]
  },
  {
   "cell_type": "code",
   "execution_count": 22,
   "metadata": {},
   "outputs": [],
   "source": [
    "O_gr = np.histogram(O_neigh_distances, bins=bins)\n",
    "dr = O_gr[1][1] - O_gr[1][0]\n",
    "normfac = (n / a) ** 3 * n**3 * 4 * np.pi * dr * (len(snapshots) + 1)\n",
    "# (n/a)**3            number density\n",
    "# n**3                number of species\n",
    "# (len(snapshots)+1)  number of samples (we also use final_struct)"
   ]
  },
  {
   "cell_type": "code",
   "execution_count": 23,
   "metadata": {},
   "outputs": [
    {
     "data": {
      "image/png": "[encoded data removed]",
      "text/plain": [
       "<Figure size 432x288 with 1 Axes>"
      ]
     },
     "metadata": {
      "needs_background": "light"
     },
     "output_type": "display_data"
    }
   ],
   "source": [
    "plt.bar(O_gr[1][0:-1], O_gr[0] / (normfac * O_gr[1][0:-1] ** 2), dr)\n",
    "plt.xlim(2, 7)\n",
    "plt.title(\"O-O pair correlation\")\n",
    "plt.xlabel(r\"d$_{OO}$ [$\\AA$]\")\n",
    "plt.ylabel(\"$g_{OO}(r)$\");"
   ]
  },
  {
   "cell_type": "code",
   "execution_count": null,
   "metadata": {},
   "outputs": [],
   "source": []
  }
 ],
 "metadata": {
  "kernelspec": {
   "display_name": "Python 3",
   "language": "python",
   "name": "python3"
  },
  "language_info": {
   "codemirror_mode": {
    "name": "ipython",
    "version": 3
   },
   "file_extension": ".py",
   "mimetype": "text/x-python",
   "name": "python",
   "nbconvert_exporter": "python",
   "pygments_lexer": "ipython3",
   "version": "3.8.5"
  },
  "latex_envs": {
   "LaTeX_envs_menu_present": true,
   "autocomplete": true,
   "bibliofile": "biblio.bib",
   "cite_by": "apalike",
   "current_citInitial": 1,
   "eqLabelWithNumbers": true,
   "eqNumInitial": 1,
   "hotkeys": {
    "equation": "Ctrl-E",
    "itemize": "Ctrl-I"
   },
   "labels_anchors": false,
   "latex_user_defs": false,
   "report_style_numbering": false,
   "user_envs_cfg": false
  },
  "toc": {
   "nav_menu": {},
   "number_sections": true,
   "sideBar": true,
   "skip_h1_title": false,
   "toc_cell": false,
   "toc_position": {},
   "toc_section_display": "block",
   "toc_window_display": false
  }
 },
 "nbformat": 4,
 "nbformat_minor": 2
}