{
 "cells": [
  {
   "cell_type": "markdown",
   "id": "aac09aec",
   "metadata": {},
   "source": [
    "This notebook compares the outputs from two static LAMMPS jobs one of which is an interactive job. Then outputs from the interactive and non-interactive jobs are checked for consistency."
   ]
  },
  {
   "cell_type": "code",
   "execution_count": 1,
   "id": "fae5d383",
   "metadata": {},
   "outputs": [],
   "source": [
    "from pyiron_atomistics import Project\n",
    "import numpy as np\n",
    "import pandas"
   ]
  },
  {
   "cell_type": "code",
   "execution_count": 2,
   "id": "8dfd305c",
   "metadata": {},
   "outputs": [],
   "source": [
    "pr = Project(\"water_interactive\")\n",
    "pr.remove_jobs_silently()"
   ]
  },
  {
   "cell_type": "code",
   "execution_count": 3,
   "id": "70c65c55",
   "metadata": {},
   "outputs": [],
   "source": [
    "dx = 0.7\n",
    "cell = np.eye(3) * 10\n",
    "r_O = [0, 0, 0]\n",
    "r_H1 = [dx, dx, 0]\n",
    "r_H2 = [-dx, dx, 0]\n",
    "water = pr.create_atoms(\n",
    "    elements=[\"H\", \"H\", \"O\"], positions=[r_H1, r_H2, r_O], cell=cell, pbc=True\n",
    ")"
   ]
  },
  {
   "cell_type": "code",
   "execution_count": 4,
   "id": "8589ee0f",
   "metadata": {},
   "outputs": [],
   "source": [
    "water_potential = pandas.DataFrame(\n",
    "    {\n",
    "        \"Name\": [\"H2O_tip3p\"],\n",
    "        \"Filename\": [[]],\n",
    "        \"Model\": [\"TIP3P\"],\n",
    "        \"Species\": [[\"H\", \"O\"]],\n",
    "        \"Config\": [\n",
    "            [\n",
    "                \"# @potential_species H_O ### species in potential\\n\",\n",
    "                \"# W.L. Jorgensen et.al., The Journal of Chemical Physics 79, 926 (1983); https://doi.org/10.1063/1.445869\\n\",\n",
    "                \"#\\n\",\n",
    "                \"\\n\",\n",
    "                \"units real\\n\",\n",
    "                \"dimension 3\\n\",\n",
    "                \"atom_style full\\n\",\n",
    "                \"\\n\",\n",
    "                \"# create groups ###\\n\",\n",
    "                \"group O type 2\\n\",\n",
    "                \"group H type 1\\n\",\n",
    "                \"\\n\",\n",
    "                \"## set charges - beside manually ###\\n\",\n",
    "                \"set group O charge -0.830\\n\",\n",
    "                \"set group H charge 0.415\\n\",\n",
    "                \"\\n\",\n",
    "                \"### TIP3P Potential Parameters ###\\n\",\n",
    "                \"pair_style lj/cut/coul/long 10.0\\n\",\n",
    "                \"pair_coeff * * 0.0 0.0 \\n\",\n",
    "                \"pair_coeff 2 2 0.102 3.188 \\n\",\n",
    "                \"bond_style harmonic\\n\",\n",
    "                \"bond_coeff 1 450 0.9572\\n\",\n",
    "                \"angle_style harmonic\\n\",\n",
    "                \"angle_coeff 1 55 104.52\\n\",\n",
    "                \"kspace_style pppm 1.0e-5\\n\",\n",
    "                \"\\n\",\n",
    "            ]\n",
    "        ],\n",
    "    }\n",
    ")"
   ]
  },
  {
   "cell_type": "code",
   "execution_count": 5,
   "id": "b42a1310",
   "metadata": {},
   "outputs": [
    {
     "name": "stderr",
     "output_type": "stream",
     "text": [
      "/cmmc/u/chandu/programs/pyiron_mpie/pyiron_atomistics/pyiron_atomistics/lammps/base.py:210: UserWarning: WARNING: Non-'metal' units are not fully supported. Your calculation should run OK, but results may not be saved in pyiron units.\n",
      "  \"WARNING: Non-'metal' units are not fully supported. Your calculation should run OK, but \"\n"
     ]
    },
    {
     "name": "stdout",
     "output_type": "stream",
     "text": [
      "The job test was saved and received the ID: 15925922\n"
     ]
    }
   ],
   "source": [
    "# Interactive job\n",
    "job_int = pr.create.job.Lammps(\"test\", delete_existing_job=True)\n",
    "job_int.structure = water\n",
    "job_int.potential = water_potential\n",
    "job_int.interactive_open()\n",
    "job_int.interactive_water_bonds = True\n",
    "job_int.calc_static()\n",
    "job_int.run()\n",
    "job_int.interactive_close()"
   ]
  },
  {
   "cell_type": "code",
   "execution_count": 6,
   "id": "29dfc790",
   "metadata": {},
   "outputs": [
    {
     "name": "stdout",
     "output_type": "stream",
     "text": [
      "The job test_ni was saved and received the ID: 15925923\n"
     ]
    }
   ],
   "source": [
    "# Non-interactive job\n",
    "job = pr.create.job.Lammps(\"test_ni\", delete_existing_job=True)\n",
    "job.structure = water\n",
    "job.potential = water_potential\n",
    "job.calc_static()\n",
    "job.run()"
   ]
  },
  {
   "cell_type": "code",
   "execution_count": 7,
   "id": "a3a61855",
   "metadata": {},
   "outputs": [
    {
     "name": "stdout",
     "output_type": "stream",
     "text": [
      "cells\n",
      "energy_pot\n",
      "energy_tot\n",
      "forces\n",
      "indices\n",
      "positions\n",
      "pressures\n",
      "steps\n",
      "temperature\n",
      "volume\n"
     ]
    }
   ],
   "source": [
    "# Assert that the unit converstions work even in the interactive mode\n",
    "\n",
    "int_nodes = job_int[\"output/generic\"].list_nodes()\n",
    "usual_nodes = job[\"output/generic\"].list_nodes()\n",
    "for node in int_nodes:\n",
    "    if node in usual_nodes:\n",
    "        print(node)\n",
    "        assert np.allclose(\n",
    "            job_int[\"output/generic/\" + node], job[\"output/generic/\" + node]\n",
    "        )"
   ]
  },
  {
   "cell_type": "code",
   "execution_count": null,
   "id": "ae9d3022-35e0-4a29-ac87-fcac153a8e65",
   "metadata": {},
   "outputs": [],
   "source": []
  }
 ],
 "metadata": {
  "kernelspec": {
   "display_name": "Python 3 (ipykernel)",
   "language": "python",
   "name": "python3"
  },
  "language_info": {
   "codemirror_mode": {
    "name": "ipython",
    "version": 3
   },
   "file_extension": ".py",
   "mimetype": "text/x-python",
   "name": "python",
   "nbconvert_exporter": "python",
   "pygments_lexer": "ipython3",
   "version": "3.7.10"
  }
 },
 "nbformat": 4,
 "nbformat_minor": 5
}
