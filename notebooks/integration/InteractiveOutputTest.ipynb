{
 "cells": [
  {
   "cell_type": "code",
   "execution_count": 1,
   "metadata": {},
   "outputs": [],
   "source": [
    "from pyiron_atomistics import Project"
   ]
  },
  {
   "cell_type": "code",
   "execution_count": 2,
   "metadata": {},
   "outputs": [],
   "source": [
    "pr = Project(\"interactive_test\")"
   ]
  },
  {
   "cell_type": "code",
   "execution_count": 3,
   "metadata": {},
   "outputs": [],
   "source": [
    "j = pr.create.job.Lammps(\"test\", delete_existing_job=True)\n",
    "j.structure = pr.create.structure.ase_bulk(\"Fe\", cubic=True).repeat(5)\n",
    "j.potential = j.list_potentials()[0]"
   ]
  },
  {
   "cell_type": "code",
   "execution_count": 5,
   "metadata": {},
   "outputs": [],
   "source": [
    "j.interactive_open()"
   ]
  },
  {
   "cell_type": "code",
   "execution_count": 6,
   "metadata": {},
   "outputs": [],
   "source": [
    "j.calc_static()"
   ]
  },
  {
   "cell_type": "code",
   "execution_count": 7,
   "metadata": {},
   "outputs": [
    {
     "name": "stdout",
     "output_type": "stream",
     "text": [
      "The job test was saved and received the ID: 12398489\n"
     ]
    }
   ],
   "source": [
    "j.run()"
   ]
  },
  {
   "cell_type": "code",
   "execution_count": 8,
   "metadata": {},
   "outputs": [
    {
     "name": "stdout",
     "output_type": "stream",
     "text": [
      "[3.71924713e-15 3.74700271e-15 3.94129174e-15]\n",
      "[[1.43500000e+01 8.78684078e-16 8.78684078e-16]\n",
      " [0.00000000e+00 1.43500000e+01 8.78684078e-16]\n",
      " [0.00000000e+00 0.00000000e+00 1.43500000e+01]]\n",
      "[-1.1965685 -1.1965685 -1.1965685]\n",
      "[[1.43500000e+01 8.78684078e-16 8.78684078e-16]\n",
      " [0.00000000e+00 1.43500000e+01 8.78684078e-16]\n",
      " [0.00000000e+00 0.00000000e+00 1.43500000e+01]]\n",
      "[-2.79928334 -2.79928334 -2.79928334]\n",
      "[[1.43500000e+01 8.78684078e-16 8.78684078e-16]\n",
      " [0.00000000e+00 1.43500000e+01 8.78684078e-16]\n",
      " [0.00000000e+00 0.00000000e+00 1.43500000e+01]]\n",
      "[-4.71680983 -4.71680983 -4.71680983]\n",
      "[[1.43500000e+01 8.78684078e-16 8.78684078e-16]\n",
      " [0.00000000e+00 1.43500000e+01 8.78684078e-16]\n",
      " [0.00000000e+00 0.00000000e+00 1.43500000e+01]]\n",
      "[-6.80569708 -6.80569708 -6.80569708]\n",
      "[[1.43500000e+01 8.78684078e-16 8.78684078e-16]\n",
      " [0.00000000e+00 1.43500000e+01 8.78684078e-16]\n",
      " [0.00000000e+00 0.00000000e+00 1.43500000e+01]]\n",
      "[-9.19348199 -9.19348199 -9.19348199]\n",
      "[[1.43500000e+01 8.78684078e-16 8.78684078e-16]\n",
      " [0.00000000e+00 1.43500000e+01 8.78684078e-16]\n",
      " [0.00000000e+00 0.00000000e+00 1.43500000e+01]]\n",
      "[-12.09910681 -12.09910681 -12.09910681]\n",
      "[[1.43500000e+01 8.78684078e-16 8.78684078e-16]\n",
      " [0.00000000e+00 1.43500000e+01 8.78684078e-16]\n",
      " [0.00000000e+00 0.00000000e+00 1.43500000e+01]]\n",
      "[-15.71895897 -15.71895897 -15.71895897]\n",
      "[[1.43500000e+01 8.78684078e-16 8.78684078e-16]\n",
      " [0.00000000e+00 1.43500000e+01 8.78684078e-16]\n",
      " [0.00000000e+00 0.00000000e+00 1.43500000e+01]]\n",
      "[-19.97204134 -19.97204134 -19.97204134]\n",
      "[[1.43500000e+01 8.78684078e-16 8.78684078e-16]\n",
      " [0.00000000e+00 1.43500000e+01 8.78684078e-16]\n",
      " [0.00000000e+00 0.00000000e+00 1.43500000e+01]]\n",
      "[-24.57943325 -24.57943325 -24.57943325]\n",
      "[[1.43500000e+01 8.78684078e-16 8.78684078e-16]\n",
      " [0.00000000e+00 1.43500000e+01 8.78684078e-16]\n",
      " [0.00000000e+00 0.00000000e+00 1.43500000e+01]]\n"
     ]
    }
   ],
   "source": [
    "for i in range(10):\n",
    "    assert j.output.forces.shape[0] == i + 1, \"Forces shape does not match number of taken steps\"\n",
    "    assert j.output.cells.shape[0] == i + 1, \"Cells shape does not match number of taken steps\"\n",
    "    j.structure.positions[0, :] += [0.1, 0.1, 0.1]\n",
    "    j.run()"
   ]
  },
  {
   "cell_type": "code",
   "execution_count": 9,
   "metadata": {},
   "outputs": [],
   "source": [
    "j.interactive_close()"
   ]
  },
  {
   "cell_type": "code",
   "execution_count": 10,
   "metadata": {},
   "outputs": [
    {
     "data": {
      "text/plain": [
       "((11, 250, 3), (11, 3, 3))"
      ]
     },
     "execution_count": 10,
     "metadata": {},
     "output_type": "execute_result"
    }
   ],
   "source": [
    "j.output.forces.shape, j.output.cells.shape"
   ]
  },
  {
   "cell_type": "code",
   "execution_count": 11,
   "metadata": {},
   "outputs": [],
   "source": [
    "jl = pr.load(j.name)"
   ]
  },
  {
   "cell_type": "code",
   "execution_count": 13,
   "metadata": {},
   "outputs": [
    {
     "data": {
      "text/plain": [
       "((11, 250, 3), (11, 3, 3))"
      ]
     },
     "execution_count": 13,
     "metadata": {},
     "output_type": "execute_result"
    }
   ],
   "source": [
    "jl.output.forces.shape, jl.output.cells.shape"
   ]
  },
  {
   "cell_type": "markdown",
   "metadata": {},
   "source": [
    "Check that forces and cells (their properties have different code paths in InteractiveOutput) have the same shape after reloading,\n",
    "if that's not the case some of the cached results are not getting written to HDF or are not returned."
   ]
  },
  {
   "cell_type": "code",
   "execution_count": null,
   "metadata": {},
   "outputs": [],
   "source": [
    "assert j.output.forces.shape == jl.output.forces.shape, \"Forces shape not identical after re-loading the job\"\n",
    "assert j.output.cells.shape == jl.output.cells.shape, \"Cells shape not identical after re-loading the job\""
   ]
  }
 ],
 "metadata": {
  "kernelspec": {
   "display_name": "Python 3",
   "language": "python",
   "name": "python3"
  },
  "language_info": {
   "codemirror_mode": {
    "name": "ipython",
    "version": 3
   },
   "file_extension": ".py",
   "mimetype": "text/x-python",
   "name": "python",
   "nbconvert_exporter": "python",
   "pygments_lexer": "ipython3",
   "version": "3.9.2"
  },
  "widgets": {
   "application/vnd.jupyter.widget-state+json": {
    "state": {},
    "version_major": 2,
    "version_minor": 0
   }
  }
 },
 "nbformat": 4,
 "nbformat_minor": 5
}
